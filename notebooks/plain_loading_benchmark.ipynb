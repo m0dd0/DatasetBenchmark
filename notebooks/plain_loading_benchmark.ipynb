{
 "cells": [
  {
   "cell_type": "code",
   "execution_count": 1,
   "metadata": {},
   "outputs": [
    {
     "name": "stderr",
     "output_type": "stream",
     "text": [
      "c:\\users\\zomhesch\\documents\\repos\\datasetbenchmark\\dataset_benchmark\\datasets.py:7: TqdmExperimentalWarning: Using `tqdm.autonotebook.tqdm` in notebook mode. Use `tqdm.tqdm` instead to force console mode (e.g. in jupyter console)\n",
      "  from tqdm.autonotebook import tqdm, trange\n"
     ]
    }
   ],
   "source": [
    "%load_ext autoreload\n",
    "%autoreload 2\n",
    "\n",
    "import pandas as pd\n",
    "import seaborn as sns\n",
    "from matplotlib import pyplot as plt\n",
    "\n",
    "from dataset_benchmark.datasets import NpzBenchmarkDataset, HfArrowBenchmarkDataset, Hdf5BenchmarkDatset\n",
    "from dataset_benchmark.evaluation import evaluate_plain_loading"
   ]
  },
  {
   "cell_type": "code",
   "execution_count": 2,
   "metadata": {},
   "outputs": [
    {
     "data": {
      "application/vnd.jupyter.widget-view+json": {
       "model_id": "f370ef1a343b461fa7e5c758c58f75f7",
       "version_major": 2,
       "version_minor": 0
      },
      "text/plain": [
       "dataset_class:   0%|          | 0/2 [00:00<?, ?it/s]"
      ]
     },
     "metadata": {},
     "output_type": "display_data"
    },
    {
     "data": {
      "application/vnd.jupyter.widget-view+json": {
       "model_id": "348bc3b4f47f443ba9dff25ffe1399e9",
       "version_major": 2,
       "version_minor": 0
      },
      "text/plain": [
       "n_rows:   0%|          | 0/4 [00:00<?, ?it/s]"
      ]
     },
     "metadata": {},
     "output_type": "display_data"
    },
    {
     "data": {
      "application/vnd.jupyter.widget-view+json": {
       "model_id": "d65395c8bde24038a185f2df03df28e6",
       "version_major": 2,
       "version_minor": 0
      },
      "text/plain": [
       "n_values_per_row:   0%|          | 0/8 [00:00<?, ?it/s]"
      ]
     },
     "metadata": {},
     "output_type": "display_data"
    },
    {
     "data": {
      "application/vnd.jupyter.widget-view+json": {
       "model_id": "360716cb9a464daf992b0b2eb0c091e5",
       "version_major": 2,
       "version_minor": 0
      },
      "text/plain": [
       "shuffle:   0%|          | 0/2 [00:00<?, ?it/s]"
      ]
     },
     "metadata": {},
     "output_type": "display_data"
    },
    {
     "data": {
      "application/vnd.jupyter.widget-view+json": {
       "model_id": "0fffc417c02647cf89ee9226fca672bc",
       "version_major": 2,
       "version_minor": 0
      },
      "text/plain": [
       "Creating npz dataset:   0%|          | 0/10 [00:00<?, ?it/s]"
      ]
     },
     "metadata": {},
     "output_type": "display_data"
    },
    {
     "data": {
      "application/vnd.jupyter.widget-view+json": {
       "model_id": "f1d02a184cce470d9dec7c78460c7e16",
       "version_major": 2,
       "version_minor": 0
      },
      "text/plain": [
       "repeats:   0%|          | 0/2 [00:00<?, ?it/s]"
      ]
     },
     "metadata": {},
     "output_type": "display_data"
    },
    {
     "data": {
      "application/vnd.jupyter.widget-view+json": {
       "model_id": "88a8600d6aae4317b04f0e734a3db190",
       "version_major": 2,
       "version_minor": 0
      },
      "text/plain": [
       "reading:   0%|          | 0/10 [00:00<?, ?it/s]"
      ]
     },
     "metadata": {},
     "output_type": "display_data"
    },
    {
     "data": {
      "application/vnd.jupyter.widget-view+json": {
       "model_id": "5ac7546c27a1414da894aa7847e75651",
       "version_major": 2,
       "version_minor": 0
      },
      "text/plain": [
       "reading:   0%|          | 0/10 [00:00<?, ?it/s]"
      ]
     },
     "metadata": {},
     "output_type": "display_data"
    },
    {
     "data": {
      "application/vnd.jupyter.widget-view+json": {
       "model_id": "ef053ee8d5aa489b9d5893dfebc386fc",
       "version_major": 2,
       "version_minor": 0
      },
      "text/plain": [
       "Deleting npz dataset:   0%|          | 0/10 [00:00<?, ?it/s]"
      ]
     },
     "metadata": {},
     "output_type": "display_data"
    },
    {
     "data": {
      "application/vnd.jupyter.widget-view+json": {
       "model_id": "65b3562b7f144cae8f66a43df4150b82",
       "version_major": 2,
       "version_minor": 0
      },
      "text/plain": [
       "Creating npz dataset:   0%|          | 0/10 [00:00<?, ?it/s]"
      ]
     },
     "metadata": {},
     "output_type": "display_data"
    },
    {
     "data": {
      "application/vnd.jupyter.widget-view+json": {
       "model_id": "c7a08084b9e442c5aa8337b6b699a927",
       "version_major": 2,
       "version_minor": 0
      },
      "text/plain": [
       "repeats:   0%|          | 0/2 [00:00<?, ?it/s]"
      ]
     },
     "metadata": {},
     "output_type": "display_data"
    },
    {
     "data": {
      "application/vnd.jupyter.widget-view+json": {
       "model_id": "94c061a83eed436fbf5a6a97fd012063",
       "version_major": 2,
       "version_minor": 0
      },
      "text/plain": [
       "reading:   0%|          | 0/10 [00:00<?, ?it/s]"
      ]
     },
     "metadata": {},
     "output_type": "display_data"
    },
    {
     "data": {
      "application/vnd.jupyter.widget-view+json": {
       "model_id": "b973b770cb8646c797dc5770b4aec8de",
       "version_major": 2,
       "version_minor": 0
      },
      "text/plain": [
       "reading:   0%|          | 0/10 [00:00<?, ?it/s]"
      ]
     },
     "metadata": {},
     "output_type": "display_data"
    },
    {
     "data": {
      "application/vnd.jupyter.widget-view+json": {
       "model_id": "7a1aa6199ff54a0ba78893e34cb4fefc",
       "version_major": 2,
       "version_minor": 0
      },
      "text/plain": [
       "Deleting npz dataset:   0%|          | 0/10 [00:00<?, ?it/s]"
      ]
     },
     "metadata": {},
     "output_type": "display_data"
    },
    {
     "data": {
      "application/vnd.jupyter.widget-view+json": {
       "model_id": "807424853f3f403d983a90750dfba215",
       "version_major": 2,
       "version_minor": 0
      },
      "text/plain": [
       "shuffle:   0%|          | 0/2 [00:00<?, ?it/s]"
      ]
     },
     "metadata": {},
     "output_type": "display_data"
    },
    {
     "data": {
      "application/vnd.jupyter.widget-view+json": {
       "model_id": "8c72ae7c250b4807b38af730b6b70408",
       "version_major": 2,
       "version_minor": 0
      },
      "text/plain": [
       "Creating npz dataset:   0%|          | 0/10 [00:00<?, ?it/s]"
      ]
     },
     "metadata": {},
     "output_type": "display_data"
    },
    {
     "data": {
      "application/vnd.jupyter.widget-view+json": {
       "model_id": "a1096903be87459e82b2bd585cdcabd1",
       "version_major": 2,
       "version_minor": 0
      },
      "text/plain": [
       "repeats:   0%|          | 0/2 [00:00<?, ?it/s]"
      ]
     },
     "metadata": {},
     "output_type": "display_data"
    },
    {
     "data": {
      "application/vnd.jupyter.widget-view+json": {
       "model_id": "7bbf2bd4c09a4061a06507f871ca3204",
       "version_major": 2,
       "version_minor": 0
      },
      "text/plain": [
       "reading:   0%|          | 0/10 [00:00<?, ?it/s]"
      ]
     },
     "metadata": {},
     "output_type": "display_data"
    },
    {
     "data": {
      "application/vnd.jupyter.widget-view+json": {
       "model_id": "97323d88dde64fe382a6f5b25e78821a",
       "version_major": 2,
       "version_minor": 0
      },
      "text/plain": [
       "reading:   0%|          | 0/10 [00:00<?, ?it/s]"
      ]
     },
     "metadata": {},
     "output_type": "display_data"
    },
    {
     "data": {
      "application/vnd.jupyter.widget-view+json": {
       "model_id": "9450110e8eb9478b8aa791b51a1b8265",
       "version_major": 2,
       "version_minor": 0
      },
      "text/plain": [
       "Deleting npz dataset:   0%|          | 0/10 [00:00<?, ?it/s]"
      ]
     },
     "metadata": {},
     "output_type": "display_data"
    },
    {
     "data": {
      "application/vnd.jupyter.widget-view+json": {
       "model_id": "9b0c0e8d48374614897e68c23dff021e",
       "version_major": 2,
       "version_minor": 0
      },
      "text/plain": [
       "Creating npz dataset:   0%|          | 0/10 [00:00<?, ?it/s]"
      ]
     },
     "metadata": {},
     "output_type": "display_data"
    },
    {
     "data": {
      "application/vnd.jupyter.widget-view+json": {
       "model_id": "f604fd6941e1449dbedc07232745dc71",
       "version_major": 2,
       "version_minor": 0
      },
      "text/plain": [
       "repeats:   0%|          | 0/2 [00:00<?, ?it/s]"
      ]
     },
     "metadata": {},
     "output_type": "display_data"
    },
    {
     "data": {
      "application/vnd.jupyter.widget-view+json": {
       "model_id": "7338b56a860646da9ed9c8740b01aaf7",
       "version_major": 2,
       "version_minor": 0
      },
      "text/plain": [
       "reading:   0%|          | 0/10 [00:00<?, ?it/s]"
      ]
     },
     "metadata": {},
     "output_type": "display_data"
    },
    {
     "data": {
      "application/vnd.jupyter.widget-view+json": {
       "model_id": "df2d2a26752b42d6aa79d553d9f52781",
       "version_major": 2,
       "version_minor": 0
      },
      "text/plain": [
       "reading:   0%|          | 0/10 [00:00<?, ?it/s]"
      ]
     },
     "metadata": {},
     "output_type": "display_data"
    },
    {
     "data": {
      "application/vnd.jupyter.widget-view+json": {
       "model_id": "0631ee4a854543dbadf2e12dcddbf70a",
       "version_major": 2,
       "version_minor": 0
      },
      "text/plain": [
       "Deleting npz dataset:   0%|          | 0/10 [00:00<?, ?it/s]"
      ]
     },
     "metadata": {},
     "output_type": "display_data"
    },
    {
     "data": {
      "application/vnd.jupyter.widget-view+json": {
       "model_id": "3ee8dabeae6e40eb988155164595f712",
       "version_major": 2,
       "version_minor": 0
      },
      "text/plain": [
       "shuffle:   0%|          | 0/2 [00:00<?, ?it/s]"
      ]
     },
     "metadata": {},
     "output_type": "display_data"
    },
    {
     "data": {
      "application/vnd.jupyter.widget-view+json": {
       "model_id": "86e879eec2f7414783cc56121663c4a8",
       "version_major": 2,
       "version_minor": 0
      },
      "text/plain": [
       "Creating npz dataset:   0%|          | 0/10 [00:00<?, ?it/s]"
      ]
     },
     "metadata": {},
     "output_type": "display_data"
    },
    {
     "data": {
      "application/vnd.jupyter.widget-view+json": {
       "model_id": "78afd738494c45e48000fcb3b99499b0",
       "version_major": 2,
       "version_minor": 0
      },
      "text/plain": [
       "repeats:   0%|          | 0/2 [00:00<?, ?it/s]"
      ]
     },
     "metadata": {},
     "output_type": "display_data"
    },
    {
     "data": {
      "application/vnd.jupyter.widget-view+json": {
       "model_id": "d123ef55195344aba89d938942c8b596",
       "version_major": 2,
       "version_minor": 0
      },
      "text/plain": [
       "reading:   0%|          | 0/10 [00:00<?, ?it/s]"
      ]
     },
     "metadata": {},
     "output_type": "display_data"
    },
    {
     "data": {
      "application/vnd.jupyter.widget-view+json": {
       "model_id": "802b5c3bcae54674a243acce06f3f177",
       "version_major": 2,
       "version_minor": 0
      },
      "text/plain": [
       "reading:   0%|          | 0/10 [00:00<?, ?it/s]"
      ]
     },
     "metadata": {},
     "output_type": "display_data"
    },
    {
     "data": {
      "application/vnd.jupyter.widget-view+json": {
       "model_id": "c9a230a62fea447dbc471f249978bc17",
       "version_major": 2,
       "version_minor": 0
      },
      "text/plain": [
       "Deleting npz dataset:   0%|          | 0/10 [00:00<?, ?it/s]"
      ]
     },
     "metadata": {},
     "output_type": "display_data"
    },
    {
     "data": {
      "application/vnd.jupyter.widget-view+json": {
       "model_id": "579a92935a35418b8fb586268bd29e80",
       "version_major": 2,
       "version_minor": 0
      },
      "text/plain": [
       "Creating npz dataset:   0%|          | 0/10 [00:00<?, ?it/s]"
      ]
     },
     "metadata": {},
     "output_type": "display_data"
    },
    {
     "data": {
      "application/vnd.jupyter.widget-view+json": {
       "model_id": "032cb8e45630465495f285d4596efd4e",
       "version_major": 2,
       "version_minor": 0
      },
      "text/plain": [
       "repeats:   0%|          | 0/2 [00:00<?, ?it/s]"
      ]
     },
     "metadata": {},
     "output_type": "display_data"
    },
    {
     "data": {
      "application/vnd.jupyter.widget-view+json": {
       "model_id": "3adf044a8063422097f532b79f7cc44b",
       "version_major": 2,
       "version_minor": 0
      },
      "text/plain": [
       "reading:   0%|          | 0/10 [00:00<?, ?it/s]"
      ]
     },
     "metadata": {},
     "output_type": "display_data"
    },
    {
     "data": {
      "application/vnd.jupyter.widget-view+json": {
       "model_id": "782366c1e3714cc5ba57579b5d98a01e",
       "version_major": 2,
       "version_minor": 0
      },
      "text/plain": [
       "reading:   0%|          | 0/10 [00:00<?, ?it/s]"
      ]
     },
     "metadata": {},
     "output_type": "display_data"
    },
    {
     "data": {
      "application/vnd.jupyter.widget-view+json": {
       "model_id": "948c61c2d9c04ef68b8167a9ed64ff22",
       "version_major": 2,
       "version_minor": 0
      },
      "text/plain": [
       "Deleting npz dataset:   0%|          | 0/10 [00:00<?, ?it/s]"
      ]
     },
     "metadata": {},
     "output_type": "display_data"
    },
    {
     "data": {
      "application/vnd.jupyter.widget-view+json": {
       "model_id": "425b9ac847724a22bea8d144e427678b",
       "version_major": 2,
       "version_minor": 0
      },
      "text/plain": [
       "shuffle:   0%|          | 0/2 [00:00<?, ?it/s]"
      ]
     },
     "metadata": {},
     "output_type": "display_data"
    },
    {
     "data": {
      "application/vnd.jupyter.widget-view+json": {
       "model_id": "2403a0be1b9845c99f950c4b0ca4244a",
       "version_major": 2,
       "version_minor": 0
      },
      "text/plain": [
       "Creating npz dataset:   0%|          | 0/10 [00:00<?, ?it/s]"
      ]
     },
     "metadata": {},
     "output_type": "display_data"
    },
    {
     "data": {
      "application/vnd.jupyter.widget-view+json": {
       "model_id": "60bc81cf67e44a58a7006dac3b40f98b",
       "version_major": 2,
       "version_minor": 0
      },
      "text/plain": [
       "repeats:   0%|          | 0/2 [00:00<?, ?it/s]"
      ]
     },
     "metadata": {},
     "output_type": "display_data"
    },
    {
     "data": {
      "application/vnd.jupyter.widget-view+json": {
       "model_id": "fce526f019724708b6a82b893b48a161",
       "version_major": 2,
       "version_minor": 0
      },
      "text/plain": [
       "reading:   0%|          | 0/10 [00:00<?, ?it/s]"
      ]
     },
     "metadata": {},
     "output_type": "display_data"
    },
    {
     "data": {
      "application/vnd.jupyter.widget-view+json": {
       "model_id": "54161a83e5674b51812397ed068064ec",
       "version_major": 2,
       "version_minor": 0
      },
      "text/plain": [
       "reading:   0%|          | 0/10 [00:00<?, ?it/s]"
      ]
     },
     "metadata": {},
     "output_type": "display_data"
    },
    {
     "data": {
      "application/vnd.jupyter.widget-view+json": {
       "model_id": "9a15acac057840f8a0ec762513a23fd2",
       "version_major": 2,
       "version_minor": 0
      },
      "text/plain": [
       "Deleting npz dataset:   0%|          | 0/10 [00:00<?, ?it/s]"
      ]
     },
     "metadata": {},
     "output_type": "display_data"
    },
    {
     "data": {
      "application/vnd.jupyter.widget-view+json": {
       "model_id": "3cf17048ad4e461ca1030b3070a75523",
       "version_major": 2,
       "version_minor": 0
      },
      "text/plain": [
       "Creating npz dataset:   0%|          | 0/10 [00:00<?, ?it/s]"
      ]
     },
     "metadata": {},
     "output_type": "display_data"
    },
    {
     "data": {
      "application/vnd.jupyter.widget-view+json": {
       "model_id": "29d390e7746f4c2b810a9a6b4be11971",
       "version_major": 2,
       "version_minor": 0
      },
      "text/plain": [
       "repeats:   0%|          | 0/2 [00:00<?, ?it/s]"
      ]
     },
     "metadata": {},
     "output_type": "display_data"
    },
    {
     "data": {
      "application/vnd.jupyter.widget-view+json": {
       "model_id": "808f6177272942fdb58e01506df3270e",
       "version_major": 2,
       "version_minor": 0
      },
      "text/plain": [
       "reading:   0%|          | 0/10 [00:00<?, ?it/s]"
      ]
     },
     "metadata": {},
     "output_type": "display_data"
    },
    {
     "data": {
      "application/vnd.jupyter.widget-view+json": {
       "model_id": "870df872b4114efc89b9cdc6ce63fd92",
       "version_major": 2,
       "version_minor": 0
      },
      "text/plain": [
       "reading:   0%|          | 0/10 [00:00<?, ?it/s]"
      ]
     },
     "metadata": {},
     "output_type": "display_data"
    },
    {
     "data": {
      "application/vnd.jupyter.widget-view+json": {
       "model_id": "958ec9cb18274bc9a244e6b0e0701aa3",
       "version_major": 2,
       "version_minor": 0
      },
      "text/plain": [
       "Deleting npz dataset:   0%|          | 0/10 [00:00<?, ?it/s]"
      ]
     },
     "metadata": {},
     "output_type": "display_data"
    },
    {
     "data": {
      "application/vnd.jupyter.widget-view+json": {
       "model_id": "e42d941a762d40139794fa623cdfd510",
       "version_major": 2,
       "version_minor": 0
      },
      "text/plain": [
       "shuffle:   0%|          | 0/2 [00:00<?, ?it/s]"
      ]
     },
     "metadata": {},
     "output_type": "display_data"
    },
    {
     "data": {
      "application/vnd.jupyter.widget-view+json": {
       "model_id": "da226c3d68e642e4aa986498ad982473",
       "version_major": 2,
       "version_minor": 0
      },
      "text/plain": [
       "Creating npz dataset:   0%|          | 0/10 [00:00<?, ?it/s]"
      ]
     },
     "metadata": {},
     "output_type": "display_data"
    },
    {
     "data": {
      "application/vnd.jupyter.widget-view+json": {
       "model_id": "593fc0256a1f44b2a28fa77eea146aac",
       "version_major": 2,
       "version_minor": 0
      },
      "text/plain": [
       "repeats:   0%|          | 0/2 [00:00<?, ?it/s]"
      ]
     },
     "metadata": {},
     "output_type": "display_data"
    },
    {
     "data": {
      "application/vnd.jupyter.widget-view+json": {
       "model_id": "86e4ebb1e49d47d4a01b98b1824ef0db",
       "version_major": 2,
       "version_minor": 0
      },
      "text/plain": [
       "reading:   0%|          | 0/10 [00:00<?, ?it/s]"
      ]
     },
     "metadata": {},
     "output_type": "display_data"
    },
    {
     "data": {
      "application/vnd.jupyter.widget-view+json": {
       "model_id": "ba48f73a26de44818537b13ab5db86cc",
       "version_major": 2,
       "version_minor": 0
      },
      "text/plain": [
       "reading:   0%|          | 0/10 [00:00<?, ?it/s]"
      ]
     },
     "metadata": {},
     "output_type": "display_data"
    },
    {
     "data": {
      "application/vnd.jupyter.widget-view+json": {
       "model_id": "22499b448ed143028b68681cbc576af2",
       "version_major": 2,
       "version_minor": 0
      },
      "text/plain": [
       "Deleting npz dataset:   0%|          | 0/10 [00:00<?, ?it/s]"
      ]
     },
     "metadata": {},
     "output_type": "display_data"
    },
    {
     "data": {
      "application/vnd.jupyter.widget-view+json": {
       "model_id": "48d1346d48ff401797f44c4aeceb82bb",
       "version_major": 2,
       "version_minor": 0
      },
      "text/plain": [
       "Creating npz dataset:   0%|          | 0/10 [00:00<?, ?it/s]"
      ]
     },
     "metadata": {},
     "output_type": "display_data"
    },
    {
     "data": {
      "application/vnd.jupyter.widget-view+json": {
       "model_id": "70157518399e4917a6d93a2ec09bd92b",
       "version_major": 2,
       "version_minor": 0
      },
      "text/plain": [
       "repeats:   0%|          | 0/2 [00:00<?, ?it/s]"
      ]
     },
     "metadata": {},
     "output_type": "display_data"
    },
    {
     "data": {
      "application/vnd.jupyter.widget-view+json": {
       "model_id": "c1952a75569a45678e79f910b5342525",
       "version_major": 2,
       "version_minor": 0
      },
      "text/plain": [
       "reading:   0%|          | 0/10 [00:00<?, ?it/s]"
      ]
     },
     "metadata": {},
     "output_type": "display_data"
    },
    {
     "data": {
      "application/vnd.jupyter.widget-view+json": {
       "model_id": "8623796704724aa1bb3fabdec77b99a5",
       "version_major": 2,
       "version_minor": 0
      },
      "text/plain": [
       "reading:   0%|          | 0/10 [00:00<?, ?it/s]"
      ]
     },
     "metadata": {},
     "output_type": "display_data"
    },
    {
     "data": {
      "application/vnd.jupyter.widget-view+json": {
       "model_id": "33e706ddc443402aaf6e5d655f9c173d",
       "version_major": 2,
       "version_minor": 0
      },
      "text/plain": [
       "Deleting npz dataset:   0%|          | 0/10 [00:00<?, ?it/s]"
      ]
     },
     "metadata": {},
     "output_type": "display_data"
    },
    {
     "data": {
      "application/vnd.jupyter.widget-view+json": {
       "model_id": "1822bc05e14f4866bd3f6da0eb04a480",
       "version_major": 2,
       "version_minor": 0
      },
      "text/plain": [
       "shuffle:   0%|          | 0/2 [00:00<?, ?it/s]"
      ]
     },
     "metadata": {},
     "output_type": "display_data"
    },
    {
     "data": {
      "application/vnd.jupyter.widget-view+json": {
       "model_id": "30e0d449ed414a96a2f718f6e51fd74f",
       "version_major": 2,
       "version_minor": 0
      },
      "text/plain": [
       "Creating npz dataset:   0%|          | 0/10 [00:00<?, ?it/s]"
      ]
     },
     "metadata": {},
     "output_type": "display_data"
    },
    {
     "data": {
      "application/vnd.jupyter.widget-view+json": {
       "model_id": "d7d4478b95e2490fa70450b2eab6ee27",
       "version_major": 2,
       "version_minor": 0
      },
      "text/plain": [
       "repeats:   0%|          | 0/2 [00:00<?, ?it/s]"
      ]
     },
     "metadata": {},
     "output_type": "display_data"
    },
    {
     "data": {
      "application/vnd.jupyter.widget-view+json": {
       "model_id": "9e372108ba7c4ae4813dd68980f8395a",
       "version_major": 2,
       "version_minor": 0
      },
      "text/plain": [
       "reading:   0%|          | 0/10 [00:00<?, ?it/s]"
      ]
     },
     "metadata": {},
     "output_type": "display_data"
    },
    {
     "data": {
      "application/vnd.jupyter.widget-view+json": {
       "model_id": "7a311e4f8b3a4b8fa4b74b9a4b4caa06",
       "version_major": 2,
       "version_minor": 0
      },
      "text/plain": [
       "reading:   0%|          | 0/10 [00:00<?, ?it/s]"
      ]
     },
     "metadata": {},
     "output_type": "display_data"
    },
    {
     "data": {
      "application/vnd.jupyter.widget-view+json": {
       "model_id": "a7ec98901fa74768a32131fd8cfabecd",
       "version_major": 2,
       "version_minor": 0
      },
      "text/plain": [
       "Deleting npz dataset:   0%|          | 0/10 [00:00<?, ?it/s]"
      ]
     },
     "metadata": {},
     "output_type": "display_data"
    },
    {
     "data": {
      "application/vnd.jupyter.widget-view+json": {
       "model_id": "3a881e0724b74c109d24d0d40037c54d",
       "version_major": 2,
       "version_minor": 0
      },
      "text/plain": [
       "Creating npz dataset:   0%|          | 0/10 [00:00<?, ?it/s]"
      ]
     },
     "metadata": {},
     "output_type": "display_data"
    },
    {
     "data": {
      "application/vnd.jupyter.widget-view+json": {
       "model_id": "b33ae23b69be4cc9a64190887496cd63",
       "version_major": 2,
       "version_minor": 0
      },
      "text/plain": [
       "repeats:   0%|          | 0/2 [00:00<?, ?it/s]"
      ]
     },
     "metadata": {},
     "output_type": "display_data"
    },
    {
     "data": {
      "application/vnd.jupyter.widget-view+json": {
       "model_id": "ad034c8c86e649dbaa8751f6628c1a2e",
       "version_major": 2,
       "version_minor": 0
      },
      "text/plain": [
       "reading:   0%|          | 0/10 [00:00<?, ?it/s]"
      ]
     },
     "metadata": {},
     "output_type": "display_data"
    },
    {
     "data": {
      "application/vnd.jupyter.widget-view+json": {
       "model_id": "badba66d0fd8467fbe60e7e64bf86f33",
       "version_major": 2,
       "version_minor": 0
      },
      "text/plain": [
       "reading:   0%|          | 0/10 [00:00<?, ?it/s]"
      ]
     },
     "metadata": {},
     "output_type": "display_data"
    },
    {
     "data": {
      "application/vnd.jupyter.widget-view+json": {
       "model_id": "d55d7cf78bc64cf4b48e7e5e7b64574a",
       "version_major": 2,
       "version_minor": 0
      },
      "text/plain": [
       "Deleting npz dataset:   0%|          | 0/10 [00:00<?, ?it/s]"
      ]
     },
     "metadata": {},
     "output_type": "display_data"
    },
    {
     "data": {
      "application/vnd.jupyter.widget-view+json": {
       "model_id": "c15981ee8067471b8f557c1ca8e5b6d5",
       "version_major": 2,
       "version_minor": 0
      },
      "text/plain": [
       "shuffle:   0%|          | 0/2 [00:00<?, ?it/s]"
      ]
     },
     "metadata": {},
     "output_type": "display_data"
    },
    {
     "data": {
      "application/vnd.jupyter.widget-view+json": {
       "model_id": "08b6f1db34c443d28e94044165c1fc6f",
       "version_major": 2,
       "version_minor": 0
      },
      "text/plain": [
       "Creating npz dataset:   0%|          | 0/10 [00:00<?, ?it/s]"
      ]
     },
     "metadata": {},
     "output_type": "display_data"
    },
    {
     "data": {
      "application/vnd.jupyter.widget-view+json": {
       "model_id": "8c2bbf4258db4f9e8ede7141281ba8bc",
       "version_major": 2,
       "version_minor": 0
      },
      "text/plain": [
       "repeats:   0%|          | 0/2 [00:00<?, ?it/s]"
      ]
     },
     "metadata": {},
     "output_type": "display_data"
    },
    {
     "data": {
      "application/vnd.jupyter.widget-view+json": {
       "model_id": "ce1c9248aee0474498d0af495dda58f6",
       "version_major": 2,
       "version_minor": 0
      },
      "text/plain": [
       "reading:   0%|          | 0/10 [00:00<?, ?it/s]"
      ]
     },
     "metadata": {},
     "output_type": "display_data"
    },
    {
     "data": {
      "application/vnd.jupyter.widget-view+json": {
       "model_id": "b615a9652914431aaff70be9b4729bd8",
       "version_major": 2,
       "version_minor": 0
      },
      "text/plain": [
       "reading:   0%|          | 0/10 [00:00<?, ?it/s]"
      ]
     },
     "metadata": {},
     "output_type": "display_data"
    },
    {
     "data": {
      "application/vnd.jupyter.widget-view+json": {
       "model_id": "78fd1e56d8d848c2b3b0d58c256a5fc2",
       "version_major": 2,
       "version_minor": 0
      },
      "text/plain": [
       "Deleting npz dataset:   0%|          | 0/10 [00:00<?, ?it/s]"
      ]
     },
     "metadata": {},
     "output_type": "display_data"
    },
    {
     "data": {
      "application/vnd.jupyter.widget-view+json": {
       "model_id": "a95b1530d957482ba582ca2c7228df1c",
       "version_major": 2,
       "version_minor": 0
      },
      "text/plain": [
       "Creating npz dataset:   0%|          | 0/10 [00:00<?, ?it/s]"
      ]
     },
     "metadata": {},
     "output_type": "display_data"
    },
    {
     "data": {
      "application/vnd.jupyter.widget-view+json": {
       "model_id": "ad4c6e9ee6674c87a24a1f06f1b1a3d4",
       "version_major": 2,
       "version_minor": 0
      },
      "text/plain": [
       "repeats:   0%|          | 0/2 [00:00<?, ?it/s]"
      ]
     },
     "metadata": {},
     "output_type": "display_data"
    },
    {
     "data": {
      "application/vnd.jupyter.widget-view+json": {
       "model_id": "807512d5f19045d0b42495887724c01d",
       "version_major": 2,
       "version_minor": 0
      },
      "text/plain": [
       "reading:   0%|          | 0/10 [00:00<?, ?it/s]"
      ]
     },
     "metadata": {},
     "output_type": "display_data"
    },
    {
     "data": {
      "application/vnd.jupyter.widget-view+json": {
       "model_id": "0ebcbe13cad945acabc6bc27461f5da6",
       "version_major": 2,
       "version_minor": 0
      },
      "text/plain": [
       "reading:   0%|          | 0/10 [00:00<?, ?it/s]"
      ]
     },
     "metadata": {},
     "output_type": "display_data"
    },
    {
     "data": {
      "application/vnd.jupyter.widget-view+json": {
       "model_id": "ffb65b4948004305ae9533c3b28b6d51",
       "version_major": 2,
       "version_minor": 0
      },
      "text/plain": [
       "Deleting npz dataset:   0%|          | 0/10 [00:00<?, ?it/s]"
      ]
     },
     "metadata": {},
     "output_type": "display_data"
    },
    {
     "data": {
      "application/vnd.jupyter.widget-view+json": {
       "model_id": "84ada8564cec45059d2a6803005625a5",
       "version_major": 2,
       "version_minor": 0
      },
      "text/plain": [
       "shuffle:   0%|          | 0/2 [00:00<?, ?it/s]"
      ]
     },
     "metadata": {},
     "output_type": "display_data"
    },
    {
     "data": {
      "application/vnd.jupyter.widget-view+json": {
       "model_id": "732570c1d8ae42b49ce953c0003d7a65",
       "version_major": 2,
       "version_minor": 0
      },
      "text/plain": [
       "Creating npz dataset:   0%|          | 0/10 [00:00<?, ?it/s]"
      ]
     },
     "metadata": {},
     "output_type": "display_data"
    },
    {
     "data": {
      "application/vnd.jupyter.widget-view+json": {
       "model_id": "53f22697be8347168dee1c4bdb40a7b5",
       "version_major": 2,
       "version_minor": 0
      },
      "text/plain": [
       "repeats:   0%|          | 0/2 [00:00<?, ?it/s]"
      ]
     },
     "metadata": {},
     "output_type": "display_data"
    },
    {
     "data": {
      "application/vnd.jupyter.widget-view+json": {
       "model_id": "9a6768c63af44907a8f429d08699576d",
       "version_major": 2,
       "version_minor": 0
      },
      "text/plain": [
       "reading:   0%|          | 0/10 [00:00<?, ?it/s]"
      ]
     },
     "metadata": {},
     "output_type": "display_data"
    },
    {
     "data": {
      "application/vnd.jupyter.widget-view+json": {
       "model_id": "f936b1451bbd41ce98db2954d65c4791",
       "version_major": 2,
       "version_minor": 0
      },
      "text/plain": [
       "reading:   0%|          | 0/10 [00:00<?, ?it/s]"
      ]
     },
     "metadata": {},
     "output_type": "display_data"
    },
    {
     "data": {
      "application/vnd.jupyter.widget-view+json": {
       "model_id": "147113715cf54569be2fc102aa901608",
       "version_major": 2,
       "version_minor": 0
      },
      "text/plain": [
       "Deleting npz dataset:   0%|          | 0/10 [00:00<?, ?it/s]"
      ]
     },
     "metadata": {},
     "output_type": "display_data"
    },
    {
     "data": {
      "application/vnd.jupyter.widget-view+json": {
       "model_id": "0b45d09a41c148ff892cddc6baf0ec4d",
       "version_major": 2,
       "version_minor": 0
      },
      "text/plain": [
       "Creating npz dataset:   0%|          | 0/10 [00:00<?, ?it/s]"
      ]
     },
     "metadata": {},
     "output_type": "display_data"
    },
    {
     "data": {
      "application/vnd.jupyter.widget-view+json": {
       "model_id": "1d018b111f99450fbcf4d10596096ab6",
       "version_major": 2,
       "version_minor": 0
      },
      "text/plain": [
       "repeats:   0%|          | 0/2 [00:00<?, ?it/s]"
      ]
     },
     "metadata": {},
     "output_type": "display_data"
    },
    {
     "data": {
      "application/vnd.jupyter.widget-view+json": {
       "model_id": "90ac686f9bcd4b6a98ca52995e5b7ef2",
       "version_major": 2,
       "version_minor": 0
      },
      "text/plain": [
       "reading:   0%|          | 0/10 [00:00<?, ?it/s]"
      ]
     },
     "metadata": {},
     "output_type": "display_data"
    },
    {
     "data": {
      "application/vnd.jupyter.widget-view+json": {
       "model_id": "1b976e60921c47b9868b7fce4c66a4a2",
       "version_major": 2,
       "version_minor": 0
      },
      "text/plain": [
       "reading:   0%|          | 0/10 [00:00<?, ?it/s]"
      ]
     },
     "metadata": {},
     "output_type": "display_data"
    },
    {
     "data": {
      "application/vnd.jupyter.widget-view+json": {
       "model_id": "de34968bd473467d82426cc5e51046be",
       "version_major": 2,
       "version_minor": 0
      },
      "text/plain": [
       "Deleting npz dataset:   0%|          | 0/10 [00:00<?, ?it/s]"
      ]
     },
     "metadata": {},
     "output_type": "display_data"
    },
    {
     "data": {
      "application/vnd.jupyter.widget-view+json": {
       "model_id": "4fd0eeac1cec42d98dedb14316095a42",
       "version_major": 2,
       "version_minor": 0
      },
      "text/plain": [
       "n_values_per_row:   0%|          | 0/8 [00:00<?, ?it/s]"
      ]
     },
     "metadata": {},
     "output_type": "display_data"
    },
    {
     "data": {
      "application/vnd.jupyter.widget-view+json": {
       "model_id": "cc5639d86cb841dd98e2506f9ba692f3",
       "version_major": 2,
       "version_minor": 0
      },
      "text/plain": [
       "shuffle:   0%|          | 0/2 [00:00<?, ?it/s]"
      ]
     },
     "metadata": {},
     "output_type": "display_data"
    },
    {
     "data": {
      "application/vnd.jupyter.widget-view+json": {
       "model_id": "9d194792d9ec4e00a8eef239ae912993",
       "version_major": 2,
       "version_minor": 0
      },
      "text/plain": [
       "Creating npz dataset:   0%|          | 0/100 [00:00<?, ?it/s]"
      ]
     },
     "metadata": {},
     "output_type": "display_data"
    },
    {
     "data": {
      "application/vnd.jupyter.widget-view+json": {
       "model_id": "7d8010a618ea4d4ebbcd7bd71d936be0",
       "version_major": 2,
       "version_minor": 0
      },
      "text/plain": [
       "repeats:   0%|          | 0/2 [00:00<?, ?it/s]"
      ]
     },
     "metadata": {},
     "output_type": "display_data"
    },
    {
     "data": {
      "application/vnd.jupyter.widget-view+json": {
       "model_id": "8b2094ca33d545e1944f2ae765e679ee",
       "version_major": 2,
       "version_minor": 0
      },
      "text/plain": [
       "reading:   0%|          | 0/100 [00:00<?, ?it/s]"
      ]
     },
     "metadata": {},
     "output_type": "display_data"
    },
    {
     "data": {
      "application/vnd.jupyter.widget-view+json": {
       "model_id": "31606a0031174685989f147b7281c184",
       "version_major": 2,
       "version_minor": 0
      },
      "text/plain": [
       "reading:   0%|          | 0/100 [00:00<?, ?it/s]"
      ]
     },
     "metadata": {},
     "output_type": "display_data"
    },
    {
     "data": {
      "application/vnd.jupyter.widget-view+json": {
       "model_id": "e032900b4b4547fba14bc488757d1889",
       "version_major": 2,
       "version_minor": 0
      },
      "text/plain": [
       "Deleting npz dataset:   0%|          | 0/100 [00:00<?, ?it/s]"
      ]
     },
     "metadata": {},
     "output_type": "display_data"
    },
    {
     "data": {
      "application/vnd.jupyter.widget-view+json": {
       "model_id": "e2eb0154f5d44c42b51c984db4b2e215",
       "version_major": 2,
       "version_minor": 0
      },
      "text/plain": [
       "Creating npz dataset:   0%|          | 0/100 [00:00<?, ?it/s]"
      ]
     },
     "metadata": {},
     "output_type": "display_data"
    },
    {
     "data": {
      "application/vnd.jupyter.widget-view+json": {
       "model_id": "9150be345d3e4b8487810fdf6b306521",
       "version_major": 2,
       "version_minor": 0
      },
      "text/plain": [
       "repeats:   0%|          | 0/2 [00:00<?, ?it/s]"
      ]
     },
     "metadata": {},
     "output_type": "display_data"
    },
    {
     "data": {
      "application/vnd.jupyter.widget-view+json": {
       "model_id": "fe74b7a32239443c940509043af27491",
       "version_major": 2,
       "version_minor": 0
      },
      "text/plain": [
       "reading:   0%|          | 0/100 [00:00<?, ?it/s]"
      ]
     },
     "metadata": {},
     "output_type": "display_data"
    },
    {
     "data": {
      "application/vnd.jupyter.widget-view+json": {
       "model_id": "0ad9dba69fda4e9b9b5d6eeabe570dfb",
       "version_major": 2,
       "version_minor": 0
      },
      "text/plain": [
       "reading:   0%|          | 0/100 [00:00<?, ?it/s]"
      ]
     },
     "metadata": {},
     "output_type": "display_data"
    },
    {
     "data": {
      "application/vnd.jupyter.widget-view+json": {
       "model_id": "f052e4e18ce44c31908d1f31a08070b4",
       "version_major": 2,
       "version_minor": 0
      },
      "text/plain": [
       "Deleting npz dataset:   0%|          | 0/100 [00:00<?, ?it/s]"
      ]
     },
     "metadata": {},
     "output_type": "display_data"
    },
    {
     "data": {
      "application/vnd.jupyter.widget-view+json": {
       "model_id": "d63c1e0aeed149dea89ecd443937510e",
       "version_major": 2,
       "version_minor": 0
      },
      "text/plain": [
       "shuffle:   0%|          | 0/2 [00:00<?, ?it/s]"
      ]
     },
     "metadata": {},
     "output_type": "display_data"
    },
    {
     "data": {
      "application/vnd.jupyter.widget-view+json": {
       "model_id": "a5fcdbc89a7c4259a20b4365472c5005",
       "version_major": 2,
       "version_minor": 0
      },
      "text/plain": [
       "Creating npz dataset:   0%|          | 0/100 [00:00<?, ?it/s]"
      ]
     },
     "metadata": {},
     "output_type": "display_data"
    },
    {
     "data": {
      "application/vnd.jupyter.widget-view+json": {
       "model_id": "7ecc85a1fefa486f8de9a2e7bea1fc27",
       "version_major": 2,
       "version_minor": 0
      },
      "text/plain": [
       "repeats:   0%|          | 0/2 [00:00<?, ?it/s]"
      ]
     },
     "metadata": {},
     "output_type": "display_data"
    },
    {
     "data": {
      "application/vnd.jupyter.widget-view+json": {
       "model_id": "459b48741f6241c8b4683eeb40ea6bd6",
       "version_major": 2,
       "version_minor": 0
      },
      "text/plain": [
       "reading:   0%|          | 0/100 [00:00<?, ?it/s]"
      ]
     },
     "metadata": {},
     "output_type": "display_data"
    },
    {
     "data": {
      "application/vnd.jupyter.widget-view+json": {
       "model_id": "786cbccf387e4abda4d006ab84dad412",
       "version_major": 2,
       "version_minor": 0
      },
      "text/plain": [
       "reading:   0%|          | 0/100 [00:00<?, ?it/s]"
      ]
     },
     "metadata": {},
     "output_type": "display_data"
    },
    {
     "data": {
      "application/vnd.jupyter.widget-view+json": {
       "model_id": "d40b2a4c051349dd9a5d2992901d7fb4",
       "version_major": 2,
       "version_minor": 0
      },
      "text/plain": [
       "Deleting npz dataset:   0%|          | 0/100 [00:00<?, ?it/s]"
      ]
     },
     "metadata": {},
     "output_type": "display_data"
    },
    {
     "data": {
      "application/vnd.jupyter.widget-view+json": {
       "model_id": "9c0113470e5e480c95ea46fadab3df92",
       "version_major": 2,
       "version_minor": 0
      },
      "text/plain": [
       "Creating npz dataset:   0%|          | 0/100 [00:00<?, ?it/s]"
      ]
     },
     "metadata": {},
     "output_type": "display_data"
    },
    {
     "data": {
      "application/vnd.jupyter.widget-view+json": {
       "model_id": "f23a364f9a11498e85755e8539f19719",
       "version_major": 2,
       "version_minor": 0
      },
      "text/plain": [
       "repeats:   0%|          | 0/2 [00:00<?, ?it/s]"
      ]
     },
     "metadata": {},
     "output_type": "display_data"
    },
    {
     "data": {
      "application/vnd.jupyter.widget-view+json": {
       "model_id": "e979ad59199b46498417527d850654ac",
       "version_major": 2,
       "version_minor": 0
      },
      "text/plain": [
       "reading:   0%|          | 0/100 [00:00<?, ?it/s]"
      ]
     },
     "metadata": {},
     "output_type": "display_data"
    },
    {
     "data": {
      "application/vnd.jupyter.widget-view+json": {
       "model_id": "06c7244b61ed467eba9f6ed03a4127f5",
       "version_major": 2,
       "version_minor": 0
      },
      "text/plain": [
       "reading:   0%|          | 0/100 [00:00<?, ?it/s]"
      ]
     },
     "metadata": {},
     "output_type": "display_data"
    },
    {
     "data": {
      "application/vnd.jupyter.widget-view+json": {
       "model_id": "94a83bcb8e4648a79bb28e0f1d2b5af8",
       "version_major": 2,
       "version_minor": 0
      },
      "text/plain": [
       "Deleting npz dataset:   0%|          | 0/100 [00:00<?, ?it/s]"
      ]
     },
     "metadata": {},
     "output_type": "display_data"
    },
    {
     "data": {
      "application/vnd.jupyter.widget-view+json": {
       "model_id": "0c2bd1dba07048909edf67e5eb03814c",
       "version_major": 2,
       "version_minor": 0
      },
      "text/plain": [
       "shuffle:   0%|          | 0/2 [00:00<?, ?it/s]"
      ]
     },
     "metadata": {},
     "output_type": "display_data"
    },
    {
     "data": {
      "application/vnd.jupyter.widget-view+json": {
       "model_id": "e21f8e8ae4ac4d909538abbd7a62cc30",
       "version_major": 2,
       "version_minor": 0
      },
      "text/plain": [
       "Creating npz dataset:   0%|          | 0/100 [00:00<?, ?it/s]"
      ]
     },
     "metadata": {},
     "output_type": "display_data"
    },
    {
     "data": {
      "application/vnd.jupyter.widget-view+json": {
       "model_id": "a0323a50da0d4cc68ad3a4e54890d8e6",
       "version_major": 2,
       "version_minor": 0
      },
      "text/plain": [
       "repeats:   0%|          | 0/2 [00:00<?, ?it/s]"
      ]
     },
     "metadata": {},
     "output_type": "display_data"
    },
    {
     "data": {
      "application/vnd.jupyter.widget-view+json": {
       "model_id": "6a261df5fb374aac8f9bbf19c8434279",
       "version_major": 2,
       "version_minor": 0
      },
      "text/plain": [
       "reading:   0%|          | 0/100 [00:00<?, ?it/s]"
      ]
     },
     "metadata": {},
     "output_type": "display_data"
    },
    {
     "data": {
      "application/vnd.jupyter.widget-view+json": {
       "model_id": "5efaf00ad1374c4cb3f257386f67b47c",
       "version_major": 2,
       "version_minor": 0
      },
      "text/plain": [
       "reading:   0%|          | 0/100 [00:00<?, ?it/s]"
      ]
     },
     "metadata": {},
     "output_type": "display_data"
    },
    {
     "data": {
      "application/vnd.jupyter.widget-view+json": {
       "model_id": "735ff5f685114829b5d112876e5856ba",
       "version_major": 2,
       "version_minor": 0
      },
      "text/plain": [
       "Deleting npz dataset:   0%|          | 0/100 [00:00<?, ?it/s]"
      ]
     },
     "metadata": {},
     "output_type": "display_data"
    },
    {
     "data": {
      "application/vnd.jupyter.widget-view+json": {
       "model_id": "381bcb48dc6246c9ab5f2a00ad370e8a",
       "version_major": 2,
       "version_minor": 0
      },
      "text/plain": [
       "Creating npz dataset:   0%|          | 0/100 [00:00<?, ?it/s]"
      ]
     },
     "metadata": {},
     "output_type": "display_data"
    },
    {
     "data": {
      "application/vnd.jupyter.widget-view+json": {
       "model_id": "b68baa41caf8473581056679f20965f9",
       "version_major": 2,
       "version_minor": 0
      },
      "text/plain": [
       "repeats:   0%|          | 0/2 [00:00<?, ?it/s]"
      ]
     },
     "metadata": {},
     "output_type": "display_data"
    },
    {
     "data": {
      "application/vnd.jupyter.widget-view+json": {
       "model_id": "e885881e100341edb4901a052a896d7a",
       "version_major": 2,
       "version_minor": 0
      },
      "text/plain": [
       "reading:   0%|          | 0/100 [00:00<?, ?it/s]"
      ]
     },
     "metadata": {},
     "output_type": "display_data"
    },
    {
     "data": {
      "application/vnd.jupyter.widget-view+json": {
       "model_id": "199e935c6e82447a8aa6c4d36ec725cb",
       "version_major": 2,
       "version_minor": 0
      },
      "text/plain": [
       "reading:   0%|          | 0/100 [00:00<?, ?it/s]"
      ]
     },
     "metadata": {},
     "output_type": "display_data"
    },
    {
     "data": {
      "application/vnd.jupyter.widget-view+json": {
       "model_id": "d6b097bf6d034528a22668237950ce6e",
       "version_major": 2,
       "version_minor": 0
      },
      "text/plain": [
       "Deleting npz dataset:   0%|          | 0/100 [00:00<?, ?it/s]"
      ]
     },
     "metadata": {},
     "output_type": "display_data"
    },
    {
     "data": {
      "application/vnd.jupyter.widget-view+json": {
       "model_id": "10bc88386830451ca92f409191277a47",
       "version_major": 2,
       "version_minor": 0
      },
      "text/plain": [
       "shuffle:   0%|          | 0/2 [00:00<?, ?it/s]"
      ]
     },
     "metadata": {},
     "output_type": "display_data"
    },
    {
     "data": {
      "application/vnd.jupyter.widget-view+json": {
       "model_id": "c5cff2bcfc064a5d8707b9dcbe37a748",
       "version_major": 2,
       "version_minor": 0
      },
      "text/plain": [
       "Creating npz dataset:   0%|          | 0/100 [00:00<?, ?it/s]"
      ]
     },
     "metadata": {},
     "output_type": "display_data"
    },
    {
     "data": {
      "application/vnd.jupyter.widget-view+json": {
       "model_id": "1ff5256d85114933a4fdd0d7395dcbf5",
       "version_major": 2,
       "version_minor": 0
      },
      "text/plain": [
       "repeats:   0%|          | 0/2 [00:00<?, ?it/s]"
      ]
     },
     "metadata": {},
     "output_type": "display_data"
    },
    {
     "data": {
      "application/vnd.jupyter.widget-view+json": {
       "model_id": "6953e6dd10fc45179b23b8baa4475466",
       "version_major": 2,
       "version_minor": 0
      },
      "text/plain": [
       "reading:   0%|          | 0/100 [00:00<?, ?it/s]"
      ]
     },
     "metadata": {},
     "output_type": "display_data"
    },
    {
     "data": {
      "application/vnd.jupyter.widget-view+json": {
       "model_id": "8c96b47398ab4d6187e08a9dd13164b4",
       "version_major": 2,
       "version_minor": 0
      },
      "text/plain": [
       "reading:   0%|          | 0/100 [00:00<?, ?it/s]"
      ]
     },
     "metadata": {},
     "output_type": "display_data"
    },
    {
     "data": {
      "application/vnd.jupyter.widget-view+json": {
       "model_id": "7222b1c6631b4a38848b7fb08ed1226f",
       "version_major": 2,
       "version_minor": 0
      },
      "text/plain": [
       "Deleting npz dataset:   0%|          | 0/100 [00:00<?, ?it/s]"
      ]
     },
     "metadata": {},
     "output_type": "display_data"
    },
    {
     "data": {
      "application/vnd.jupyter.widget-view+json": {
       "model_id": "7f84d340aa3945c2843db5f840c7bd2a",
       "version_major": 2,
       "version_minor": 0
      },
      "text/plain": [
       "Creating npz dataset:   0%|          | 0/100 [00:00<?, ?it/s]"
      ]
     },
     "metadata": {},
     "output_type": "display_data"
    },
    {
     "data": {
      "application/vnd.jupyter.widget-view+json": {
       "model_id": "491ae9265b174e0d978730ff09360411",
       "version_major": 2,
       "version_minor": 0
      },
      "text/plain": [
       "repeats:   0%|          | 0/2 [00:00<?, ?it/s]"
      ]
     },
     "metadata": {},
     "output_type": "display_data"
    },
    {
     "data": {
      "application/vnd.jupyter.widget-view+json": {
       "model_id": "f26a2a10587e4f80a8d001c72d36b27d",
       "version_major": 2,
       "version_minor": 0
      },
      "text/plain": [
       "reading:   0%|          | 0/100 [00:00<?, ?it/s]"
      ]
     },
     "metadata": {},
     "output_type": "display_data"
    },
    {
     "data": {
      "application/vnd.jupyter.widget-view+json": {
       "model_id": "242a6e34cd3f4e209441d18b97e649d3",
       "version_major": 2,
       "version_minor": 0
      },
      "text/plain": [
       "reading:   0%|          | 0/100 [00:00<?, ?it/s]"
      ]
     },
     "metadata": {},
     "output_type": "display_data"
    },
    {
     "data": {
      "application/vnd.jupyter.widget-view+json": {
       "model_id": "6cc66da8a862457ba7d83e49df12f833",
       "version_major": 2,
       "version_minor": 0
      },
      "text/plain": [
       "Deleting npz dataset:   0%|          | 0/100 [00:00<?, ?it/s]"
      ]
     },
     "metadata": {},
     "output_type": "display_data"
    },
    {
     "data": {
      "application/vnd.jupyter.widget-view+json": {
       "model_id": "733ce6fd55754e558cce81ce530eff67",
       "version_major": 2,
       "version_minor": 0
      },
      "text/plain": [
       "shuffle:   0%|          | 0/2 [00:00<?, ?it/s]"
      ]
     },
     "metadata": {},
     "output_type": "display_data"
    },
    {
     "data": {
      "application/vnd.jupyter.widget-view+json": {
       "model_id": "1f332a8b627344499e18030bf0ddb45e",
       "version_major": 2,
       "version_minor": 0
      },
      "text/plain": [
       "Creating npz dataset:   0%|          | 0/100 [00:00<?, ?it/s]"
      ]
     },
     "metadata": {},
     "output_type": "display_data"
    },
    {
     "data": {
      "application/vnd.jupyter.widget-view+json": {
       "model_id": "3e134f0701824e198d3b5adb0a164d63",
       "version_major": 2,
       "version_minor": 0
      },
      "text/plain": [
       "repeats:   0%|          | 0/2 [00:00<?, ?it/s]"
      ]
     },
     "metadata": {},
     "output_type": "display_data"
    },
    {
     "data": {
      "application/vnd.jupyter.widget-view+json": {
       "model_id": "1ccef0da408740f3b902c602b32e5806",
       "version_major": 2,
       "version_minor": 0
      },
      "text/plain": [
       "reading:   0%|          | 0/100 [00:00<?, ?it/s]"
      ]
     },
     "metadata": {},
     "output_type": "display_data"
    },
    {
     "data": {
      "application/vnd.jupyter.widget-view+json": {
       "model_id": "ca6ec91feaa44016ad1dfa3d115e3558",
       "version_major": 2,
       "version_minor": 0
      },
      "text/plain": [
       "reading:   0%|          | 0/100 [00:00<?, ?it/s]"
      ]
     },
     "metadata": {},
     "output_type": "display_data"
    },
    {
     "data": {
      "application/vnd.jupyter.widget-view+json": {
       "model_id": "f665d682bc6d4bda9965eee589ac82ea",
       "version_major": 2,
       "version_minor": 0
      },
      "text/plain": [
       "Deleting npz dataset:   0%|          | 0/100 [00:00<?, ?it/s]"
      ]
     },
     "metadata": {},
     "output_type": "display_data"
    },
    {
     "data": {
      "application/vnd.jupyter.widget-view+json": {
       "model_id": "336f987d6b4940d9a91fd6a958499af8",
       "version_major": 2,
       "version_minor": 0
      },
      "text/plain": [
       "Creating npz dataset:   0%|          | 0/100 [00:00<?, ?it/s]"
      ]
     },
     "metadata": {},
     "output_type": "display_data"
    },
    {
     "data": {
      "application/vnd.jupyter.widget-view+json": {
       "model_id": "1a89edc9663843aa9d483f087270178b",
       "version_major": 2,
       "version_minor": 0
      },
      "text/plain": [
       "repeats:   0%|          | 0/2 [00:00<?, ?it/s]"
      ]
     },
     "metadata": {},
     "output_type": "display_data"
    },
    {
     "data": {
      "application/vnd.jupyter.widget-view+json": {
       "model_id": "94c59d6168164815b4f80190812edd8b",
       "version_major": 2,
       "version_minor": 0
      },
      "text/plain": [
       "reading:   0%|          | 0/100 [00:00<?, ?it/s]"
      ]
     },
     "metadata": {},
     "output_type": "display_data"
    },
    {
     "data": {
      "application/vnd.jupyter.widget-view+json": {
       "model_id": "7f6a850ed89b4f7d9928183ac2cd644d",
       "version_major": 2,
       "version_minor": 0
      },
      "text/plain": [
       "reading:   0%|          | 0/100 [00:00<?, ?it/s]"
      ]
     },
     "metadata": {},
     "output_type": "display_data"
    },
    {
     "data": {
      "application/vnd.jupyter.widget-view+json": {
       "model_id": "6228de1d9fff49ecad01429f0f384e53",
       "version_major": 2,
       "version_minor": 0
      },
      "text/plain": [
       "Deleting npz dataset:   0%|          | 0/100 [00:00<?, ?it/s]"
      ]
     },
     "metadata": {},
     "output_type": "display_data"
    },
    {
     "data": {
      "application/vnd.jupyter.widget-view+json": {
       "model_id": "454dbae0d3f745b29b37ee3994de2880",
       "version_major": 2,
       "version_minor": 0
      },
      "text/plain": [
       "shuffle:   0%|          | 0/2 [00:00<?, ?it/s]"
      ]
     },
     "metadata": {},
     "output_type": "display_data"
    },
    {
     "data": {
      "application/vnd.jupyter.widget-view+json": {
       "model_id": "439ef17bdc4b4309bda09b231dcb394b",
       "version_major": 2,
       "version_minor": 0
      },
      "text/plain": [
       "Creating npz dataset:   0%|          | 0/100 [00:00<?, ?it/s]"
      ]
     },
     "metadata": {},
     "output_type": "display_data"
    },
    {
     "data": {
      "application/vnd.jupyter.widget-view+json": {
       "model_id": "dbbbfa14ae334b7d9b2cf7c1b6fb6302",
       "version_major": 2,
       "version_minor": 0
      },
      "text/plain": [
       "repeats:   0%|          | 0/2 [00:00<?, ?it/s]"
      ]
     },
     "metadata": {},
     "output_type": "display_data"
    },
    {
     "data": {
      "application/vnd.jupyter.widget-view+json": {
       "model_id": "573d45b99719436f84ab89561ae2a5c1",
       "version_major": 2,
       "version_minor": 0
      },
      "text/plain": [
       "reading:   0%|          | 0/100 [00:00<?, ?it/s]"
      ]
     },
     "metadata": {},
     "output_type": "display_data"
    },
    {
     "data": {
      "application/vnd.jupyter.widget-view+json": {
       "model_id": "075ba2eef7064ff296b0abee423618a9",
       "version_major": 2,
       "version_minor": 0
      },
      "text/plain": [
       "reading:   0%|          | 0/100 [00:00<?, ?it/s]"
      ]
     },
     "metadata": {},
     "output_type": "display_data"
    },
    {
     "data": {
      "application/vnd.jupyter.widget-view+json": {
       "model_id": "aa721df51f8b4badb3095959e69c29d3",
       "version_major": 2,
       "version_minor": 0
      },
      "text/plain": [
       "Deleting npz dataset:   0%|          | 0/100 [00:00<?, ?it/s]"
      ]
     },
     "metadata": {},
     "output_type": "display_data"
    },
    {
     "data": {
      "application/vnd.jupyter.widget-view+json": {
       "model_id": "5e67218ae8314c0cb0dc124fda79f8ca",
       "version_major": 2,
       "version_minor": 0
      },
      "text/plain": [
       "Creating npz dataset:   0%|          | 0/100 [00:00<?, ?it/s]"
      ]
     },
     "metadata": {},
     "output_type": "display_data"
    },
    {
     "data": {
      "application/vnd.jupyter.widget-view+json": {
       "model_id": "cd6262bb0fe144ecb2b8a247a337ee1b",
       "version_major": 2,
       "version_minor": 0
      },
      "text/plain": [
       "repeats:   0%|          | 0/2 [00:00<?, ?it/s]"
      ]
     },
     "metadata": {},
     "output_type": "display_data"
    },
    {
     "data": {
      "application/vnd.jupyter.widget-view+json": {
       "model_id": "66e1f708c40042a0b9f1732418b7ee14",
       "version_major": 2,
       "version_minor": 0
      },
      "text/plain": [
       "reading:   0%|          | 0/100 [00:00<?, ?it/s]"
      ]
     },
     "metadata": {},
     "output_type": "display_data"
    },
    {
     "data": {
      "application/vnd.jupyter.widget-view+json": {
       "model_id": "f0e94e6020ac44dab7244f2921086d44",
       "version_major": 2,
       "version_minor": 0
      },
      "text/plain": [
       "reading:   0%|          | 0/100 [00:00<?, ?it/s]"
      ]
     },
     "metadata": {},
     "output_type": "display_data"
    },
    {
     "data": {
      "application/vnd.jupyter.widget-view+json": {
       "model_id": "0ea15deb1d8746888173013ae441b947",
       "version_major": 2,
       "version_minor": 0
      },
      "text/plain": [
       "Deleting npz dataset:   0%|          | 0/100 [00:00<?, ?it/s]"
      ]
     },
     "metadata": {},
     "output_type": "display_data"
    },
    {
     "data": {
      "application/vnd.jupyter.widget-view+json": {
       "model_id": "6fa45f69943d4e40a51ef31ad219bf10",
       "version_major": 2,
       "version_minor": 0
      },
      "text/plain": [
       "shuffle:   0%|          | 0/2 [00:00<?, ?it/s]"
      ]
     },
     "metadata": {},
     "output_type": "display_data"
    },
    {
     "data": {
      "application/vnd.jupyter.widget-view+json": {
       "model_id": "d55e547a349a491e8948a04179a3bfc7",
       "version_major": 2,
       "version_minor": 0
      },
      "text/plain": [
       "Creating npz dataset:   0%|          | 0/100 [00:00<?, ?it/s]"
      ]
     },
     "metadata": {},
     "output_type": "display_data"
    },
    {
     "data": {
      "application/vnd.jupyter.widget-view+json": {
       "model_id": "c72472192d0a44719b1dd6a71ea5eb79",
       "version_major": 2,
       "version_minor": 0
      },
      "text/plain": [
       "repeats:   0%|          | 0/2 [00:00<?, ?it/s]"
      ]
     },
     "metadata": {},
     "output_type": "display_data"
    },
    {
     "data": {
      "application/vnd.jupyter.widget-view+json": {
       "model_id": "002f1bab04ad43d0b200542316356d91",
       "version_major": 2,
       "version_minor": 0
      },
      "text/plain": [
       "reading:   0%|          | 0/100 [00:00<?, ?it/s]"
      ]
     },
     "metadata": {},
     "output_type": "display_data"
    },
    {
     "data": {
      "application/vnd.jupyter.widget-view+json": {
       "model_id": "e25f519127cd425aa30a38f0432f27d9",
       "version_major": 2,
       "version_minor": 0
      },
      "text/plain": [
       "reading:   0%|          | 0/100 [00:00<?, ?it/s]"
      ]
     },
     "metadata": {},
     "output_type": "display_data"
    },
    {
     "data": {
      "application/vnd.jupyter.widget-view+json": {
       "model_id": "73a7e6fb2d9647ad93ac434cf44987c0",
       "version_major": 2,
       "version_minor": 0
      },
      "text/plain": [
       "Deleting npz dataset:   0%|          | 0/100 [00:00<?, ?it/s]"
      ]
     },
     "metadata": {},
     "output_type": "display_data"
    },
    {
     "data": {
      "application/vnd.jupyter.widget-view+json": {
       "model_id": "7718785efe3a4ec4bce72731e575eb52",
       "version_major": 2,
       "version_minor": 0
      },
      "text/plain": [
       "Creating npz dataset:   0%|          | 0/100 [00:00<?, ?it/s]"
      ]
     },
     "metadata": {},
     "output_type": "display_data"
    },
    {
     "data": {
      "application/vnd.jupyter.widget-view+json": {
       "model_id": "4be2d09b768c41af89a399cb5e61840f",
       "version_major": 2,
       "version_minor": 0
      },
      "text/plain": [
       "repeats:   0%|          | 0/2 [00:00<?, ?it/s]"
      ]
     },
     "metadata": {},
     "output_type": "display_data"
    },
    {
     "data": {
      "application/vnd.jupyter.widget-view+json": {
       "model_id": "1372230a58134cb0861237b3b8456279",
       "version_major": 2,
       "version_minor": 0
      },
      "text/plain": [
       "reading:   0%|          | 0/100 [00:00<?, ?it/s]"
      ]
     },
     "metadata": {},
     "output_type": "display_data"
    },
    {
     "data": {
      "application/vnd.jupyter.widget-view+json": {
       "model_id": "9a4cc69074044eab97e518abf0425d8b",
       "version_major": 2,
       "version_minor": 0
      },
      "text/plain": [
       "reading:   0%|          | 0/100 [00:00<?, ?it/s]"
      ]
     },
     "metadata": {},
     "output_type": "display_data"
    },
    {
     "data": {
      "application/vnd.jupyter.widget-view+json": {
       "model_id": "a919d2ab3b254b03a11cd0448a7e7464",
       "version_major": 2,
       "version_minor": 0
      },
      "text/plain": [
       "Deleting npz dataset:   0%|          | 0/100 [00:00<?, ?it/s]"
      ]
     },
     "metadata": {},
     "output_type": "display_data"
    },
    {
     "data": {
      "application/vnd.jupyter.widget-view+json": {
       "model_id": "f7f8263af416488fa5c6ab7a40b41af4",
       "version_major": 2,
       "version_minor": 0
      },
      "text/plain": [
       "shuffle:   0%|          | 0/2 [00:00<?, ?it/s]"
      ]
     },
     "metadata": {},
     "output_type": "display_data"
    },
    {
     "data": {
      "application/vnd.jupyter.widget-view+json": {
       "model_id": "ccf66b4ce3dc47b0b35a9c053546f553",
       "version_major": 2,
       "version_minor": 0
      },
      "text/plain": [
       "Creating npz dataset:   0%|          | 0/100 [00:00<?, ?it/s]"
      ]
     },
     "metadata": {},
     "output_type": "display_data"
    },
    {
     "data": {
      "application/vnd.jupyter.widget-view+json": {
       "model_id": "b5e7e994746c424d96a0046f053178c1",
       "version_major": 2,
       "version_minor": 0
      },
      "text/plain": [
       "repeats:   0%|          | 0/2 [00:00<?, ?it/s]"
      ]
     },
     "metadata": {},
     "output_type": "display_data"
    },
    {
     "data": {
      "application/vnd.jupyter.widget-view+json": {
       "model_id": "1f17b392ab724d35bdb8e27b360ec95c",
       "version_major": 2,
       "version_minor": 0
      },
      "text/plain": [
       "reading:   0%|          | 0/100 [00:00<?, ?it/s]"
      ]
     },
     "metadata": {},
     "output_type": "display_data"
    },
    {
     "data": {
      "application/vnd.jupyter.widget-view+json": {
       "model_id": "96acc37a7de34978936586a3ab65bd11",
       "version_major": 2,
       "version_minor": 0
      },
      "text/plain": [
       "reading:   0%|          | 0/100 [00:00<?, ?it/s]"
      ]
     },
     "metadata": {},
     "output_type": "display_data"
    },
    {
     "data": {
      "application/vnd.jupyter.widget-view+json": {
       "model_id": "6bead510900b4b5a8601380c654a49fc",
       "version_major": 2,
       "version_minor": 0
      },
      "text/plain": [
       "Deleting npz dataset:   0%|          | 0/100 [00:00<?, ?it/s]"
      ]
     },
     "metadata": {},
     "output_type": "display_data"
    },
    {
     "data": {
      "application/vnd.jupyter.widget-view+json": {
       "model_id": "dbcc40d5adb44bad8901cf99adebdd43",
       "version_major": 2,
       "version_minor": 0
      },
      "text/plain": [
       "Creating npz dataset:   0%|          | 0/100 [00:00<?, ?it/s]"
      ]
     },
     "metadata": {},
     "output_type": "display_data"
    },
    {
     "data": {
      "application/vnd.jupyter.widget-view+json": {
       "model_id": "a915b29ab44e47af9153d663e29808e7",
       "version_major": 2,
       "version_minor": 0
      },
      "text/plain": [
       "repeats:   0%|          | 0/2 [00:00<?, ?it/s]"
      ]
     },
     "metadata": {},
     "output_type": "display_data"
    },
    {
     "data": {
      "application/vnd.jupyter.widget-view+json": {
       "model_id": "3dfc2236cbe840098e61e6171b024c87",
       "version_major": 2,
       "version_minor": 0
      },
      "text/plain": [
       "reading:   0%|          | 0/100 [00:00<?, ?it/s]"
      ]
     },
     "metadata": {},
     "output_type": "display_data"
    },
    {
     "data": {
      "application/vnd.jupyter.widget-view+json": {
       "model_id": "abd386feae0a483292f7f578f9dfdd4e",
       "version_major": 2,
       "version_minor": 0
      },
      "text/plain": [
       "reading:   0%|          | 0/100 [00:00<?, ?it/s]"
      ]
     },
     "metadata": {},
     "output_type": "display_data"
    },
    {
     "data": {
      "application/vnd.jupyter.widget-view+json": {
       "model_id": "f706e17833474d868b5173c3f7d90dcd",
       "version_major": 2,
       "version_minor": 0
      },
      "text/plain": [
       "Deleting npz dataset:   0%|          | 0/100 [00:00<?, ?it/s]"
      ]
     },
     "metadata": {},
     "output_type": "display_data"
    },
    {
     "data": {
      "application/vnd.jupyter.widget-view+json": {
       "model_id": "5ca745a3fad14e899dd9fa3096b9575e",
       "version_major": 2,
       "version_minor": 0
      },
      "text/plain": [
       "n_values_per_row:   0%|          | 0/8 [00:00<?, ?it/s]"
      ]
     },
     "metadata": {},
     "output_type": "display_data"
    },
    {
     "data": {
      "application/vnd.jupyter.widget-view+json": {
       "model_id": "753b2c45b40c48a89cdd23c9950b8957",
       "version_major": 2,
       "version_minor": 0
      },
      "text/plain": [
       "shuffle:   0%|          | 0/2 [00:00<?, ?it/s]"
      ]
     },
     "metadata": {},
     "output_type": "display_data"
    },
    {
     "data": {
      "application/vnd.jupyter.widget-view+json": {
       "model_id": "a3e18af0278a4d4c98e97247f75a459c",
       "version_major": 2,
       "version_minor": 0
      },
      "text/plain": [
       "Creating npz dataset:   0%|          | 0/500 [00:00<?, ?it/s]"
      ]
     },
     "metadata": {},
     "output_type": "display_data"
    },
    {
     "data": {
      "application/vnd.jupyter.widget-view+json": {
       "model_id": "697f780b3bf9486bab2b57915b28802d",
       "version_major": 2,
       "version_minor": 0
      },
      "text/plain": [
       "repeats:   0%|          | 0/2 [00:00<?, ?it/s]"
      ]
     },
     "metadata": {},
     "output_type": "display_data"
    },
    {
     "data": {
      "application/vnd.jupyter.widget-view+json": {
       "model_id": "caabbae7662749e684ac8dabede6ca2a",
       "version_major": 2,
       "version_minor": 0
      },
      "text/plain": [
       "reading:   0%|          | 0/500 [00:00<?, ?it/s]"
      ]
     },
     "metadata": {},
     "output_type": "display_data"
    },
    {
     "data": {
      "application/vnd.jupyter.widget-view+json": {
       "model_id": "dc1375c5cf094cfabad0f88e87020a98",
       "version_major": 2,
       "version_minor": 0
      },
      "text/plain": [
       "reading:   0%|          | 0/500 [00:00<?, ?it/s]"
      ]
     },
     "metadata": {},
     "output_type": "display_data"
    },
    {
     "data": {
      "application/vnd.jupyter.widget-view+json": {
       "model_id": "2919e8fbd288439da2217e89efe16025",
       "version_major": 2,
       "version_minor": 0
      },
      "text/plain": [
       "Deleting npz dataset:   0%|          | 0/500 [00:00<?, ?it/s]"
      ]
     },
     "metadata": {},
     "output_type": "display_data"
    },
    {
     "data": {
      "application/vnd.jupyter.widget-view+json": {
       "model_id": "38bf2e70f4d44438aeb29cde3070039b",
       "version_major": 2,
       "version_minor": 0
      },
      "text/plain": [
       "Creating npz dataset:   0%|          | 0/500 [00:00<?, ?it/s]"
      ]
     },
     "metadata": {},
     "output_type": "display_data"
    },
    {
     "data": {
      "application/vnd.jupyter.widget-view+json": {
       "model_id": "3222d719647d465eb7e7e231ae6271b5",
       "version_major": 2,
       "version_minor": 0
      },
      "text/plain": [
       "repeats:   0%|          | 0/2 [00:00<?, ?it/s]"
      ]
     },
     "metadata": {},
     "output_type": "display_data"
    },
    {
     "data": {
      "application/vnd.jupyter.widget-view+json": {
       "model_id": "8b4ba20421bb4e55b50d013bcb2dc18c",
       "version_major": 2,
       "version_minor": 0
      },
      "text/plain": [
       "reading:   0%|          | 0/500 [00:00<?, ?it/s]"
      ]
     },
     "metadata": {},
     "output_type": "display_data"
    },
    {
     "data": {
      "application/vnd.jupyter.widget-view+json": {
       "model_id": "b72b3e432ba941feb9649115fe6b8175",
       "version_major": 2,
       "version_minor": 0
      },
      "text/plain": [
       "reading:   0%|          | 0/500 [00:00<?, ?it/s]"
      ]
     },
     "metadata": {},
     "output_type": "display_data"
    },
    {
     "data": {
      "application/vnd.jupyter.widget-view+json": {
       "model_id": "5755fe96e4f341688d92cbbb7466a463",
       "version_major": 2,
       "version_minor": 0
      },
      "text/plain": [
       "Deleting npz dataset:   0%|          | 0/500 [00:00<?, ?it/s]"
      ]
     },
     "metadata": {},
     "output_type": "display_data"
    },
    {
     "data": {
      "application/vnd.jupyter.widget-view+json": {
       "model_id": "286b3f72cb1143eeafedf36078ec2100",
       "version_major": 2,
       "version_minor": 0
      },
      "text/plain": [
       "shuffle:   0%|          | 0/2 [00:00<?, ?it/s]"
      ]
     },
     "metadata": {},
     "output_type": "display_data"
    },
    {
     "data": {
      "application/vnd.jupyter.widget-view+json": {
       "model_id": "55aa79bc026b4e7d990298fb70183ee1",
       "version_major": 2,
       "version_minor": 0
      },
      "text/plain": [
       "Creating npz dataset:   0%|          | 0/500 [00:00<?, ?it/s]"
      ]
     },
     "metadata": {},
     "output_type": "display_data"
    },
    {
     "data": {
      "application/vnd.jupyter.widget-view+json": {
       "model_id": "0263e9659661452594a442ca58622b67",
       "version_major": 2,
       "version_minor": 0
      },
      "text/plain": [
       "repeats:   0%|          | 0/2 [00:00<?, ?it/s]"
      ]
     },
     "metadata": {},
     "output_type": "display_data"
    },
    {
     "data": {
      "application/vnd.jupyter.widget-view+json": {
       "model_id": "a8e033dd9f7f40bcaf6763c5883a06d6",
       "version_major": 2,
       "version_minor": 0
      },
      "text/plain": [
       "reading:   0%|          | 0/500 [00:00<?, ?it/s]"
      ]
     },
     "metadata": {},
     "output_type": "display_data"
    },
    {
     "data": {
      "application/vnd.jupyter.widget-view+json": {
       "model_id": "ee0a28fc34684f29959a3d2c815ef97e",
       "version_major": 2,
       "version_minor": 0
      },
      "text/plain": [
       "reading:   0%|          | 0/500 [00:00<?, ?it/s]"
      ]
     },
     "metadata": {},
     "output_type": "display_data"
    },
    {
     "data": {
      "application/vnd.jupyter.widget-view+json": {
       "model_id": "5182a366c686476e83cad4fe218d2f7b",
       "version_major": 2,
       "version_minor": 0
      },
      "text/plain": [
       "Deleting npz dataset:   0%|          | 0/500 [00:00<?, ?it/s]"
      ]
     },
     "metadata": {},
     "output_type": "display_data"
    },
    {
     "data": {
      "application/vnd.jupyter.widget-view+json": {
       "model_id": "22dbdfd6b1264bbdabba0eab20655399",
       "version_major": 2,
       "version_minor": 0
      },
      "text/plain": [
       "Creating npz dataset:   0%|          | 0/500 [00:00<?, ?it/s]"
      ]
     },
     "metadata": {},
     "output_type": "display_data"
    },
    {
     "data": {
      "application/vnd.jupyter.widget-view+json": {
       "model_id": "334404aca7e744559032fb84a59bcd00",
       "version_major": 2,
       "version_minor": 0
      },
      "text/plain": [
       "repeats:   0%|          | 0/2 [00:00<?, ?it/s]"
      ]
     },
     "metadata": {},
     "output_type": "display_data"
    },
    {
     "data": {
      "application/vnd.jupyter.widget-view+json": {
       "model_id": "f44844b4fb2b4f0f8ef7805ae9c9cf98",
       "version_major": 2,
       "version_minor": 0
      },
      "text/plain": [
       "reading:   0%|          | 0/500 [00:00<?, ?it/s]"
      ]
     },
     "metadata": {},
     "output_type": "display_data"
    },
    {
     "data": {
      "application/vnd.jupyter.widget-view+json": {
       "model_id": "c611f3b91cd64bbe8d54da429fb87a89",
       "version_major": 2,
       "version_minor": 0
      },
      "text/plain": [
       "reading:   0%|          | 0/500 [00:00<?, ?it/s]"
      ]
     },
     "metadata": {},
     "output_type": "display_data"
    },
    {
     "data": {
      "application/vnd.jupyter.widget-view+json": {
       "model_id": "d583a04aa4f54b41847beaa4b60ee184",
       "version_major": 2,
       "version_minor": 0
      },
      "text/plain": [
       "Deleting npz dataset:   0%|          | 0/500 [00:00<?, ?it/s]"
      ]
     },
     "metadata": {},
     "output_type": "display_data"
    },
    {
     "data": {
      "application/vnd.jupyter.widget-view+json": {
       "model_id": "1c2eb97eb58342d3a8e4eb846c4682d9",
       "version_major": 2,
       "version_minor": 0
      },
      "text/plain": [
       "shuffle:   0%|          | 0/2 [00:00<?, ?it/s]"
      ]
     },
     "metadata": {},
     "output_type": "display_data"
    },
    {
     "data": {
      "application/vnd.jupyter.widget-view+json": {
       "model_id": "0dbd2c5c6a974e32bb555c3d6285b6b1",
       "version_major": 2,
       "version_minor": 0
      },
      "text/plain": [
       "Creating npz dataset:   0%|          | 0/500 [00:00<?, ?it/s]"
      ]
     },
     "metadata": {},
     "output_type": "display_data"
    },
    {
     "data": {
      "application/vnd.jupyter.widget-view+json": {
       "model_id": "44db76db80bb4f13b3889986de3d7d10",
       "version_major": 2,
       "version_minor": 0
      },
      "text/plain": [
       "repeats:   0%|          | 0/2 [00:00<?, ?it/s]"
      ]
     },
     "metadata": {},
     "output_type": "display_data"
    },
    {
     "data": {
      "application/vnd.jupyter.widget-view+json": {
       "model_id": "c3f12d4567904b0dbed6583d550ae6d7",
       "version_major": 2,
       "version_minor": 0
      },
      "text/plain": [
       "reading:   0%|          | 0/500 [00:00<?, ?it/s]"
      ]
     },
     "metadata": {},
     "output_type": "display_data"
    },
    {
     "data": {
      "application/vnd.jupyter.widget-view+json": {
       "model_id": "675ac4042f17402a97483af7f027761d",
       "version_major": 2,
       "version_minor": 0
      },
      "text/plain": [
       "reading:   0%|          | 0/500 [00:00<?, ?it/s]"
      ]
     },
     "metadata": {},
     "output_type": "display_data"
    },
    {
     "data": {
      "application/vnd.jupyter.widget-view+json": {
       "model_id": "3f49750432584ecf844b1f98d75945c9",
       "version_major": 2,
       "version_minor": 0
      },
      "text/plain": [
       "Deleting npz dataset:   0%|          | 0/500 [00:00<?, ?it/s]"
      ]
     },
     "metadata": {},
     "output_type": "display_data"
    },
    {
     "data": {
      "application/vnd.jupyter.widget-view+json": {
       "model_id": "6bb02adc18164218917aceb588495d2c",
       "version_major": 2,
       "version_minor": 0
      },
      "text/plain": [
       "Creating npz dataset:   0%|          | 0/500 [00:00<?, ?it/s]"
      ]
     },
     "metadata": {},
     "output_type": "display_data"
    },
    {
     "data": {
      "application/vnd.jupyter.widget-view+json": {
       "model_id": "8b5ea74fb4be40b3a089cc0ed8c279ab",
       "version_major": 2,
       "version_minor": 0
      },
      "text/plain": [
       "repeats:   0%|          | 0/2 [00:00<?, ?it/s]"
      ]
     },
     "metadata": {},
     "output_type": "display_data"
    },
    {
     "data": {
      "application/vnd.jupyter.widget-view+json": {
       "model_id": "b3b53f88f7ac4d278cc51b8827f83402",
       "version_major": 2,
       "version_minor": 0
      },
      "text/plain": [
       "reading:   0%|          | 0/500 [00:00<?, ?it/s]"
      ]
     },
     "metadata": {},
     "output_type": "display_data"
    },
    {
     "data": {
      "application/vnd.jupyter.widget-view+json": {
       "model_id": "dda7d893217f47da99257a48cf684c19",
       "version_major": 2,
       "version_minor": 0
      },
      "text/plain": [
       "reading:   0%|          | 0/500 [00:00<?, ?it/s]"
      ]
     },
     "metadata": {},
     "output_type": "display_data"
    },
    {
     "data": {
      "application/vnd.jupyter.widget-view+json": {
       "model_id": "b20b084e15094db886df779f20a08717",
       "version_major": 2,
       "version_minor": 0
      },
      "text/plain": [
       "Deleting npz dataset:   0%|          | 0/500 [00:00<?, ?it/s]"
      ]
     },
     "metadata": {},
     "output_type": "display_data"
    },
    {
     "data": {
      "application/vnd.jupyter.widget-view+json": {
       "model_id": "c7e47c371292405eb5fed9b2c061e831",
       "version_major": 2,
       "version_minor": 0
      },
      "text/plain": [
       "shuffle:   0%|          | 0/2 [00:00<?, ?it/s]"
      ]
     },
     "metadata": {},
     "output_type": "display_data"
    },
    {
     "data": {
      "application/vnd.jupyter.widget-view+json": {
       "model_id": "0ec6f4dcb90f4ecc8ab44f3d51405869",
       "version_major": 2,
       "version_minor": 0
      },
      "text/plain": [
       "Creating npz dataset:   0%|          | 0/500 [00:00<?, ?it/s]"
      ]
     },
     "metadata": {},
     "output_type": "display_data"
    },
    {
     "data": {
      "application/vnd.jupyter.widget-view+json": {
       "model_id": "031156eaa2a64f4fa9c24da538bfd41c",
       "version_major": 2,
       "version_minor": 0
      },
      "text/plain": [
       "repeats:   0%|          | 0/2 [00:00<?, ?it/s]"
      ]
     },
     "metadata": {},
     "output_type": "display_data"
    },
    {
     "data": {
      "application/vnd.jupyter.widget-view+json": {
       "model_id": "6399212b33b84a7080109662c59baa1a",
       "version_major": 2,
       "version_minor": 0
      },
      "text/plain": [
       "reading:   0%|          | 0/500 [00:00<?, ?it/s]"
      ]
     },
     "metadata": {},
     "output_type": "display_data"
    },
    {
     "data": {
      "application/vnd.jupyter.widget-view+json": {
       "model_id": "5caea17a7669407e850847dd30b9f8b9",
       "version_major": 2,
       "version_minor": 0
      },
      "text/plain": [
       "reading:   0%|          | 0/500 [00:00<?, ?it/s]"
      ]
     },
     "metadata": {},
     "output_type": "display_data"
    },
    {
     "data": {
      "application/vnd.jupyter.widget-view+json": {
       "model_id": "1019b021f8cd4848842d4c7eab25d9a4",
       "version_major": 2,
       "version_minor": 0
      },
      "text/plain": [
       "Deleting npz dataset:   0%|          | 0/500 [00:00<?, ?it/s]"
      ]
     },
     "metadata": {},
     "output_type": "display_data"
    },
    {
     "data": {
      "application/vnd.jupyter.widget-view+json": {
       "model_id": "400ca9e7f8dd4dd9878902b129c68cfe",
       "version_major": 2,
       "version_minor": 0
      },
      "text/plain": [
       "Creating npz dataset:   0%|          | 0/500 [00:00<?, ?it/s]"
      ]
     },
     "metadata": {},
     "output_type": "display_data"
    },
    {
     "data": {
      "application/vnd.jupyter.widget-view+json": {
       "model_id": "2e31857372d64eafb43e22df146db2fd",
       "version_major": 2,
       "version_minor": 0
      },
      "text/plain": [
       "repeats:   0%|          | 0/2 [00:00<?, ?it/s]"
      ]
     },
     "metadata": {},
     "output_type": "display_data"
    },
    {
     "data": {
      "application/vnd.jupyter.widget-view+json": {
       "model_id": "7c63aa4e710d4f19bf0d797048b802c7",
       "version_major": 2,
       "version_minor": 0
      },
      "text/plain": [
       "reading:   0%|          | 0/500 [00:00<?, ?it/s]"
      ]
     },
     "metadata": {},
     "output_type": "display_data"
    },
    {
     "data": {
      "application/vnd.jupyter.widget-view+json": {
       "model_id": "b52facae24514eaea419ba191d55aa6f",
       "version_major": 2,
       "version_minor": 0
      },
      "text/plain": [
       "reading:   0%|          | 0/500 [00:00<?, ?it/s]"
      ]
     },
     "metadata": {},
     "output_type": "display_data"
    },
    {
     "data": {
      "application/vnd.jupyter.widget-view+json": {
       "model_id": "3fbcbdd0e3b14c0d96521c5b6fb0e104",
       "version_major": 2,
       "version_minor": 0
      },
      "text/plain": [
       "Deleting npz dataset:   0%|          | 0/500 [00:00<?, ?it/s]"
      ]
     },
     "metadata": {},
     "output_type": "display_data"
    },
    {
     "data": {
      "application/vnd.jupyter.widget-view+json": {
       "model_id": "bb65afc9c9b14d91ac3c196cbb8ce91d",
       "version_major": 2,
       "version_minor": 0
      },
      "text/plain": [
       "shuffle:   0%|          | 0/2 [00:00<?, ?it/s]"
      ]
     },
     "metadata": {},
     "output_type": "display_data"
    },
    {
     "data": {
      "application/vnd.jupyter.widget-view+json": {
       "model_id": "ee5f083ccb4e4deb85acff16743c6194",
       "version_major": 2,
       "version_minor": 0
      },
      "text/plain": [
       "Creating npz dataset:   0%|          | 0/500 [00:00<?, ?it/s]"
      ]
     },
     "metadata": {},
     "output_type": "display_data"
    },
    {
     "data": {
      "application/vnd.jupyter.widget-view+json": {
       "model_id": "b27d1e9139d244cabd058bb85d79afb8",
       "version_major": 2,
       "version_minor": 0
      },
      "text/plain": [
       "repeats:   0%|          | 0/2 [00:00<?, ?it/s]"
      ]
     },
     "metadata": {},
     "output_type": "display_data"
    },
    {
     "data": {
      "application/vnd.jupyter.widget-view+json": {
       "model_id": "92b91991254242f3b5508d5b8315f727",
       "version_major": 2,
       "version_minor": 0
      },
      "text/plain": [
       "reading:   0%|          | 0/500 [00:00<?, ?it/s]"
      ]
     },
     "metadata": {},
     "output_type": "display_data"
    },
    {
     "data": {
      "application/vnd.jupyter.widget-view+json": {
       "model_id": "138f38043d2b4268a7cedc689e7f0555",
       "version_major": 2,
       "version_minor": 0
      },
      "text/plain": [
       "reading:   0%|          | 0/500 [00:00<?, ?it/s]"
      ]
     },
     "metadata": {},
     "output_type": "display_data"
    },
    {
     "data": {
      "application/vnd.jupyter.widget-view+json": {
       "model_id": "2214ca7993ad476d8b3fe6d8eceefadc",
       "version_major": 2,
       "version_minor": 0
      },
      "text/plain": [
       "Deleting npz dataset:   0%|          | 0/500 [00:00<?, ?it/s]"
      ]
     },
     "metadata": {},
     "output_type": "display_data"
    },
    {
     "data": {
      "application/vnd.jupyter.widget-view+json": {
       "model_id": "a87db5b5308d45049c5c18603155428e",
       "version_major": 2,
       "version_minor": 0
      },
      "text/plain": [
       "Creating npz dataset:   0%|          | 0/500 [00:00<?, ?it/s]"
      ]
     },
     "metadata": {},
     "output_type": "display_data"
    },
    {
     "data": {
      "application/vnd.jupyter.widget-view+json": {
       "model_id": "6704c673899146c1b48218a4f6f6c0b3",
       "version_major": 2,
       "version_minor": 0
      },
      "text/plain": [
       "repeats:   0%|          | 0/2 [00:00<?, ?it/s]"
      ]
     },
     "metadata": {},
     "output_type": "display_data"
    },
    {
     "data": {
      "application/vnd.jupyter.widget-view+json": {
       "model_id": "2b6a870f544242caa18399bc3d514fe7",
       "version_major": 2,
       "version_minor": 0
      },
      "text/plain": [
       "reading:   0%|          | 0/500 [00:00<?, ?it/s]"
      ]
     },
     "metadata": {},
     "output_type": "display_data"
    },
    {
     "data": {
      "application/vnd.jupyter.widget-view+json": {
       "model_id": "59251d1ddbc74e2490f7297586ec820b",
       "version_major": 2,
       "version_minor": 0
      },
      "text/plain": [
       "reading:   0%|          | 0/500 [00:00<?, ?it/s]"
      ]
     },
     "metadata": {},
     "output_type": "display_data"
    },
    {
     "data": {
      "application/vnd.jupyter.widget-view+json": {
       "model_id": "4175acde8ef545b89285ba0a394cb7c1",
       "version_major": 2,
       "version_minor": 0
      },
      "text/plain": [
       "Deleting npz dataset:   0%|          | 0/500 [00:00<?, ?it/s]"
      ]
     },
     "metadata": {},
     "output_type": "display_data"
    },
    {
     "data": {
      "application/vnd.jupyter.widget-view+json": {
       "model_id": "315e95de7fc44383b36a50e5d18f6c0a",
       "version_major": 2,
       "version_minor": 0
      },
      "text/plain": [
       "shuffle:   0%|          | 0/2 [00:00<?, ?it/s]"
      ]
     },
     "metadata": {},
     "output_type": "display_data"
    },
    {
     "data": {
      "application/vnd.jupyter.widget-view+json": {
       "model_id": "2d7afbc89bcf4c559f290066be98c7f0",
       "version_major": 2,
       "version_minor": 0
      },
      "text/plain": [
       "Creating npz dataset:   0%|          | 0/500 [00:00<?, ?it/s]"
      ]
     },
     "metadata": {},
     "output_type": "display_data"
    },
    {
     "data": {
      "application/vnd.jupyter.widget-view+json": {
       "model_id": "daf7987d6be2456c9e0b0ab9f42a00ea",
       "version_major": 2,
       "version_minor": 0
      },
      "text/plain": [
       "repeats:   0%|          | 0/2 [00:00<?, ?it/s]"
      ]
     },
     "metadata": {},
     "output_type": "display_data"
    },
    {
     "data": {
      "application/vnd.jupyter.widget-view+json": {
       "model_id": "456c80cc0e0246c8a6d197df6fef24bf",
       "version_major": 2,
       "version_minor": 0
      },
      "text/plain": [
       "reading:   0%|          | 0/500 [00:00<?, ?it/s]"
      ]
     },
     "metadata": {},
     "output_type": "display_data"
    },
    {
     "data": {
      "application/vnd.jupyter.widget-view+json": {
       "model_id": "07937509b58a41b3a07279b168c7fa52",
       "version_major": 2,
       "version_minor": 0
      },
      "text/plain": [
       "reading:   0%|          | 0/500 [00:00<?, ?it/s]"
      ]
     },
     "metadata": {},
     "output_type": "display_data"
    },
    {
     "data": {
      "application/vnd.jupyter.widget-view+json": {
       "model_id": "14c2c916bdc14a4e85d9553e34e15bf7",
       "version_major": 2,
       "version_minor": 0
      },
      "text/plain": [
       "Deleting npz dataset:   0%|          | 0/500 [00:00<?, ?it/s]"
      ]
     },
     "metadata": {},
     "output_type": "display_data"
    },
    {
     "data": {
      "application/vnd.jupyter.widget-view+json": {
       "model_id": "583582cf16cc47deaa269d5de11687ab",
       "version_major": 2,
       "version_minor": 0
      },
      "text/plain": [
       "Creating npz dataset:   0%|          | 0/500 [00:00<?, ?it/s]"
      ]
     },
     "metadata": {},
     "output_type": "display_data"
    },
    {
     "data": {
      "application/vnd.jupyter.widget-view+json": {
       "model_id": "22bba283ece84ce2ab28e387f79a7f7a",
       "version_major": 2,
       "version_minor": 0
      },
      "text/plain": [
       "repeats:   0%|          | 0/2 [00:00<?, ?it/s]"
      ]
     },
     "metadata": {},
     "output_type": "display_data"
    },
    {
     "data": {
      "application/vnd.jupyter.widget-view+json": {
       "model_id": "76cd6b7c242f429e91908993a9d19be3",
       "version_major": 2,
       "version_minor": 0
      },
      "text/plain": [
       "reading:   0%|          | 0/500 [00:00<?, ?it/s]"
      ]
     },
     "metadata": {},
     "output_type": "display_data"
    },
    {
     "data": {
      "application/vnd.jupyter.widget-view+json": {
       "model_id": "fa8d8ef74f964671b03294afeeb74a91",
       "version_major": 2,
       "version_minor": 0
      },
      "text/plain": [
       "reading:   0%|          | 0/500 [00:00<?, ?it/s]"
      ]
     },
     "metadata": {},
     "output_type": "display_data"
    },
    {
     "data": {
      "application/vnd.jupyter.widget-view+json": {
       "model_id": "c6c306f157b1428583e5f5c85bbe3106",
       "version_major": 2,
       "version_minor": 0
      },
      "text/plain": [
       "Deleting npz dataset:   0%|          | 0/500 [00:00<?, ?it/s]"
      ]
     },
     "metadata": {},
     "output_type": "display_data"
    },
    {
     "data": {
      "application/vnd.jupyter.widget-view+json": {
       "model_id": "98f6d82ae5714ebd94be387380a04678",
       "version_major": 2,
       "version_minor": 0
      },
      "text/plain": [
       "shuffle:   0%|          | 0/2 [00:00<?, ?it/s]"
      ]
     },
     "metadata": {},
     "output_type": "display_data"
    },
    {
     "data": {
      "application/vnd.jupyter.widget-view+json": {
       "model_id": "7b128587b69841358e46657e7d836a98",
       "version_major": 2,
       "version_minor": 0
      },
      "text/plain": [
       "Creating npz dataset:   0%|          | 0/500 [00:00<?, ?it/s]"
      ]
     },
     "metadata": {},
     "output_type": "display_data"
    },
    {
     "data": {
      "application/vnd.jupyter.widget-view+json": {
       "model_id": "052b7fb6ea764649810b8566643c4fe3",
       "version_major": 2,
       "version_minor": 0
      },
      "text/plain": [
       "repeats:   0%|          | 0/2 [00:00<?, ?it/s]"
      ]
     },
     "metadata": {},
     "output_type": "display_data"
    },
    {
     "data": {
      "application/vnd.jupyter.widget-view+json": {
       "model_id": "83d5c6ae0fd948b68838400e9cc323ff",
       "version_major": 2,
       "version_minor": 0
      },
      "text/plain": [
       "reading:   0%|          | 0/500 [00:00<?, ?it/s]"
      ]
     },
     "metadata": {},
     "output_type": "display_data"
    },
    {
     "data": {
      "application/vnd.jupyter.widget-view+json": {
       "model_id": "a458e1c9d3cc44b3869a9230cb2bab7d",
       "version_major": 2,
       "version_minor": 0
      },
      "text/plain": [
       "reading:   0%|          | 0/500 [00:00<?, ?it/s]"
      ]
     },
     "metadata": {},
     "output_type": "display_data"
    },
    {
     "data": {
      "application/vnd.jupyter.widget-view+json": {
       "model_id": "4c89f2cd092f45c390b00e09ebe1de5f",
       "version_major": 2,
       "version_minor": 0
      },
      "text/plain": [
       "Deleting npz dataset:   0%|          | 0/500 [00:00<?, ?it/s]"
      ]
     },
     "metadata": {},
     "output_type": "display_data"
    },
    {
     "data": {
      "application/vnd.jupyter.widget-view+json": {
       "model_id": "86c0377ca5df4c678dd153fa47a84206",
       "version_major": 2,
       "version_minor": 0
      },
      "text/plain": [
       "Creating npz dataset:   0%|          | 0/500 [00:00<?, ?it/s]"
      ]
     },
     "metadata": {},
     "output_type": "display_data"
    },
    {
     "data": {
      "application/vnd.jupyter.widget-view+json": {
       "model_id": "93dbd27b1c3e45258865e355cbe94b7e",
       "version_major": 2,
       "version_minor": 0
      },
      "text/plain": [
       "repeats:   0%|          | 0/2 [00:00<?, ?it/s]"
      ]
     },
     "metadata": {},
     "output_type": "display_data"
    },
    {
     "data": {
      "application/vnd.jupyter.widget-view+json": {
       "model_id": "1580d6ea69fd4674a2063873d9dbecdc",
       "version_major": 2,
       "version_minor": 0
      },
      "text/plain": [
       "reading:   0%|          | 0/500 [00:00<?, ?it/s]"
      ]
     },
     "metadata": {},
     "output_type": "display_data"
    },
    {
     "data": {
      "application/vnd.jupyter.widget-view+json": {
       "model_id": "3256e2f17cd3431c9049c0128bfdf42b",
       "version_major": 2,
       "version_minor": 0
      },
      "text/plain": [
       "reading:   0%|          | 0/500 [00:00<?, ?it/s]"
      ]
     },
     "metadata": {},
     "output_type": "display_data"
    },
    {
     "data": {
      "application/vnd.jupyter.widget-view+json": {
       "model_id": "0755d85284d84c7298b141618e60a38b",
       "version_major": 2,
       "version_minor": 0
      },
      "text/plain": [
       "Deleting npz dataset:   0%|          | 0/500 [00:00<?, ?it/s]"
      ]
     },
     "metadata": {},
     "output_type": "display_data"
    },
    {
     "data": {
      "application/vnd.jupyter.widget-view+json": {
       "model_id": "07b703f92ddb4d769d4cf46491b04f2d",
       "version_major": 2,
       "version_minor": 0
      },
      "text/plain": [
       "shuffle:   0%|          | 0/2 [00:00<?, ?it/s]"
      ]
     },
     "metadata": {},
     "output_type": "display_data"
    },
    {
     "data": {
      "application/vnd.jupyter.widget-view+json": {
       "model_id": "2f76129fb1934869935e6de5c3735902",
       "version_major": 2,
       "version_minor": 0
      },
      "text/plain": [
       "Creating npz dataset:   0%|          | 0/500 [00:00<?, ?it/s]"
      ]
     },
     "metadata": {},
     "output_type": "display_data"
    },
    {
     "data": {
      "application/vnd.jupyter.widget-view+json": {
       "model_id": "a8de465af9674bbaa7f3d36a9689b178",
       "version_major": 2,
       "version_minor": 0
      },
      "text/plain": [
       "repeats:   0%|          | 0/2 [00:00<?, ?it/s]"
      ]
     },
     "metadata": {},
     "output_type": "display_data"
    },
    {
     "data": {
      "application/vnd.jupyter.widget-view+json": {
       "model_id": "e5eb9c527bd14dab815b822b6c182a38",
       "version_major": 2,
       "version_minor": 0
      },
      "text/plain": [
       "reading:   0%|          | 0/500 [00:00<?, ?it/s]"
      ]
     },
     "metadata": {},
     "output_type": "display_data"
    },
    {
     "data": {
      "application/vnd.jupyter.widget-view+json": {
       "model_id": "a2cc1d4d5d724569b52c8450973f3f09",
       "version_major": 2,
       "version_minor": 0
      },
      "text/plain": [
       "reading:   0%|          | 0/500 [00:00<?, ?it/s]"
      ]
     },
     "metadata": {},
     "output_type": "display_data"
    },
    {
     "data": {
      "application/vnd.jupyter.widget-view+json": {
       "model_id": "8d4694cfb0ae43c596f963143a934751",
       "version_major": 2,
       "version_minor": 0
      },
      "text/plain": [
       "Deleting npz dataset:   0%|          | 0/500 [00:00<?, ?it/s]"
      ]
     },
     "metadata": {},
     "output_type": "display_data"
    },
    {
     "data": {
      "application/vnd.jupyter.widget-view+json": {
       "model_id": "332a9da1ed71404c83bd22fa3165244f",
       "version_major": 2,
       "version_minor": 0
      },
      "text/plain": [
       "Creating npz dataset:   0%|          | 0/500 [00:00<?, ?it/s]"
      ]
     },
     "metadata": {},
     "output_type": "display_data"
    },
    {
     "data": {
      "application/vnd.jupyter.widget-view+json": {
       "model_id": "e08daf74260d4b08b2b991a2beca598b",
       "version_major": 2,
       "version_minor": 0
      },
      "text/plain": [
       "repeats:   0%|          | 0/2 [00:00<?, ?it/s]"
      ]
     },
     "metadata": {},
     "output_type": "display_data"
    },
    {
     "data": {
      "application/vnd.jupyter.widget-view+json": {
       "model_id": "5e86de0ae9a44c839d0434b2f6890360",
       "version_major": 2,
       "version_minor": 0
      },
      "text/plain": [
       "reading:   0%|          | 0/500 [00:00<?, ?it/s]"
      ]
     },
     "metadata": {},
     "output_type": "display_data"
    },
    {
     "data": {
      "application/vnd.jupyter.widget-view+json": {
       "model_id": "6397c5a506324050a7b61577da4e3c68",
       "version_major": 2,
       "version_minor": 0
      },
      "text/plain": [
       "reading:   0%|          | 0/500 [00:00<?, ?it/s]"
      ]
     },
     "metadata": {},
     "output_type": "display_data"
    },
    {
     "data": {
      "application/vnd.jupyter.widget-view+json": {
       "model_id": "a03bc445024c48a6a6388e347ad82362",
       "version_major": 2,
       "version_minor": 0
      },
      "text/plain": [
       "Deleting npz dataset:   0%|          | 0/500 [00:00<?, ?it/s]"
      ]
     },
     "metadata": {},
     "output_type": "display_data"
    },
    {
     "data": {
      "application/vnd.jupyter.widget-view+json": {
       "model_id": "c94fbb1b1de6435c8779f93ec39abdbe",
       "version_major": 2,
       "version_minor": 0
      },
      "text/plain": [
       "n_values_per_row:   0%|          | 0/8 [00:00<?, ?it/s]"
      ]
     },
     "metadata": {},
     "output_type": "display_data"
    },
    {
     "data": {
      "application/vnd.jupyter.widget-view+json": {
       "model_id": "edc683d37c274e35aaddd921d8675ee7",
       "version_major": 2,
       "version_minor": 0
      },
      "text/plain": [
       "shuffle:   0%|          | 0/2 [00:00<?, ?it/s]"
      ]
     },
     "metadata": {},
     "output_type": "display_data"
    },
    {
     "data": {
      "application/vnd.jupyter.widget-view+json": {
       "model_id": "9b4d30396a8447c9b4b28d61766834cc",
       "version_major": 2,
       "version_minor": 0
      },
      "text/plain": [
       "Creating npz dataset:   0%|          | 0/1000 [00:00<?, ?it/s]"
      ]
     },
     "metadata": {},
     "output_type": "display_data"
    },
    {
     "data": {
      "application/vnd.jupyter.widget-view+json": {
       "model_id": "7b6f7c71e5be410db20073c82fef0038",
       "version_major": 2,
       "version_minor": 0
      },
      "text/plain": [
       "repeats:   0%|          | 0/2 [00:00<?, ?it/s]"
      ]
     },
     "metadata": {},
     "output_type": "display_data"
    },
    {
     "data": {
      "application/vnd.jupyter.widget-view+json": {
       "model_id": "9ee1f0a7f0254d36818585e28a320039",
       "version_major": 2,
       "version_minor": 0
      },
      "text/plain": [
       "reading:   0%|          | 0/1000 [00:00<?, ?it/s]"
      ]
     },
     "metadata": {},
     "output_type": "display_data"
    },
    {
     "data": {
      "application/vnd.jupyter.widget-view+json": {
       "model_id": "9ab21d81de2e4347858088885ad2a75f",
       "version_major": 2,
       "version_minor": 0
      },
      "text/plain": [
       "reading:   0%|          | 0/1000 [00:00<?, ?it/s]"
      ]
     },
     "metadata": {},
     "output_type": "display_data"
    },
    {
     "data": {
      "application/vnd.jupyter.widget-view+json": {
       "model_id": "2e639f72f7324ea48077be991a6bbd4f",
       "version_major": 2,
       "version_minor": 0
      },
      "text/plain": [
       "Deleting npz dataset:   0%|          | 0/1000 [00:00<?, ?it/s]"
      ]
     },
     "metadata": {},
     "output_type": "display_data"
    },
    {
     "data": {
      "application/vnd.jupyter.widget-view+json": {
       "model_id": "a76a484c414e4b168ccec3b78a6b624a",
       "version_major": 2,
       "version_minor": 0
      },
      "text/plain": [
       "Creating npz dataset:   0%|          | 0/1000 [00:00<?, ?it/s]"
      ]
     },
     "metadata": {},
     "output_type": "display_data"
    },
    {
     "data": {
      "application/vnd.jupyter.widget-view+json": {
       "model_id": "873ed74441e647ada34f70ca973e6fee",
       "version_major": 2,
       "version_minor": 0
      },
      "text/plain": [
       "repeats:   0%|          | 0/2 [00:00<?, ?it/s]"
      ]
     },
     "metadata": {},
     "output_type": "display_data"
    },
    {
     "data": {
      "application/vnd.jupyter.widget-view+json": {
       "model_id": "3276e6ce17ce4a2a97813d48b2d9940d",
       "version_major": 2,
       "version_minor": 0
      },
      "text/plain": [
       "reading:   0%|          | 0/1000 [00:00<?, ?it/s]"
      ]
     },
     "metadata": {},
     "output_type": "display_data"
    },
    {
     "data": {
      "application/vnd.jupyter.widget-view+json": {
       "model_id": "c168fd65ccdc4b7cb7625cb18762bc68",
       "version_major": 2,
       "version_minor": 0
      },
      "text/plain": [
       "reading:   0%|          | 0/1000 [00:00<?, ?it/s]"
      ]
     },
     "metadata": {},
     "output_type": "display_data"
    },
    {
     "data": {
      "application/vnd.jupyter.widget-view+json": {
       "model_id": "3125b3ee11a840bfbb8ac3093562ebbf",
       "version_major": 2,
       "version_minor": 0
      },
      "text/plain": [
       "Deleting npz dataset:   0%|          | 0/1000 [00:00<?, ?it/s]"
      ]
     },
     "metadata": {},
     "output_type": "display_data"
    },
    {
     "data": {
      "application/vnd.jupyter.widget-view+json": {
       "model_id": "74cc922962cc45ddbc83d2d3de9aea4e",
       "version_major": 2,
       "version_minor": 0
      },
      "text/plain": [
       "shuffle:   0%|          | 0/2 [00:00<?, ?it/s]"
      ]
     },
     "metadata": {},
     "output_type": "display_data"
    },
    {
     "data": {
      "application/vnd.jupyter.widget-view+json": {
       "model_id": "11c8525407444bbf86352cb6be8120d2",
       "version_major": 2,
       "version_minor": 0
      },
      "text/plain": [
       "Creating npz dataset:   0%|          | 0/1000 [00:00<?, ?it/s]"
      ]
     },
     "metadata": {},
     "output_type": "display_data"
    },
    {
     "data": {
      "application/vnd.jupyter.widget-view+json": {
       "model_id": "030f24f9ad1f4e22962cf38fb273f858",
       "version_major": 2,
       "version_minor": 0
      },
      "text/plain": [
       "repeats:   0%|          | 0/2 [00:00<?, ?it/s]"
      ]
     },
     "metadata": {},
     "output_type": "display_data"
    },
    {
     "data": {
      "application/vnd.jupyter.widget-view+json": {
       "model_id": "a988ed2f275f4b7e9d23bc853f73fffa",
       "version_major": 2,
       "version_minor": 0
      },
      "text/plain": [
       "reading:   0%|          | 0/1000 [00:00<?, ?it/s]"
      ]
     },
     "metadata": {},
     "output_type": "display_data"
    },
    {
     "data": {
      "application/vnd.jupyter.widget-view+json": {
       "model_id": "66ceefc9781b41a6ac8f49f41b2ac4ee",
       "version_major": 2,
       "version_minor": 0
      },
      "text/plain": [
       "reading:   0%|          | 0/1000 [00:00<?, ?it/s]"
      ]
     },
     "metadata": {},
     "output_type": "display_data"
    },
    {
     "data": {
      "application/vnd.jupyter.widget-view+json": {
       "model_id": "d99f4fcc4e1941e094864fce0b7394bb",
       "version_major": 2,
       "version_minor": 0
      },
      "text/plain": [
       "Deleting npz dataset:   0%|          | 0/1000 [00:00<?, ?it/s]"
      ]
     },
     "metadata": {},
     "output_type": "display_data"
    },
    {
     "data": {
      "application/vnd.jupyter.widget-view+json": {
       "model_id": "88095ce3968c458c96b9486f1704a771",
       "version_major": 2,
       "version_minor": 0
      },
      "text/plain": [
       "Creating npz dataset:   0%|          | 0/1000 [00:00<?, ?it/s]"
      ]
     },
     "metadata": {},
     "output_type": "display_data"
    },
    {
     "data": {
      "application/vnd.jupyter.widget-view+json": {
       "model_id": "cffab075b2db4190b80481104c3237b9",
       "version_major": 2,
       "version_minor": 0
      },
      "text/plain": [
       "repeats:   0%|          | 0/2 [00:00<?, ?it/s]"
      ]
     },
     "metadata": {},
     "output_type": "display_data"
    },
    {
     "data": {
      "application/vnd.jupyter.widget-view+json": {
       "model_id": "534745db0cb243a7b62836289f3ad04f",
       "version_major": 2,
       "version_minor": 0
      },
      "text/plain": [
       "reading:   0%|          | 0/1000 [00:00<?, ?it/s]"
      ]
     },
     "metadata": {},
     "output_type": "display_data"
    },
    {
     "data": {
      "application/vnd.jupyter.widget-view+json": {
       "model_id": "fdab350d6e9c409981981b28d2d097a1",
       "version_major": 2,
       "version_minor": 0
      },
      "text/plain": [
       "reading:   0%|          | 0/1000 [00:00<?, ?it/s]"
      ]
     },
     "metadata": {},
     "output_type": "display_data"
    },
    {
     "data": {
      "application/vnd.jupyter.widget-view+json": {
       "model_id": "7bf953b035164f8481586ad3241c5bf5",
       "version_major": 2,
       "version_minor": 0
      },
      "text/plain": [
       "Deleting npz dataset:   0%|          | 0/1000 [00:00<?, ?it/s]"
      ]
     },
     "metadata": {},
     "output_type": "display_data"
    },
    {
     "data": {
      "application/vnd.jupyter.widget-view+json": {
       "model_id": "5fc922636e0f44488bbad52ae35ad0ae",
       "version_major": 2,
       "version_minor": 0
      },
      "text/plain": [
       "shuffle:   0%|          | 0/2 [00:00<?, ?it/s]"
      ]
     },
     "metadata": {},
     "output_type": "display_data"
    },
    {
     "data": {
      "application/vnd.jupyter.widget-view+json": {
       "model_id": "87c113cee32a4ff6afb93175c20bd90f",
       "version_major": 2,
       "version_minor": 0
      },
      "text/plain": [
       "Creating npz dataset:   0%|          | 0/1000 [00:00<?, ?it/s]"
      ]
     },
     "metadata": {},
     "output_type": "display_data"
    },
    {
     "data": {
      "application/vnd.jupyter.widget-view+json": {
       "model_id": "10c1598abc16461f975aacdd8ac0b050",
       "version_major": 2,
       "version_minor": 0
      },
      "text/plain": [
       "repeats:   0%|          | 0/2 [00:00<?, ?it/s]"
      ]
     },
     "metadata": {},
     "output_type": "display_data"
    },
    {
     "data": {
      "application/vnd.jupyter.widget-view+json": {
       "model_id": "69e714e7661948bc8807646cbf429f86",
       "version_major": 2,
       "version_minor": 0
      },
      "text/plain": [
       "reading:   0%|          | 0/1000 [00:00<?, ?it/s]"
      ]
     },
     "metadata": {},
     "output_type": "display_data"
    },
    {
     "data": {
      "application/vnd.jupyter.widget-view+json": {
       "model_id": "9ac0ea6c53a04e3ab67674ec93ccd509",
       "version_major": 2,
       "version_minor": 0
      },
      "text/plain": [
       "reading:   0%|          | 0/1000 [00:00<?, ?it/s]"
      ]
     },
     "metadata": {},
     "output_type": "display_data"
    },
    {
     "data": {
      "application/vnd.jupyter.widget-view+json": {
       "model_id": "845a8f1199d94f0fa3c00d9d261e1e24",
       "version_major": 2,
       "version_minor": 0
      },
      "text/plain": [
       "Deleting npz dataset:   0%|          | 0/1000 [00:00<?, ?it/s]"
      ]
     },
     "metadata": {},
     "output_type": "display_data"
    },
    {
     "data": {
      "application/vnd.jupyter.widget-view+json": {
       "model_id": "1f5de68d5bd34f45831db73eee38d724",
       "version_major": 2,
       "version_minor": 0
      },
      "text/plain": [
       "Creating npz dataset:   0%|          | 0/1000 [00:00<?, ?it/s]"
      ]
     },
     "metadata": {},
     "output_type": "display_data"
    },
    {
     "data": {
      "application/vnd.jupyter.widget-view+json": {
       "model_id": "3d437a6305f14b87abdb5c7c1a71a459",
       "version_major": 2,
       "version_minor": 0
      },
      "text/plain": [
       "repeats:   0%|          | 0/2 [00:00<?, ?it/s]"
      ]
     },
     "metadata": {},
     "output_type": "display_data"
    },
    {
     "data": {
      "application/vnd.jupyter.widget-view+json": {
       "model_id": "eae2a17b090242b993d40420e694013c",
       "version_major": 2,
       "version_minor": 0
      },
      "text/plain": [
       "reading:   0%|          | 0/1000 [00:00<?, ?it/s]"
      ]
     },
     "metadata": {},
     "output_type": "display_data"
    },
    {
     "data": {
      "application/vnd.jupyter.widget-view+json": {
       "model_id": "61c17be5df6e4a9e8209ee186a0a2907",
       "version_major": 2,
       "version_minor": 0
      },
      "text/plain": [
       "reading:   0%|          | 0/1000 [00:00<?, ?it/s]"
      ]
     },
     "metadata": {},
     "output_type": "display_data"
    },
    {
     "data": {
      "application/vnd.jupyter.widget-view+json": {
       "model_id": "efa0d4e629864e7faeff1b913c6e5aaf",
       "version_major": 2,
       "version_minor": 0
      },
      "text/plain": [
       "Deleting npz dataset:   0%|          | 0/1000 [00:00<?, ?it/s]"
      ]
     },
     "metadata": {},
     "output_type": "display_data"
    },
    {
     "data": {
      "application/vnd.jupyter.widget-view+json": {
       "model_id": "47669728b3464d8c9d4cc03ecd07ccd2",
       "version_major": 2,
       "version_minor": 0
      },
      "text/plain": [
       "shuffle:   0%|          | 0/2 [00:00<?, ?it/s]"
      ]
     },
     "metadata": {},
     "output_type": "display_data"
    },
    {
     "data": {
      "application/vnd.jupyter.widget-view+json": {
       "model_id": "6411714e1d394a66810f6c5ede7af602",
       "version_major": 2,
       "version_minor": 0
      },
      "text/plain": [
       "Creating npz dataset:   0%|          | 0/1000 [00:00<?, ?it/s]"
      ]
     },
     "metadata": {},
     "output_type": "display_data"
    },
    {
     "data": {
      "application/vnd.jupyter.widget-view+json": {
       "model_id": "d109ba9db6ca4883a0680b71bab45c1a",
       "version_major": 2,
       "version_minor": 0
      },
      "text/plain": [
       "repeats:   0%|          | 0/2 [00:00<?, ?it/s]"
      ]
     },
     "metadata": {},
     "output_type": "display_data"
    },
    {
     "data": {
      "application/vnd.jupyter.widget-view+json": {
       "model_id": "1885ecafc7664582b9e8b718025e1a03",
       "version_major": 2,
       "version_minor": 0
      },
      "text/plain": [
       "reading:   0%|          | 0/1000 [00:00<?, ?it/s]"
      ]
     },
     "metadata": {},
     "output_type": "display_data"
    },
    {
     "data": {
      "application/vnd.jupyter.widget-view+json": {
       "model_id": "6e0e5df61e24496dad49e2b0268cdd94",
       "version_major": 2,
       "version_minor": 0
      },
      "text/plain": [
       "reading:   0%|          | 0/1000 [00:00<?, ?it/s]"
      ]
     },
     "metadata": {},
     "output_type": "display_data"
    },
    {
     "data": {
      "application/vnd.jupyter.widget-view+json": {
       "model_id": "0abcdfbd419d4194bbf9db9d7cda431e",
       "version_major": 2,
       "version_minor": 0
      },
      "text/plain": [
       "Deleting npz dataset:   0%|          | 0/1000 [00:00<?, ?it/s]"
      ]
     },
     "metadata": {},
     "output_type": "display_data"
    },
    {
     "data": {
      "application/vnd.jupyter.widget-view+json": {
       "model_id": "86fe087f9c824092b15889ad767ede5c",
       "version_major": 2,
       "version_minor": 0
      },
      "text/plain": [
       "Creating npz dataset:   0%|          | 0/1000 [00:00<?, ?it/s]"
      ]
     },
     "metadata": {},
     "output_type": "display_data"
    },
    {
     "data": {
      "application/vnd.jupyter.widget-view+json": {
       "model_id": "9416156c28e846e4907f2185b3cafa24",
       "version_major": 2,
       "version_minor": 0
      },
      "text/plain": [
       "repeats:   0%|          | 0/2 [00:00<?, ?it/s]"
      ]
     },
     "metadata": {},
     "output_type": "display_data"
    },
    {
     "data": {
      "application/vnd.jupyter.widget-view+json": {
       "model_id": "6606d00859d147f1b8846732e47ff0a7",
       "version_major": 2,
       "version_minor": 0
      },
      "text/plain": [
       "reading:   0%|          | 0/1000 [00:00<?, ?it/s]"
      ]
     },
     "metadata": {},
     "output_type": "display_data"
    },
    {
     "data": {
      "application/vnd.jupyter.widget-view+json": {
       "model_id": "461347edbbf04b9dab4815d85aecfb03",
       "version_major": 2,
       "version_minor": 0
      },
      "text/plain": [
       "reading:   0%|          | 0/1000 [00:00<?, ?it/s]"
      ]
     },
     "metadata": {},
     "output_type": "display_data"
    },
    {
     "data": {
      "application/vnd.jupyter.widget-view+json": {
       "model_id": "d3f156a4e670407da5490f9f6702b23e",
       "version_major": 2,
       "version_minor": 0
      },
      "text/plain": [
       "Deleting npz dataset:   0%|          | 0/1000 [00:00<?, ?it/s]"
      ]
     },
     "metadata": {},
     "output_type": "display_data"
    },
    {
     "data": {
      "application/vnd.jupyter.widget-view+json": {
       "model_id": "6944ad7a399b45e8a22ccbc13376e2c9",
       "version_major": 2,
       "version_minor": 0
      },
      "text/plain": [
       "shuffle:   0%|          | 0/2 [00:00<?, ?it/s]"
      ]
     },
     "metadata": {},
     "output_type": "display_data"
    },
    {
     "data": {
      "application/vnd.jupyter.widget-view+json": {
       "model_id": "e1e5bee1d8f544e48dec405082d31c93",
       "version_major": 2,
       "version_minor": 0
      },
      "text/plain": [
       "Creating npz dataset:   0%|          | 0/1000 [00:00<?, ?it/s]"
      ]
     },
     "metadata": {},
     "output_type": "display_data"
    },
    {
     "data": {
      "application/vnd.jupyter.widget-view+json": {
       "model_id": "94c75537b1cc402486f38bf9c62a8736",
       "version_major": 2,
       "version_minor": 0
      },
      "text/plain": [
       "repeats:   0%|          | 0/2 [00:00<?, ?it/s]"
      ]
     },
     "metadata": {},
     "output_type": "display_data"
    },
    {
     "data": {
      "application/vnd.jupyter.widget-view+json": {
       "model_id": "385732bdff7c4c01977b32cdd24b5659",
       "version_major": 2,
       "version_minor": 0
      },
      "text/plain": [
       "reading:   0%|          | 0/1000 [00:00<?, ?it/s]"
      ]
     },
     "metadata": {},
     "output_type": "display_data"
    },
    {
     "data": {
      "application/vnd.jupyter.widget-view+json": {
       "model_id": "12c057b6897844e5bd9b99ab4da3dcad",
       "version_major": 2,
       "version_minor": 0
      },
      "text/plain": [
       "reading:   0%|          | 0/1000 [00:00<?, ?it/s]"
      ]
     },
     "metadata": {},
     "output_type": "display_data"
    },
    {
     "data": {
      "application/vnd.jupyter.widget-view+json": {
       "model_id": "a351e86f0ed044ed9b8847777ab8f11b",
       "version_major": 2,
       "version_minor": 0
      },
      "text/plain": [
       "Deleting npz dataset:   0%|          | 0/1000 [00:00<?, ?it/s]"
      ]
     },
     "metadata": {},
     "output_type": "display_data"
    },
    {
     "data": {
      "application/vnd.jupyter.widget-view+json": {
       "model_id": "f77ec1c196f64fb780a52d0831dcce6b",
       "version_major": 2,
       "version_minor": 0
      },
      "text/plain": [
       "Creating npz dataset:   0%|          | 0/1000 [00:00<?, ?it/s]"
      ]
     },
     "metadata": {},
     "output_type": "display_data"
    },
    {
     "data": {
      "application/vnd.jupyter.widget-view+json": {
       "model_id": "f55943c2db62468bacaca7013cd8c807",
       "version_major": 2,
       "version_minor": 0
      },
      "text/plain": [
       "repeats:   0%|          | 0/2 [00:00<?, ?it/s]"
      ]
     },
     "metadata": {},
     "output_type": "display_data"
    },
    {
     "data": {
      "application/vnd.jupyter.widget-view+json": {
       "model_id": "781b2686029842b0b00135aa0c0f0b3c",
       "version_major": 2,
       "version_minor": 0
      },
      "text/plain": [
       "reading:   0%|          | 0/1000 [00:00<?, ?it/s]"
      ]
     },
     "metadata": {},
     "output_type": "display_data"
    },
    {
     "data": {
      "application/vnd.jupyter.widget-view+json": {
       "model_id": "8c8ad4b41c3640eba40566855139d9e2",
       "version_major": 2,
       "version_minor": 0
      },
      "text/plain": [
       "reading:   0%|          | 0/1000 [00:00<?, ?it/s]"
      ]
     },
     "metadata": {},
     "output_type": "display_data"
    },
    {
     "data": {
      "application/vnd.jupyter.widget-view+json": {
       "model_id": "8ee3ff73f6e14ce6a8064d8f0210d58e",
       "version_major": 2,
       "version_minor": 0
      },
      "text/plain": [
       "Deleting npz dataset:   0%|          | 0/1000 [00:00<?, ?it/s]"
      ]
     },
     "metadata": {},
     "output_type": "display_data"
    },
    {
     "data": {
      "application/vnd.jupyter.widget-view+json": {
       "model_id": "d69cd22f382e4e35a660784416063381",
       "version_major": 2,
       "version_minor": 0
      },
      "text/plain": [
       "shuffle:   0%|          | 0/2 [00:00<?, ?it/s]"
      ]
     },
     "metadata": {},
     "output_type": "display_data"
    },
    {
     "data": {
      "application/vnd.jupyter.widget-view+json": {
       "model_id": "18af2184ab1f4509a4d0197d267e045a",
       "version_major": 2,
       "version_minor": 0
      },
      "text/plain": [
       "Creating npz dataset:   0%|          | 0/1000 [00:00<?, ?it/s]"
      ]
     },
     "metadata": {},
     "output_type": "display_data"
    },
    {
     "data": {
      "application/vnd.jupyter.widget-view+json": {
       "model_id": "27b91e3ae90040ba9bf74614efc8f77b",
       "version_major": 2,
       "version_minor": 0
      },
      "text/plain": [
       "repeats:   0%|          | 0/2 [00:00<?, ?it/s]"
      ]
     },
     "metadata": {},
     "output_type": "display_data"
    },
    {
     "data": {
      "application/vnd.jupyter.widget-view+json": {
       "model_id": "b18d8d6d03a343f5b25e6ab58cf4b958",
       "version_major": 2,
       "version_minor": 0
      },
      "text/plain": [
       "reading:   0%|          | 0/1000 [00:00<?, ?it/s]"
      ]
     },
     "metadata": {},
     "output_type": "display_data"
    },
    {
     "data": {
      "application/vnd.jupyter.widget-view+json": {
       "model_id": "9a318f2e57d9453ba599e10e5f22f143",
       "version_major": 2,
       "version_minor": 0
      },
      "text/plain": [
       "reading:   0%|          | 0/1000 [00:00<?, ?it/s]"
      ]
     },
     "metadata": {},
     "output_type": "display_data"
    },
    {
     "data": {
      "application/vnd.jupyter.widget-view+json": {
       "model_id": "1606b7de0b6049b1bce07ded436b3d1a",
       "version_major": 2,
       "version_minor": 0
      },
      "text/plain": [
       "Deleting npz dataset:   0%|          | 0/1000 [00:00<?, ?it/s]"
      ]
     },
     "metadata": {},
     "output_type": "display_data"
    },
    {
     "data": {
      "application/vnd.jupyter.widget-view+json": {
       "model_id": "3404001fc048458090a4822b988dc130",
       "version_major": 2,
       "version_minor": 0
      },
      "text/plain": [
       "Creating npz dataset:   0%|          | 0/1000 [00:00<?, ?it/s]"
      ]
     },
     "metadata": {},
     "output_type": "display_data"
    },
    {
     "data": {
      "application/vnd.jupyter.widget-view+json": {
       "model_id": "01d0c1b3843640a8805414be3b96bd5d",
       "version_major": 2,
       "version_minor": 0
      },
      "text/plain": [
       "repeats:   0%|          | 0/2 [00:00<?, ?it/s]"
      ]
     },
     "metadata": {},
     "output_type": "display_data"
    },
    {
     "data": {
      "application/vnd.jupyter.widget-view+json": {
       "model_id": "bb6043b0cb2445e78f202ce2653c0187",
       "version_major": 2,
       "version_minor": 0
      },
      "text/plain": [
       "reading:   0%|          | 0/1000 [00:00<?, ?it/s]"
      ]
     },
     "metadata": {},
     "output_type": "display_data"
    },
    {
     "data": {
      "application/vnd.jupyter.widget-view+json": {
       "model_id": "3c865a53d9144d7785d218fe4e6a87f8",
       "version_major": 2,
       "version_minor": 0
      },
      "text/plain": [
       "reading:   0%|          | 0/1000 [00:00<?, ?it/s]"
      ]
     },
     "metadata": {},
     "output_type": "display_data"
    },
    {
     "data": {
      "application/vnd.jupyter.widget-view+json": {
       "model_id": "658657e61ea445a199706a51236a9308",
       "version_major": 2,
       "version_minor": 0
      },
      "text/plain": [
       "Deleting npz dataset:   0%|          | 0/1000 [00:00<?, ?it/s]"
      ]
     },
     "metadata": {},
     "output_type": "display_data"
    },
    {
     "data": {
      "application/vnd.jupyter.widget-view+json": {
       "model_id": "3eb9f499c94a4b4884bc74b22595851d",
       "version_major": 2,
       "version_minor": 0
      },
      "text/plain": [
       "shuffle:   0%|          | 0/2 [00:00<?, ?it/s]"
      ]
     },
     "metadata": {},
     "output_type": "display_data"
    },
    {
     "data": {
      "application/vnd.jupyter.widget-view+json": {
       "model_id": "fbe9dfe4301b4a20bd489ef14f1331f9",
       "version_major": 2,
       "version_minor": 0
      },
      "text/plain": [
       "Creating npz dataset:   0%|          | 0/1000 [00:00<?, ?it/s]"
      ]
     },
     "metadata": {},
     "output_type": "display_data"
    },
    {
     "data": {
      "application/vnd.jupyter.widget-view+json": {
       "model_id": "79c22f8011c8442aac1463217d79d2bd",
       "version_major": 2,
       "version_minor": 0
      },
      "text/plain": [
       "repeats:   0%|          | 0/2 [00:00<?, ?it/s]"
      ]
     },
     "metadata": {},
     "output_type": "display_data"
    },
    {
     "data": {
      "application/vnd.jupyter.widget-view+json": {
       "model_id": "f23b4a49ac36403f8cb23b1343ed8248",
       "version_major": 2,
       "version_minor": 0
      },
      "text/plain": [
       "reading:   0%|          | 0/1000 [00:00<?, ?it/s]"
      ]
     },
     "metadata": {},
     "output_type": "display_data"
    },
    {
     "data": {
      "application/vnd.jupyter.widget-view+json": {
       "model_id": "6e96d274f42848b38766f2b7ea522921",
       "version_major": 2,
       "version_minor": 0
      },
      "text/plain": [
       "reading:   0%|          | 0/1000 [00:00<?, ?it/s]"
      ]
     },
     "metadata": {},
     "output_type": "display_data"
    },
    {
     "data": {
      "application/vnd.jupyter.widget-view+json": {
       "model_id": "9e856012136744428bdaf162a98fdaba",
       "version_major": 2,
       "version_minor": 0
      },
      "text/plain": [
       "Deleting npz dataset:   0%|          | 0/1000 [00:00<?, ?it/s]"
      ]
     },
     "metadata": {},
     "output_type": "display_data"
    },
    {
     "data": {
      "application/vnd.jupyter.widget-view+json": {
       "model_id": "b1e649d9c8d24f6b8cf6b3a63a5a26b2",
       "version_major": 2,
       "version_minor": 0
      },
      "text/plain": [
       "Creating npz dataset:   0%|          | 0/1000 [00:00<?, ?it/s]"
      ]
     },
     "metadata": {},
     "output_type": "display_data"
    },
    {
     "data": {
      "application/vnd.jupyter.widget-view+json": {
       "model_id": "8b425105347e4268a88b7af07be8f894",
       "version_major": 2,
       "version_minor": 0
      },
      "text/plain": [
       "repeats:   0%|          | 0/2 [00:00<?, ?it/s]"
      ]
     },
     "metadata": {},
     "output_type": "display_data"
    },
    {
     "data": {
      "application/vnd.jupyter.widget-view+json": {
       "model_id": "1c40fee4b94b4f7d93ac3de8f2ce0b30",
       "version_major": 2,
       "version_minor": 0
      },
      "text/plain": [
       "reading:   0%|          | 0/1000 [00:00<?, ?it/s]"
      ]
     },
     "metadata": {},
     "output_type": "display_data"
    },
    {
     "data": {
      "application/vnd.jupyter.widget-view+json": {
       "model_id": "137b0b1fdfc64acebed428f96c21b832",
       "version_major": 2,
       "version_minor": 0
      },
      "text/plain": [
       "reading:   0%|          | 0/1000 [00:00<?, ?it/s]"
      ]
     },
     "metadata": {},
     "output_type": "display_data"
    },
    {
     "data": {
      "application/vnd.jupyter.widget-view+json": {
       "model_id": "d22e5be43a534ac1a3101050a6cc6966",
       "version_major": 2,
       "version_minor": 0
      },
      "text/plain": [
       "Deleting npz dataset:   0%|          | 0/1000 [00:00<?, ?it/s]"
      ]
     },
     "metadata": {},
     "output_type": "display_data"
    },
    {
     "data": {
      "application/vnd.jupyter.widget-view+json": {
       "model_id": "5119915ab8a5488daedef90df74421ad",
       "version_major": 2,
       "version_minor": 0
      },
      "text/plain": [
       "shuffle:   0%|          | 0/2 [00:00<?, ?it/s]"
      ]
     },
     "metadata": {},
     "output_type": "display_data"
    },
    {
     "data": {
      "application/vnd.jupyter.widget-view+json": {
       "model_id": "e24d7d5885c44730906f866523a75d85",
       "version_major": 2,
       "version_minor": 0
      },
      "text/plain": [
       "Creating npz dataset:   0%|          | 0/1000 [00:00<?, ?it/s]"
      ]
     },
     "metadata": {},
     "output_type": "display_data"
    },
    {
     "data": {
      "application/vnd.jupyter.widget-view+json": {
       "model_id": "0cd445c9e34949068882b1e9e0c7a577",
       "version_major": 2,
       "version_minor": 0
      },
      "text/plain": [
       "repeats:   0%|          | 0/2 [00:00<?, ?it/s]"
      ]
     },
     "metadata": {},
     "output_type": "display_data"
    },
    {
     "data": {
      "application/vnd.jupyter.widget-view+json": {
       "model_id": "ec490925897f463ea2f2f9453adcf765",
       "version_major": 2,
       "version_minor": 0
      },
      "text/plain": [
       "reading:   0%|          | 0/1000 [00:00<?, ?it/s]"
      ]
     },
     "metadata": {},
     "output_type": "display_data"
    },
    {
     "data": {
      "application/vnd.jupyter.widget-view+json": {
       "model_id": "15813da3bded45a181b0afee5f99b9db",
       "version_major": 2,
       "version_minor": 0
      },
      "text/plain": [
       "reading:   0%|          | 0/1000 [00:00<?, ?it/s]"
      ]
     },
     "metadata": {},
     "output_type": "display_data"
    },
    {
     "data": {
      "application/vnd.jupyter.widget-view+json": {
       "model_id": "69f142de1e624fcc9499c8199a9bcf2a",
       "version_major": 2,
       "version_minor": 0
      },
      "text/plain": [
       "Deleting npz dataset:   0%|          | 0/1000 [00:00<?, ?it/s]"
      ]
     },
     "metadata": {},
     "output_type": "display_data"
    },
    {
     "data": {
      "application/vnd.jupyter.widget-view+json": {
       "model_id": "74833096f1de404bb1d7e605c0a05e9d",
       "version_major": 2,
       "version_minor": 0
      },
      "text/plain": [
       "Creating npz dataset:   0%|          | 0/1000 [00:00<?, ?it/s]"
      ]
     },
     "metadata": {},
     "output_type": "display_data"
    },
    {
     "data": {
      "application/vnd.jupyter.widget-view+json": {
       "model_id": "158e389afdc94c9f944f0f9e9064fac9",
       "version_major": 2,
       "version_minor": 0
      },
      "text/plain": [
       "repeats:   0%|          | 0/2 [00:00<?, ?it/s]"
      ]
     },
     "metadata": {},
     "output_type": "display_data"
    },
    {
     "data": {
      "application/vnd.jupyter.widget-view+json": {
       "model_id": "904cdf08c8244bcdbc3724fdcec89b2b",
       "version_major": 2,
       "version_minor": 0
      },
      "text/plain": [
       "reading:   0%|          | 0/1000 [00:00<?, ?it/s]"
      ]
     },
     "metadata": {},
     "output_type": "display_data"
    },
    {
     "data": {
      "application/vnd.jupyter.widget-view+json": {
       "model_id": "5a083e6781d94b909dfad62136fc44c6",
       "version_major": 2,
       "version_minor": 0
      },
      "text/plain": [
       "reading:   0%|          | 0/1000 [00:00<?, ?it/s]"
      ]
     },
     "metadata": {},
     "output_type": "display_data"
    },
    {
     "data": {
      "application/vnd.jupyter.widget-view+json": {
       "model_id": "255decde3dbe4bc7b1f51fa09ab215ec",
       "version_major": 2,
       "version_minor": 0
      },
      "text/plain": [
       "Deleting npz dataset:   0%|          | 0/1000 [00:00<?, ?it/s]"
      ]
     },
     "metadata": {},
     "output_type": "display_data"
    },
    {
     "data": {
      "application/vnd.jupyter.widget-view+json": {
       "model_id": "1d6f96a2185f4f29ade3b6cde6fce940",
       "version_major": 2,
       "version_minor": 0
      },
      "text/plain": [
       "n_rows:   0%|          | 0/4 [00:00<?, ?it/s]"
      ]
     },
     "metadata": {},
     "output_type": "display_data"
    },
    {
     "data": {
      "application/vnd.jupyter.widget-view+json": {
       "model_id": "90223db39ceb4829bcc5a33590c00363",
       "version_major": 2,
       "version_minor": 0
      },
      "text/plain": [
       "n_values_per_row:   0%|          | 0/8 [00:00<?, ?it/s]"
      ]
     },
     "metadata": {},
     "output_type": "display_data"
    },
    {
     "data": {
      "application/vnd.jupyter.widget-view+json": {
       "model_id": "d930a07de46742bdb49e26c4aebc9ebd",
       "version_major": 2,
       "version_minor": 0
      },
      "text/plain": [
       "shuffle:   0%|          | 0/2 [00:00<?, ?it/s]"
      ]
     },
     "metadata": {},
     "output_type": "display_data"
    },
    {
     "data": {
      "application/vnd.jupyter.widget-view+json": {
       "model_id": "a8194a147cdd45c9a6d2025cb34fab54",
       "version_major": 2,
       "version_minor": 0
      },
      "text/plain": [
       "Adding data to hdf5 dataset:   0%|          | 0/10 [00:00<?, ?it/s]"
      ]
     },
     "metadata": {},
     "output_type": "display_data"
    },
    {
     "data": {
      "application/vnd.jupyter.widget-view+json": {
       "model_id": "7e8832c14437475991e2d733934999ee",
       "version_major": 2,
       "version_minor": 0
      },
      "text/plain": [
       "repeats:   0%|          | 0/2 [00:00<?, ?it/s]"
      ]
     },
     "metadata": {},
     "output_type": "display_data"
    },
    {
     "data": {
      "application/vnd.jupyter.widget-view+json": {
       "model_id": "7bd13864d43d445f8b56392a76d3a17f",
       "version_major": 2,
       "version_minor": 0
      },
      "text/plain": [
       "reading:   0%|          | 0/10 [00:00<?, ?it/s]"
      ]
     },
     "metadata": {},
     "output_type": "display_data"
    },
    {
     "data": {
      "application/vnd.jupyter.widget-view+json": {
       "model_id": "80855b5bdc4347a596ec2b4239c339b7",
       "version_major": 2,
       "version_minor": 0
      },
      "text/plain": [
       "reading:   0%|          | 0/10 [00:00<?, ?it/s]"
      ]
     },
     "metadata": {},
     "output_type": "display_data"
    },
    {
     "data": {
      "application/vnd.jupyter.widget-view+json": {
       "model_id": "58695a1a2c4841b0ab55cc8227fa11ad",
       "version_major": 2,
       "version_minor": 0
      },
      "text/plain": [
       "Adding data to hdf5 dataset:   0%|          | 0/10 [00:00<?, ?it/s]"
      ]
     },
     "metadata": {},
     "output_type": "display_data"
    },
    {
     "data": {
      "application/vnd.jupyter.widget-view+json": {
       "model_id": "4a01eb93948c4a4e95a9855838d0988e",
       "version_major": 2,
       "version_minor": 0
      },
      "text/plain": [
       "repeats:   0%|          | 0/2 [00:00<?, ?it/s]"
      ]
     },
     "metadata": {},
     "output_type": "display_data"
    },
    {
     "data": {
      "application/vnd.jupyter.widget-view+json": {
       "model_id": "49d629cbed3e4f5b9276e77674665059",
       "version_major": 2,
       "version_minor": 0
      },
      "text/plain": [
       "reading:   0%|          | 0/10 [00:00<?, ?it/s]"
      ]
     },
     "metadata": {},
     "output_type": "display_data"
    },
    {
     "data": {
      "application/vnd.jupyter.widget-view+json": {
       "model_id": "c6285b0a4e6c4efba2b4de6e7695a1e9",
       "version_major": 2,
       "version_minor": 0
      },
      "text/plain": [
       "reading:   0%|          | 0/10 [00:00<?, ?it/s]"
      ]
     },
     "metadata": {},
     "output_type": "display_data"
    },
    {
     "data": {
      "application/vnd.jupyter.widget-view+json": {
       "model_id": "74ff6fea541b4227ab174673d8a2e84e",
       "version_major": 2,
       "version_minor": 0
      },
      "text/plain": [
       "shuffle:   0%|          | 0/2 [00:00<?, ?it/s]"
      ]
     },
     "metadata": {},
     "output_type": "display_data"
    },
    {
     "data": {
      "application/vnd.jupyter.widget-view+json": {
       "model_id": "38acae4932aa4dceb57dc9ab7a6b5a3a",
       "version_major": 2,
       "version_minor": 0
      },
      "text/plain": [
       "Adding data to hdf5 dataset:   0%|          | 0/10 [00:00<?, ?it/s]"
      ]
     },
     "metadata": {},
     "output_type": "display_data"
    },
    {
     "data": {
      "application/vnd.jupyter.widget-view+json": {
       "model_id": "fd801ebf9f844db7b86489cbe2820651",
       "version_major": 2,
       "version_minor": 0
      },
      "text/plain": [
       "repeats:   0%|          | 0/2 [00:00<?, ?it/s]"
      ]
     },
     "metadata": {},
     "output_type": "display_data"
    },
    {
     "data": {
      "application/vnd.jupyter.widget-view+json": {
       "model_id": "36313182bc3449199ef6d58ea923acc5",
       "version_major": 2,
       "version_minor": 0
      },
      "text/plain": [
       "reading:   0%|          | 0/10 [00:00<?, ?it/s]"
      ]
     },
     "metadata": {},
     "output_type": "display_data"
    },
    {
     "data": {
      "application/vnd.jupyter.widget-view+json": {
       "model_id": "a4b90692fc3f42ed81da067666c2fab1",
       "version_major": 2,
       "version_minor": 0
      },
      "text/plain": [
       "reading:   0%|          | 0/10 [00:00<?, ?it/s]"
      ]
     },
     "metadata": {},
     "output_type": "display_data"
    },
    {
     "data": {
      "application/vnd.jupyter.widget-view+json": {
       "model_id": "5694c417e1f9482aab8ce0a5836b19ca",
       "version_major": 2,
       "version_minor": 0
      },
      "text/plain": [
       "Adding data to hdf5 dataset:   0%|          | 0/10 [00:00<?, ?it/s]"
      ]
     },
     "metadata": {},
     "output_type": "display_data"
    },
    {
     "data": {
      "application/vnd.jupyter.widget-view+json": {
       "model_id": "a4f0a2f33bd3410c80ce00ec3fe9617f",
       "version_major": 2,
       "version_minor": 0
      },
      "text/plain": [
       "repeats:   0%|          | 0/2 [00:00<?, ?it/s]"
      ]
     },
     "metadata": {},
     "output_type": "display_data"
    },
    {
     "data": {
      "application/vnd.jupyter.widget-view+json": {
       "model_id": "55e146f3a58244d7baf69f815ce8e34b",
       "version_major": 2,
       "version_minor": 0
      },
      "text/plain": [
       "reading:   0%|          | 0/10 [00:00<?, ?it/s]"
      ]
     },
     "metadata": {},
     "output_type": "display_data"
    },
    {
     "data": {
      "application/vnd.jupyter.widget-view+json": {
       "model_id": "1e20767738ea433f86fdd4bb072cf826",
       "version_major": 2,
       "version_minor": 0
      },
      "text/plain": [
       "reading:   0%|          | 0/10 [00:00<?, ?it/s]"
      ]
     },
     "metadata": {},
     "output_type": "display_data"
    },
    {
     "data": {
      "application/vnd.jupyter.widget-view+json": {
       "model_id": "46d489fe522d454889ed5a2a193b5a4a",
       "version_major": 2,
       "version_minor": 0
      },
      "text/plain": [
       "shuffle:   0%|          | 0/2 [00:00<?, ?it/s]"
      ]
     },
     "metadata": {},
     "output_type": "display_data"
    },
    {
     "data": {
      "application/vnd.jupyter.widget-view+json": {
       "model_id": "334ca08f079b40b3b523e8527873bc5d",
       "version_major": 2,
       "version_minor": 0
      },
      "text/plain": [
       "Adding data to hdf5 dataset:   0%|          | 0/10 [00:00<?, ?it/s]"
      ]
     },
     "metadata": {},
     "output_type": "display_data"
    },
    {
     "data": {
      "application/vnd.jupyter.widget-view+json": {
       "model_id": "804cb6eb11034cbfaeca8760f6707d59",
       "version_major": 2,
       "version_minor": 0
      },
      "text/plain": [
       "repeats:   0%|          | 0/2 [00:00<?, ?it/s]"
      ]
     },
     "metadata": {},
     "output_type": "display_data"
    },
    {
     "data": {
      "application/vnd.jupyter.widget-view+json": {
       "model_id": "59ef452c87d3482a896cd3c86b29bcb0",
       "version_major": 2,
       "version_minor": 0
      },
      "text/plain": [
       "reading:   0%|          | 0/10 [00:00<?, ?it/s]"
      ]
     },
     "metadata": {},
     "output_type": "display_data"
    },
    {
     "data": {
      "application/vnd.jupyter.widget-view+json": {
       "model_id": "a83cde916c054e66bd405517f0d82823",
       "version_major": 2,
       "version_minor": 0
      },
      "text/plain": [
       "reading:   0%|          | 0/10 [00:00<?, ?it/s]"
      ]
     },
     "metadata": {},
     "output_type": "display_data"
    },
    {
     "data": {
      "application/vnd.jupyter.widget-view+json": {
       "model_id": "d510c2a5bc88405880c77a11a810ee18",
       "version_major": 2,
       "version_minor": 0
      },
      "text/plain": [
       "Adding data to hdf5 dataset:   0%|          | 0/10 [00:00<?, ?it/s]"
      ]
     },
     "metadata": {},
     "output_type": "display_data"
    },
    {
     "data": {
      "application/vnd.jupyter.widget-view+json": {
       "model_id": "7916157871624cebaae22f3bd785bf40",
       "version_major": 2,
       "version_minor": 0
      },
      "text/plain": [
       "repeats:   0%|          | 0/2 [00:00<?, ?it/s]"
      ]
     },
     "metadata": {},
     "output_type": "display_data"
    },
    {
     "data": {
      "application/vnd.jupyter.widget-view+json": {
       "model_id": "fc5c2a3d7913455b8f25b9ea1600bee6",
       "version_major": 2,
       "version_minor": 0
      },
      "text/plain": [
       "reading:   0%|          | 0/10 [00:00<?, ?it/s]"
      ]
     },
     "metadata": {},
     "output_type": "display_data"
    },
    {
     "data": {
      "application/vnd.jupyter.widget-view+json": {
       "model_id": "3d5de57ccfcb4d6287f58e4d2da68e50",
       "version_major": 2,
       "version_minor": 0
      },
      "text/plain": [
       "reading:   0%|          | 0/10 [00:00<?, ?it/s]"
      ]
     },
     "metadata": {},
     "output_type": "display_data"
    },
    {
     "data": {
      "application/vnd.jupyter.widget-view+json": {
       "model_id": "299f52db5e60422ca1ddbc3dd58cc768",
       "version_major": 2,
       "version_minor": 0
      },
      "text/plain": [
       "shuffle:   0%|          | 0/2 [00:00<?, ?it/s]"
      ]
     },
     "metadata": {},
     "output_type": "display_data"
    },
    {
     "data": {
      "application/vnd.jupyter.widget-view+json": {
       "model_id": "25433ff2f622436686eda9b090292165",
       "version_major": 2,
       "version_minor": 0
      },
      "text/plain": [
       "Adding data to hdf5 dataset:   0%|          | 0/10 [00:00<?, ?it/s]"
      ]
     },
     "metadata": {},
     "output_type": "display_data"
    },
    {
     "data": {
      "application/vnd.jupyter.widget-view+json": {
       "model_id": "c9512dd1019a40db82c8b0474f4ad225",
       "version_major": 2,
       "version_minor": 0
      },
      "text/plain": [
       "repeats:   0%|          | 0/2 [00:00<?, ?it/s]"
      ]
     },
     "metadata": {},
     "output_type": "display_data"
    },
    {
     "data": {
      "application/vnd.jupyter.widget-view+json": {
       "model_id": "bc5d372adcec40ea8f6ca3b868c47105",
       "version_major": 2,
       "version_minor": 0
      },
      "text/plain": [
       "reading:   0%|          | 0/10 [00:00<?, ?it/s]"
      ]
     },
     "metadata": {},
     "output_type": "display_data"
    },
    {
     "data": {
      "application/vnd.jupyter.widget-view+json": {
       "model_id": "87d31f5ef6cf45aea094be844fd85326",
       "version_major": 2,
       "version_minor": 0
      },
      "text/plain": [
       "reading:   0%|          | 0/10 [00:00<?, ?it/s]"
      ]
     },
     "metadata": {},
     "output_type": "display_data"
    },
    {
     "data": {
      "application/vnd.jupyter.widget-view+json": {
       "model_id": "012d971fd07f41f3bee550008c086091",
       "version_major": 2,
       "version_minor": 0
      },
      "text/plain": [
       "Adding data to hdf5 dataset:   0%|          | 0/10 [00:00<?, ?it/s]"
      ]
     },
     "metadata": {},
     "output_type": "display_data"
    },
    {
     "data": {
      "application/vnd.jupyter.widget-view+json": {
       "model_id": "d4c62bd6a9f24ee3aac3b55d401cb759",
       "version_major": 2,
       "version_minor": 0
      },
      "text/plain": [
       "repeats:   0%|          | 0/2 [00:00<?, ?it/s]"
      ]
     },
     "metadata": {},
     "output_type": "display_data"
    },
    {
     "data": {
      "application/vnd.jupyter.widget-view+json": {
       "model_id": "5ae29936c1aa4f288258d296af4ef8f4",
       "version_major": 2,
       "version_minor": 0
      },
      "text/plain": [
       "reading:   0%|          | 0/10 [00:00<?, ?it/s]"
      ]
     },
     "metadata": {},
     "output_type": "display_data"
    },
    {
     "data": {
      "application/vnd.jupyter.widget-view+json": {
       "model_id": "256ec3fc66b04ad59c25b41982fedc75",
       "version_major": 2,
       "version_minor": 0
      },
      "text/plain": [
       "reading:   0%|          | 0/10 [00:00<?, ?it/s]"
      ]
     },
     "metadata": {},
     "output_type": "display_data"
    },
    {
     "data": {
      "application/vnd.jupyter.widget-view+json": {
       "model_id": "a255bf114a074e6b915aaf47781924d5",
       "version_major": 2,
       "version_minor": 0
      },
      "text/plain": [
       "shuffle:   0%|          | 0/2 [00:00<?, ?it/s]"
      ]
     },
     "metadata": {},
     "output_type": "display_data"
    },
    {
     "data": {
      "application/vnd.jupyter.widget-view+json": {
       "model_id": "674c95e04df145ba8469f54671bf4eb0",
       "version_major": 2,
       "version_minor": 0
      },
      "text/plain": [
       "Adding data to hdf5 dataset:   0%|          | 0/10 [00:00<?, ?it/s]"
      ]
     },
     "metadata": {},
     "output_type": "display_data"
    },
    {
     "data": {
      "application/vnd.jupyter.widget-view+json": {
       "model_id": "e12a3ef5ed414814bea8e405af2139f0",
       "version_major": 2,
       "version_minor": 0
      },
      "text/plain": [
       "repeats:   0%|          | 0/2 [00:00<?, ?it/s]"
      ]
     },
     "metadata": {},
     "output_type": "display_data"
    },
    {
     "data": {
      "application/vnd.jupyter.widget-view+json": {
       "model_id": "c2b35054c1e143f38e6037fa466ca9c1",
       "version_major": 2,
       "version_minor": 0
      },
      "text/plain": [
       "reading:   0%|          | 0/10 [00:00<?, ?it/s]"
      ]
     },
     "metadata": {},
     "output_type": "display_data"
    },
    {
     "data": {
      "application/vnd.jupyter.widget-view+json": {
       "model_id": "909b41a2b8c44a70a44d38c0042f6d3a",
       "version_major": 2,
       "version_minor": 0
      },
      "text/plain": [
       "reading:   0%|          | 0/10 [00:00<?, ?it/s]"
      ]
     },
     "metadata": {},
     "output_type": "display_data"
    },
    {
     "data": {
      "application/vnd.jupyter.widget-view+json": {
       "model_id": "5245260ece3f4ea4b1af4ccff561d962",
       "version_major": 2,
       "version_minor": 0
      },
      "text/plain": [
       "Adding data to hdf5 dataset:   0%|          | 0/10 [00:00<?, ?it/s]"
      ]
     },
     "metadata": {},
     "output_type": "display_data"
    },
    {
     "data": {
      "application/vnd.jupyter.widget-view+json": {
       "model_id": "99ac038da4fe4f6c9f1d8c41e80c99c7",
       "version_major": 2,
       "version_minor": 0
      },
      "text/plain": [
       "repeats:   0%|          | 0/2 [00:00<?, ?it/s]"
      ]
     },
     "metadata": {},
     "output_type": "display_data"
    },
    {
     "data": {
      "application/vnd.jupyter.widget-view+json": {
       "model_id": "fdddef5af96740d5bd33d75f8cd9e657",
       "version_major": 2,
       "version_minor": 0
      },
      "text/plain": [
       "reading:   0%|          | 0/10 [00:00<?, ?it/s]"
      ]
     },
     "metadata": {},
     "output_type": "display_data"
    },
    {
     "data": {
      "application/vnd.jupyter.widget-view+json": {
       "model_id": "c2da0d4ee09e4f4399efc136f9c44d8d",
       "version_major": 2,
       "version_minor": 0
      },
      "text/plain": [
       "reading:   0%|          | 0/10 [00:00<?, ?it/s]"
      ]
     },
     "metadata": {},
     "output_type": "display_data"
    },
    {
     "data": {
      "application/vnd.jupyter.widget-view+json": {
       "model_id": "f957270112ab439a983bb2938c37f341",
       "version_major": 2,
       "version_minor": 0
      },
      "text/plain": [
       "shuffle:   0%|          | 0/2 [00:00<?, ?it/s]"
      ]
     },
     "metadata": {},
     "output_type": "display_data"
    },
    {
     "data": {
      "application/vnd.jupyter.widget-view+json": {
       "model_id": "e2d6a144630d479da641d99d7e97e01b",
       "version_major": 2,
       "version_minor": 0
      },
      "text/plain": [
       "Adding data to hdf5 dataset:   0%|          | 0/10 [00:00<?, ?it/s]"
      ]
     },
     "metadata": {},
     "output_type": "display_data"
    },
    {
     "data": {
      "application/vnd.jupyter.widget-view+json": {
       "model_id": "8dda8b782c5d46c7b58306784b765ec6",
       "version_major": 2,
       "version_minor": 0
      },
      "text/plain": [
       "repeats:   0%|          | 0/2 [00:00<?, ?it/s]"
      ]
     },
     "metadata": {},
     "output_type": "display_data"
    },
    {
     "data": {
      "application/vnd.jupyter.widget-view+json": {
       "model_id": "46bf3a7764a04fe98ebd3eba5eab5585",
       "version_major": 2,
       "version_minor": 0
      },
      "text/plain": [
       "reading:   0%|          | 0/10 [00:00<?, ?it/s]"
      ]
     },
     "metadata": {},
     "output_type": "display_data"
    },
    {
     "data": {
      "application/vnd.jupyter.widget-view+json": {
       "model_id": "358565a8a9624fa0bd14bda3fe8a165a",
       "version_major": 2,
       "version_minor": 0
      },
      "text/plain": [
       "reading:   0%|          | 0/10 [00:00<?, ?it/s]"
      ]
     },
     "metadata": {},
     "output_type": "display_data"
    },
    {
     "data": {
      "application/vnd.jupyter.widget-view+json": {
       "model_id": "b94facecb0db47f8a0b708303810c03c",
       "version_major": 2,
       "version_minor": 0
      },
      "text/plain": [
       "Adding data to hdf5 dataset:   0%|          | 0/10 [00:00<?, ?it/s]"
      ]
     },
     "metadata": {},
     "output_type": "display_data"
    },
    {
     "data": {
      "application/vnd.jupyter.widget-view+json": {
       "model_id": "b891827650ce4abb905613f9acf6d8df",
       "version_major": 2,
       "version_minor": 0
      },
      "text/plain": [
       "repeats:   0%|          | 0/2 [00:00<?, ?it/s]"
      ]
     },
     "metadata": {},
     "output_type": "display_data"
    },
    {
     "data": {
      "application/vnd.jupyter.widget-view+json": {
       "model_id": "bf21fb90901b45759fd586d62a9db8c4",
       "version_major": 2,
       "version_minor": 0
      },
      "text/plain": [
       "reading:   0%|          | 0/10 [00:00<?, ?it/s]"
      ]
     },
     "metadata": {},
     "output_type": "display_data"
    },
    {
     "data": {
      "application/vnd.jupyter.widget-view+json": {
       "model_id": "f446f8efca744bdda2980ec07ade9b02",
       "version_major": 2,
       "version_minor": 0
      },
      "text/plain": [
       "reading:   0%|          | 0/10 [00:00<?, ?it/s]"
      ]
     },
     "metadata": {},
     "output_type": "display_data"
    },
    {
     "data": {
      "application/vnd.jupyter.widget-view+json": {
       "model_id": "8d8a13890c1245a999fdaedf803a8420",
       "version_major": 2,
       "version_minor": 0
      },
      "text/plain": [
       "shuffle:   0%|          | 0/2 [00:00<?, ?it/s]"
      ]
     },
     "metadata": {},
     "output_type": "display_data"
    },
    {
     "data": {
      "application/vnd.jupyter.widget-view+json": {
       "model_id": "7455d1da73a142b383522ce1fe2fae39",
       "version_major": 2,
       "version_minor": 0
      },
      "text/plain": [
       "Adding data to hdf5 dataset:   0%|          | 0/10 [00:00<?, ?it/s]"
      ]
     },
     "metadata": {},
     "output_type": "display_data"
    },
    {
     "data": {
      "application/vnd.jupyter.widget-view+json": {
       "model_id": "5304919c23254b2ab93c453ce98fb0f8",
       "version_major": 2,
       "version_minor": 0
      },
      "text/plain": [
       "repeats:   0%|          | 0/2 [00:00<?, ?it/s]"
      ]
     },
     "metadata": {},
     "output_type": "display_data"
    },
    {
     "data": {
      "application/vnd.jupyter.widget-view+json": {
       "model_id": "a8b2cb2a256045989b11ab5f22a43845",
       "version_major": 2,
       "version_minor": 0
      },
      "text/plain": [
       "reading:   0%|          | 0/10 [00:00<?, ?it/s]"
      ]
     },
     "metadata": {},
     "output_type": "display_data"
    },
    {
     "data": {
      "application/vnd.jupyter.widget-view+json": {
       "model_id": "2f8e63b4df8d4f8dabdf4c9c8fe57310",
       "version_major": 2,
       "version_minor": 0
      },
      "text/plain": [
       "reading:   0%|          | 0/10 [00:00<?, ?it/s]"
      ]
     },
     "metadata": {},
     "output_type": "display_data"
    },
    {
     "data": {
      "application/vnd.jupyter.widget-view+json": {
       "model_id": "c8a0604ca1d34ce595202d53078e97e2",
       "version_major": 2,
       "version_minor": 0
      },
      "text/plain": [
       "Adding data to hdf5 dataset:   0%|          | 0/10 [00:00<?, ?it/s]"
      ]
     },
     "metadata": {},
     "output_type": "display_data"
    },
    {
     "data": {
      "application/vnd.jupyter.widget-view+json": {
       "model_id": "28a8ba8578af446a906e356487099e8c",
       "version_major": 2,
       "version_minor": 0
      },
      "text/plain": [
       "repeats:   0%|          | 0/2 [00:00<?, ?it/s]"
      ]
     },
     "metadata": {},
     "output_type": "display_data"
    },
    {
     "data": {
      "application/vnd.jupyter.widget-view+json": {
       "model_id": "65c7c48541c7416682210ce6db357284",
       "version_major": 2,
       "version_minor": 0
      },
      "text/plain": [
       "reading:   0%|          | 0/10 [00:00<?, ?it/s]"
      ]
     },
     "metadata": {},
     "output_type": "display_data"
    },
    {
     "data": {
      "application/vnd.jupyter.widget-view+json": {
       "model_id": "e45054b26a55409a9d9dc66d41e8b1fb",
       "version_major": 2,
       "version_minor": 0
      },
      "text/plain": [
       "reading:   0%|          | 0/10 [00:00<?, ?it/s]"
      ]
     },
     "metadata": {},
     "output_type": "display_data"
    },
    {
     "data": {
      "application/vnd.jupyter.widget-view+json": {
       "model_id": "5d060b32382d46de8be42f256e5e3ea4",
       "version_major": 2,
       "version_minor": 0
      },
      "text/plain": [
       "shuffle:   0%|          | 0/2 [00:00<?, ?it/s]"
      ]
     },
     "metadata": {},
     "output_type": "display_data"
    },
    {
     "data": {
      "application/vnd.jupyter.widget-view+json": {
       "model_id": "261498d8106e4636a80b83cc3803bb2c",
       "version_major": 2,
       "version_minor": 0
      },
      "text/plain": [
       "Adding data to hdf5 dataset:   0%|          | 0/10 [00:00<?, ?it/s]"
      ]
     },
     "metadata": {},
     "output_type": "display_data"
    },
    {
     "data": {
      "application/vnd.jupyter.widget-view+json": {
       "model_id": "8836328bf7fc41b290f8ad606135e357",
       "version_major": 2,
       "version_minor": 0
      },
      "text/plain": [
       "repeats:   0%|          | 0/2 [00:00<?, ?it/s]"
      ]
     },
     "metadata": {},
     "output_type": "display_data"
    },
    {
     "data": {
      "application/vnd.jupyter.widget-view+json": {
       "model_id": "62904c0abe5d4fd4b373add370a40936",
       "version_major": 2,
       "version_minor": 0
      },
      "text/plain": [
       "reading:   0%|          | 0/10 [00:00<?, ?it/s]"
      ]
     },
     "metadata": {},
     "output_type": "display_data"
    },
    {
     "data": {
      "application/vnd.jupyter.widget-view+json": {
       "model_id": "17b702c5e29944669cafebd93ed164ad",
       "version_major": 2,
       "version_minor": 0
      },
      "text/plain": [
       "reading:   0%|          | 0/10 [00:00<?, ?it/s]"
      ]
     },
     "metadata": {},
     "output_type": "display_data"
    },
    {
     "data": {
      "application/vnd.jupyter.widget-view+json": {
       "model_id": "bcbc8ca963b446cba86b36133ef215fc",
       "version_major": 2,
       "version_minor": 0
      },
      "text/plain": [
       "Adding data to hdf5 dataset:   0%|          | 0/10 [00:00<?, ?it/s]"
      ]
     },
     "metadata": {},
     "output_type": "display_data"
    },
    {
     "data": {
      "application/vnd.jupyter.widget-view+json": {
       "model_id": "bed25a49a4f04af095c8f2608c928c3a",
       "version_major": 2,
       "version_minor": 0
      },
      "text/plain": [
       "repeats:   0%|          | 0/2 [00:00<?, ?it/s]"
      ]
     },
     "metadata": {},
     "output_type": "display_data"
    },
    {
     "data": {
      "application/vnd.jupyter.widget-view+json": {
       "model_id": "7fc355e515ec409fa208915ef4650238",
       "version_major": 2,
       "version_minor": 0
      },
      "text/plain": [
       "reading:   0%|          | 0/10 [00:00<?, ?it/s]"
      ]
     },
     "metadata": {},
     "output_type": "display_data"
    },
    {
     "data": {
      "application/vnd.jupyter.widget-view+json": {
       "model_id": "a76156e63040485b8b485a4dfb5df92e",
       "version_major": 2,
       "version_minor": 0
      },
      "text/plain": [
       "reading:   0%|          | 0/10 [00:00<?, ?it/s]"
      ]
     },
     "metadata": {},
     "output_type": "display_data"
    },
    {
     "data": {
      "application/vnd.jupyter.widget-view+json": {
       "model_id": "f960cfffaed14b01985d35c6211f9801",
       "version_major": 2,
       "version_minor": 0
      },
      "text/plain": [
       "n_values_per_row:   0%|          | 0/8 [00:00<?, ?it/s]"
      ]
     },
     "metadata": {},
     "output_type": "display_data"
    },
    {
     "data": {
      "application/vnd.jupyter.widget-view+json": {
       "model_id": "2e61adeb7b994e08a547cfe78c161396",
       "version_major": 2,
       "version_minor": 0
      },
      "text/plain": [
       "shuffle:   0%|          | 0/2 [00:00<?, ?it/s]"
      ]
     },
     "metadata": {},
     "output_type": "display_data"
    },
    {
     "data": {
      "application/vnd.jupyter.widget-view+json": {
       "model_id": "c2339781afe643a483f0ab0d746989ae",
       "version_major": 2,
       "version_minor": 0
      },
      "text/plain": [
       "Adding data to hdf5 dataset:   0%|          | 0/100 [00:00<?, ?it/s]"
      ]
     },
     "metadata": {},
     "output_type": "display_data"
    },
    {
     "data": {
      "application/vnd.jupyter.widget-view+json": {
       "model_id": "9c0a45eb050347b9a25cb15d53597466",
       "version_major": 2,
       "version_minor": 0
      },
      "text/plain": [
       "repeats:   0%|          | 0/2 [00:00<?, ?it/s]"
      ]
     },
     "metadata": {},
     "output_type": "display_data"
    },
    {
     "data": {
      "application/vnd.jupyter.widget-view+json": {
       "model_id": "ce1655327858455ebad059d63232e03e",
       "version_major": 2,
       "version_minor": 0
      },
      "text/plain": [
       "reading:   0%|          | 0/100 [00:00<?, ?it/s]"
      ]
     },
     "metadata": {},
     "output_type": "display_data"
    },
    {
     "data": {
      "application/vnd.jupyter.widget-view+json": {
       "model_id": "32705ccfce3c4fd5af2b0c045654d285",
       "version_major": 2,
       "version_minor": 0
      },
      "text/plain": [
       "reading:   0%|          | 0/100 [00:00<?, ?it/s]"
      ]
     },
     "metadata": {},
     "output_type": "display_data"
    },
    {
     "data": {
      "application/vnd.jupyter.widget-view+json": {
       "model_id": "112fd7f54ab44de3bd67e214abfe9618",
       "version_major": 2,
       "version_minor": 0
      },
      "text/plain": [
       "Adding data to hdf5 dataset:   0%|          | 0/100 [00:00<?, ?it/s]"
      ]
     },
     "metadata": {},
     "output_type": "display_data"
    },
    {
     "data": {
      "application/vnd.jupyter.widget-view+json": {
       "model_id": "69bc289612ea4ba5a3c9dc9d2d79dc09",
       "version_major": 2,
       "version_minor": 0
      },
      "text/plain": [
       "repeats:   0%|          | 0/2 [00:00<?, ?it/s]"
      ]
     },
     "metadata": {},
     "output_type": "display_data"
    },
    {
     "data": {
      "application/vnd.jupyter.widget-view+json": {
       "model_id": "f14c32feee7c41da9ff5e37b04078770",
       "version_major": 2,
       "version_minor": 0
      },
      "text/plain": [
       "reading:   0%|          | 0/100 [00:00<?, ?it/s]"
      ]
     },
     "metadata": {},
     "output_type": "display_data"
    },
    {
     "data": {
      "application/vnd.jupyter.widget-view+json": {
       "model_id": "74269b34b2f7437ba9b5ca4395ed5329",
       "version_major": 2,
       "version_minor": 0
      },
      "text/plain": [
       "reading:   0%|          | 0/100 [00:00<?, ?it/s]"
      ]
     },
     "metadata": {},
     "output_type": "display_data"
    },
    {
     "data": {
      "application/vnd.jupyter.widget-view+json": {
       "model_id": "3e4fda93da174a62b531f7b178734423",
       "version_major": 2,
       "version_minor": 0
      },
      "text/plain": [
       "shuffle:   0%|          | 0/2 [00:00<?, ?it/s]"
      ]
     },
     "metadata": {},
     "output_type": "display_data"
    },
    {
     "data": {
      "application/vnd.jupyter.widget-view+json": {
       "model_id": "632ee0f3d4474d34bdbca6a7b15660ff",
       "version_major": 2,
       "version_minor": 0
      },
      "text/plain": [
       "Adding data to hdf5 dataset:   0%|          | 0/100 [00:00<?, ?it/s]"
      ]
     },
     "metadata": {},
     "output_type": "display_data"
    },
    {
     "data": {
      "application/vnd.jupyter.widget-view+json": {
       "model_id": "6b0bbd84b5e14e11ae8074cec96d881f",
       "version_major": 2,
       "version_minor": 0
      },
      "text/plain": [
       "repeats:   0%|          | 0/2 [00:00<?, ?it/s]"
      ]
     },
     "metadata": {},
     "output_type": "display_data"
    },
    {
     "data": {
      "application/vnd.jupyter.widget-view+json": {
       "model_id": "f30fb4a5ab6c48bf94a6adf2763c592e",
       "version_major": 2,
       "version_minor": 0
      },
      "text/plain": [
       "reading:   0%|          | 0/100 [00:00<?, ?it/s]"
      ]
     },
     "metadata": {},
     "output_type": "display_data"
    },
    {
     "data": {
      "application/vnd.jupyter.widget-view+json": {
       "model_id": "f6ec14c7b2524413a0279ff5b8a125bf",
       "version_major": 2,
       "version_minor": 0
      },
      "text/plain": [
       "reading:   0%|          | 0/100 [00:00<?, ?it/s]"
      ]
     },
     "metadata": {},
     "output_type": "display_data"
    },
    {
     "data": {
      "application/vnd.jupyter.widget-view+json": {
       "model_id": "4646fdf3f4024547a71e7d963d85e784",
       "version_major": 2,
       "version_minor": 0
      },
      "text/plain": [
       "Adding data to hdf5 dataset:   0%|          | 0/100 [00:00<?, ?it/s]"
      ]
     },
     "metadata": {},
     "output_type": "display_data"
    },
    {
     "data": {
      "application/vnd.jupyter.widget-view+json": {
       "model_id": "f4a005af74c0418091a54cffefa997ec",
       "version_major": 2,
       "version_minor": 0
      },
      "text/plain": [
       "repeats:   0%|          | 0/2 [00:00<?, ?it/s]"
      ]
     },
     "metadata": {},
     "output_type": "display_data"
    },
    {
     "data": {
      "application/vnd.jupyter.widget-view+json": {
       "model_id": "f08021266b0e44e1a1e3cc2d494c3783",
       "version_major": 2,
       "version_minor": 0
      },
      "text/plain": [
       "reading:   0%|          | 0/100 [00:00<?, ?it/s]"
      ]
     },
     "metadata": {},
     "output_type": "display_data"
    },
    {
     "data": {
      "application/vnd.jupyter.widget-view+json": {
       "model_id": "5386472e11be48cea3a16bf92609e00e",
       "version_major": 2,
       "version_minor": 0
      },
      "text/plain": [
       "reading:   0%|          | 0/100 [00:00<?, ?it/s]"
      ]
     },
     "metadata": {},
     "output_type": "display_data"
    },
    {
     "data": {
      "application/vnd.jupyter.widget-view+json": {
       "model_id": "e1dd1244b00c47cd9b0491a4873504be",
       "version_major": 2,
       "version_minor": 0
      },
      "text/plain": [
       "shuffle:   0%|          | 0/2 [00:00<?, ?it/s]"
      ]
     },
     "metadata": {},
     "output_type": "display_data"
    },
    {
     "data": {
      "application/vnd.jupyter.widget-view+json": {
       "model_id": "d4c53f0965f34073a138bef38b076642",
       "version_major": 2,
       "version_minor": 0
      },
      "text/plain": [
       "Adding data to hdf5 dataset:   0%|          | 0/100 [00:00<?, ?it/s]"
      ]
     },
     "metadata": {},
     "output_type": "display_data"
    },
    {
     "data": {
      "application/vnd.jupyter.widget-view+json": {
       "model_id": "59c45e85f7b64c6ab894e10ac36a6962",
       "version_major": 2,
       "version_minor": 0
      },
      "text/plain": [
       "repeats:   0%|          | 0/2 [00:00<?, ?it/s]"
      ]
     },
     "metadata": {},
     "output_type": "display_data"
    },
    {
     "data": {
      "application/vnd.jupyter.widget-view+json": {
       "model_id": "980c418c86c04dc48c2be384400a2b8b",
       "version_major": 2,
       "version_minor": 0
      },
      "text/plain": [
       "reading:   0%|          | 0/100 [00:00<?, ?it/s]"
      ]
     },
     "metadata": {},
     "output_type": "display_data"
    },
    {
     "data": {
      "application/vnd.jupyter.widget-view+json": {
       "model_id": "5b3782c4cecc424886e1c4e1a1c35225",
       "version_major": 2,
       "version_minor": 0
      },
      "text/plain": [
       "reading:   0%|          | 0/100 [00:00<?, ?it/s]"
      ]
     },
     "metadata": {},
     "output_type": "display_data"
    },
    {
     "data": {
      "application/vnd.jupyter.widget-view+json": {
       "model_id": "58b986cdf77c40d880d02aa4a4b93e7b",
       "version_major": 2,
       "version_minor": 0
      },
      "text/plain": [
       "Adding data to hdf5 dataset:   0%|          | 0/100 [00:00<?, ?it/s]"
      ]
     },
     "metadata": {},
     "output_type": "display_data"
    },
    {
     "data": {
      "application/vnd.jupyter.widget-view+json": {
       "model_id": "3fbe6bc533a0407db8cf833aab601853",
       "version_major": 2,
       "version_minor": 0
      },
      "text/plain": [
       "repeats:   0%|          | 0/2 [00:00<?, ?it/s]"
      ]
     },
     "metadata": {},
     "output_type": "display_data"
    },
    {
     "data": {
      "application/vnd.jupyter.widget-view+json": {
       "model_id": "938e4ada13ad4718865f1b46a6c0d16d",
       "version_major": 2,
       "version_minor": 0
      },
      "text/plain": [
       "reading:   0%|          | 0/100 [00:00<?, ?it/s]"
      ]
     },
     "metadata": {},
     "output_type": "display_data"
    },
    {
     "data": {
      "application/vnd.jupyter.widget-view+json": {
       "model_id": "37d7276d83d54d65b14d00bf9543b097",
       "version_major": 2,
       "version_minor": 0
      },
      "text/plain": [
       "reading:   0%|          | 0/100 [00:00<?, ?it/s]"
      ]
     },
     "metadata": {},
     "output_type": "display_data"
    },
    {
     "data": {
      "application/vnd.jupyter.widget-view+json": {
       "model_id": "c8501874716a483a9cc67c6ea581dd23",
       "version_major": 2,
       "version_minor": 0
      },
      "text/plain": [
       "shuffle:   0%|          | 0/2 [00:00<?, ?it/s]"
      ]
     },
     "metadata": {},
     "output_type": "display_data"
    },
    {
     "data": {
      "application/vnd.jupyter.widget-view+json": {
       "model_id": "8fedd488e6ca4e5e868f267539740336",
       "version_major": 2,
       "version_minor": 0
      },
      "text/plain": [
       "Adding data to hdf5 dataset:   0%|          | 0/100 [00:00<?, ?it/s]"
      ]
     },
     "metadata": {},
     "output_type": "display_data"
    },
    {
     "data": {
      "application/vnd.jupyter.widget-view+json": {
       "model_id": "2e7dab3b4ec44264814941949ba9ff52",
       "version_major": 2,
       "version_minor": 0
      },
      "text/plain": [
       "repeats:   0%|          | 0/2 [00:00<?, ?it/s]"
      ]
     },
     "metadata": {},
     "output_type": "display_data"
    },
    {
     "data": {
      "application/vnd.jupyter.widget-view+json": {
       "model_id": "f7e27429262b4ccaba84869c954b47e4",
       "version_major": 2,
       "version_minor": 0
      },
      "text/plain": [
       "reading:   0%|          | 0/100 [00:00<?, ?it/s]"
      ]
     },
     "metadata": {},
     "output_type": "display_data"
    },
    {
     "data": {
      "application/vnd.jupyter.widget-view+json": {
       "model_id": "aef701ab47314dee858077359faa5f6f",
       "version_major": 2,
       "version_minor": 0
      },
      "text/plain": [
       "reading:   0%|          | 0/100 [00:00<?, ?it/s]"
      ]
     },
     "metadata": {},
     "output_type": "display_data"
    },
    {
     "data": {
      "application/vnd.jupyter.widget-view+json": {
       "model_id": "769b31dfd5f145efbe172f3cbae20cb1",
       "version_major": 2,
       "version_minor": 0
      },
      "text/plain": [
       "Adding data to hdf5 dataset:   0%|          | 0/100 [00:00<?, ?it/s]"
      ]
     },
     "metadata": {},
     "output_type": "display_data"
    },
    {
     "data": {
      "application/vnd.jupyter.widget-view+json": {
       "model_id": "20c8b30dff8248d6bd4d3e22cb30719f",
       "version_major": 2,
       "version_minor": 0
      },
      "text/plain": [
       "repeats:   0%|          | 0/2 [00:00<?, ?it/s]"
      ]
     },
     "metadata": {},
     "output_type": "display_data"
    },
    {
     "data": {
      "application/vnd.jupyter.widget-view+json": {
       "model_id": "80a3bfedd61445d39d60905fda95d918",
       "version_major": 2,
       "version_minor": 0
      },
      "text/plain": [
       "reading:   0%|          | 0/100 [00:00<?, ?it/s]"
      ]
     },
     "metadata": {},
     "output_type": "display_data"
    },
    {
     "data": {
      "application/vnd.jupyter.widget-view+json": {
       "model_id": "800a3dce84804e898feb59aee26a53a5",
       "version_major": 2,
       "version_minor": 0
      },
      "text/plain": [
       "reading:   0%|          | 0/100 [00:00<?, ?it/s]"
      ]
     },
     "metadata": {},
     "output_type": "display_data"
    },
    {
     "data": {
      "application/vnd.jupyter.widget-view+json": {
       "model_id": "3eef44aad50c4c66b22c65429550c3a8",
       "version_major": 2,
       "version_minor": 0
      },
      "text/plain": [
       "shuffle:   0%|          | 0/2 [00:00<?, ?it/s]"
      ]
     },
     "metadata": {},
     "output_type": "display_data"
    },
    {
     "data": {
      "application/vnd.jupyter.widget-view+json": {
       "model_id": "39d53586f2494bcb8cb2a4a656360d01",
       "version_major": 2,
       "version_minor": 0
      },
      "text/plain": [
       "Adding data to hdf5 dataset:   0%|          | 0/100 [00:00<?, ?it/s]"
      ]
     },
     "metadata": {},
     "output_type": "display_data"
    },
    {
     "data": {
      "application/vnd.jupyter.widget-view+json": {
       "model_id": "394fec96a1ee4098814d047a813fd90d",
       "version_major": 2,
       "version_minor": 0
      },
      "text/plain": [
       "repeats:   0%|          | 0/2 [00:00<?, ?it/s]"
      ]
     },
     "metadata": {},
     "output_type": "display_data"
    },
    {
     "data": {
      "application/vnd.jupyter.widget-view+json": {
       "model_id": "df56ecfb493942388c9ea4ecdb36873e",
       "version_major": 2,
       "version_minor": 0
      },
      "text/plain": [
       "reading:   0%|          | 0/100 [00:00<?, ?it/s]"
      ]
     },
     "metadata": {},
     "output_type": "display_data"
    },
    {
     "data": {
      "application/vnd.jupyter.widget-view+json": {
       "model_id": "505a923cca034829befd704f1e625f0d",
       "version_major": 2,
       "version_minor": 0
      },
      "text/plain": [
       "reading:   0%|          | 0/100 [00:00<?, ?it/s]"
      ]
     },
     "metadata": {},
     "output_type": "display_data"
    },
    {
     "data": {
      "application/vnd.jupyter.widget-view+json": {
       "model_id": "31e9531a6e0d4895a0ce320883518216",
       "version_major": 2,
       "version_minor": 0
      },
      "text/plain": [
       "Adding data to hdf5 dataset:   0%|          | 0/100 [00:00<?, ?it/s]"
      ]
     },
     "metadata": {},
     "output_type": "display_data"
    },
    {
     "data": {
      "application/vnd.jupyter.widget-view+json": {
       "model_id": "70faeb723e0b4918a38e9a39b71c6926",
       "version_major": 2,
       "version_minor": 0
      },
      "text/plain": [
       "repeats:   0%|          | 0/2 [00:00<?, ?it/s]"
      ]
     },
     "metadata": {},
     "output_type": "display_data"
    },
    {
     "data": {
      "application/vnd.jupyter.widget-view+json": {
       "model_id": "9a340e823cf14674b903af9f59b08249",
       "version_major": 2,
       "version_minor": 0
      },
      "text/plain": [
       "reading:   0%|          | 0/100 [00:00<?, ?it/s]"
      ]
     },
     "metadata": {},
     "output_type": "display_data"
    },
    {
     "data": {
      "application/vnd.jupyter.widget-view+json": {
       "model_id": "9e41afe4598b4cec9b24d6779a596af9",
       "version_major": 2,
       "version_minor": 0
      },
      "text/plain": [
       "reading:   0%|          | 0/100 [00:00<?, ?it/s]"
      ]
     },
     "metadata": {},
     "output_type": "display_data"
    },
    {
     "data": {
      "application/vnd.jupyter.widget-view+json": {
       "model_id": "3272be3dd6cf44c786f11afb9c5ce585",
       "version_major": 2,
       "version_minor": 0
      },
      "text/plain": [
       "shuffle:   0%|          | 0/2 [00:00<?, ?it/s]"
      ]
     },
     "metadata": {},
     "output_type": "display_data"
    },
    {
     "data": {
      "application/vnd.jupyter.widget-view+json": {
       "model_id": "8918c26371df4360bc58b9caa4526818",
       "version_major": 2,
       "version_minor": 0
      },
      "text/plain": [
       "Adding data to hdf5 dataset:   0%|          | 0/100 [00:00<?, ?it/s]"
      ]
     },
     "metadata": {},
     "output_type": "display_data"
    },
    {
     "data": {
      "application/vnd.jupyter.widget-view+json": {
       "model_id": "c87c4ddb5c754eb693affa0634b55483",
       "version_major": 2,
       "version_minor": 0
      },
      "text/plain": [
       "repeats:   0%|          | 0/2 [00:00<?, ?it/s]"
      ]
     },
     "metadata": {},
     "output_type": "display_data"
    },
    {
     "data": {
      "application/vnd.jupyter.widget-view+json": {
       "model_id": "a82028369efc49269b6d81618d6ddedb",
       "version_major": 2,
       "version_minor": 0
      },
      "text/plain": [
       "reading:   0%|          | 0/100 [00:00<?, ?it/s]"
      ]
     },
     "metadata": {},
     "output_type": "display_data"
    },
    {
     "data": {
      "application/vnd.jupyter.widget-view+json": {
       "model_id": "240daa90c3364515968cc14594658d50",
       "version_major": 2,
       "version_minor": 0
      },
      "text/plain": [
       "reading:   0%|          | 0/100 [00:00<?, ?it/s]"
      ]
     },
     "metadata": {},
     "output_type": "display_data"
    },
    {
     "data": {
      "application/vnd.jupyter.widget-view+json": {
       "model_id": "fa411a1e8df0411788260a4cc8edc90a",
       "version_major": 2,
       "version_minor": 0
      },
      "text/plain": [
       "Adding data to hdf5 dataset:   0%|          | 0/100 [00:00<?, ?it/s]"
      ]
     },
     "metadata": {},
     "output_type": "display_data"
    },
    {
     "data": {
      "application/vnd.jupyter.widget-view+json": {
       "model_id": "1ea48de721f04509873296e679d0e104",
       "version_major": 2,
       "version_minor": 0
      },
      "text/plain": [
       "repeats:   0%|          | 0/2 [00:00<?, ?it/s]"
      ]
     },
     "metadata": {},
     "output_type": "display_data"
    },
    {
     "data": {
      "application/vnd.jupyter.widget-view+json": {
       "model_id": "2e57cd8ae0e94b67ba07d0aa7e7e82fd",
       "version_major": 2,
       "version_minor": 0
      },
      "text/plain": [
       "reading:   0%|          | 0/100 [00:00<?, ?it/s]"
      ]
     },
     "metadata": {},
     "output_type": "display_data"
    },
    {
     "data": {
      "application/vnd.jupyter.widget-view+json": {
       "model_id": "238485ce3a9d4f9680f09cb0eec81dc3",
       "version_major": 2,
       "version_minor": 0
      },
      "text/plain": [
       "reading:   0%|          | 0/100 [00:00<?, ?it/s]"
      ]
     },
     "metadata": {},
     "output_type": "display_data"
    },
    {
     "data": {
      "application/vnd.jupyter.widget-view+json": {
       "model_id": "960f2434f99640f3a228409f57e185ea",
       "version_major": 2,
       "version_minor": 0
      },
      "text/plain": [
       "shuffle:   0%|          | 0/2 [00:00<?, ?it/s]"
      ]
     },
     "metadata": {},
     "output_type": "display_data"
    },
    {
     "data": {
      "application/vnd.jupyter.widget-view+json": {
       "model_id": "ec494a1947fd476db6ab81d8d7ff2010",
       "version_major": 2,
       "version_minor": 0
      },
      "text/plain": [
       "Adding data to hdf5 dataset:   0%|          | 0/100 [00:00<?, ?it/s]"
      ]
     },
     "metadata": {},
     "output_type": "display_data"
    },
    {
     "data": {
      "application/vnd.jupyter.widget-view+json": {
       "model_id": "d70169e44d0d49b1bcfef01213816a76",
       "version_major": 2,
       "version_minor": 0
      },
      "text/plain": [
       "repeats:   0%|          | 0/2 [00:00<?, ?it/s]"
      ]
     },
     "metadata": {},
     "output_type": "display_data"
    },
    {
     "data": {
      "application/vnd.jupyter.widget-view+json": {
       "model_id": "e69a05f4b3134f1ca345f2ce05a97c7d",
       "version_major": 2,
       "version_minor": 0
      },
      "text/plain": [
       "reading:   0%|          | 0/100 [00:00<?, ?it/s]"
      ]
     },
     "metadata": {},
     "output_type": "display_data"
    },
    {
     "data": {
      "application/vnd.jupyter.widget-view+json": {
       "model_id": "0b62ab1502d941cb94bd7a9bba2b1724",
       "version_major": 2,
       "version_minor": 0
      },
      "text/plain": [
       "reading:   0%|          | 0/100 [00:00<?, ?it/s]"
      ]
     },
     "metadata": {},
     "output_type": "display_data"
    },
    {
     "data": {
      "application/vnd.jupyter.widget-view+json": {
       "model_id": "eb80f1bbcf5d4159805cebaad91f1525",
       "version_major": 2,
       "version_minor": 0
      },
      "text/plain": [
       "Adding data to hdf5 dataset:   0%|          | 0/100 [00:00<?, ?it/s]"
      ]
     },
     "metadata": {},
     "output_type": "display_data"
    },
    {
     "data": {
      "application/vnd.jupyter.widget-view+json": {
       "model_id": "7a92e79b347a40e992c3eddac2af8563",
       "version_major": 2,
       "version_minor": 0
      },
      "text/plain": [
       "repeats:   0%|          | 0/2 [00:00<?, ?it/s]"
      ]
     },
     "metadata": {},
     "output_type": "display_data"
    },
    {
     "data": {
      "application/vnd.jupyter.widget-view+json": {
       "model_id": "ae4ea118fbb341ba91450cab4cb68302",
       "version_major": 2,
       "version_minor": 0
      },
      "text/plain": [
       "reading:   0%|          | 0/100 [00:00<?, ?it/s]"
      ]
     },
     "metadata": {},
     "output_type": "display_data"
    },
    {
     "data": {
      "application/vnd.jupyter.widget-view+json": {
       "model_id": "06bfea67a093426ea88544de9f8b7497",
       "version_major": 2,
       "version_minor": 0
      },
      "text/plain": [
       "reading:   0%|          | 0/100 [00:00<?, ?it/s]"
      ]
     },
     "metadata": {},
     "output_type": "display_data"
    },
    {
     "data": {
      "application/vnd.jupyter.widget-view+json": {
       "model_id": "72d93441086c47b5aae630bdc49a4317",
       "version_major": 2,
       "version_minor": 0
      },
      "text/plain": [
       "shuffle:   0%|          | 0/2 [00:00<?, ?it/s]"
      ]
     },
     "metadata": {},
     "output_type": "display_data"
    },
    {
     "data": {
      "application/vnd.jupyter.widget-view+json": {
       "model_id": "658e4a42fa694dbeb9088271fdfe1185",
       "version_major": 2,
       "version_minor": 0
      },
      "text/plain": [
       "Adding data to hdf5 dataset:   0%|          | 0/100 [00:00<?, ?it/s]"
      ]
     },
     "metadata": {},
     "output_type": "display_data"
    },
    {
     "data": {
      "application/vnd.jupyter.widget-view+json": {
       "model_id": "462479c0934444a98eed205d704656dd",
       "version_major": 2,
       "version_minor": 0
      },
      "text/plain": [
       "repeats:   0%|          | 0/2 [00:00<?, ?it/s]"
      ]
     },
     "metadata": {},
     "output_type": "display_data"
    },
    {
     "data": {
      "application/vnd.jupyter.widget-view+json": {
       "model_id": "711ae74540d2471783764491472d2e05",
       "version_major": 2,
       "version_minor": 0
      },
      "text/plain": [
       "reading:   0%|          | 0/100 [00:00<?, ?it/s]"
      ]
     },
     "metadata": {},
     "output_type": "display_data"
    },
    {
     "data": {
      "application/vnd.jupyter.widget-view+json": {
       "model_id": "0a49d971234d40a58fdd9a9d55d4ad13",
       "version_major": 2,
       "version_minor": 0
      },
      "text/plain": [
       "reading:   0%|          | 0/100 [00:00<?, ?it/s]"
      ]
     },
     "metadata": {},
     "output_type": "display_data"
    },
    {
     "data": {
      "application/vnd.jupyter.widget-view+json": {
       "model_id": "d8b8443a371541d9a4b4bccde27fc2be",
       "version_major": 2,
       "version_minor": 0
      },
      "text/plain": [
       "Adding data to hdf5 dataset:   0%|          | 0/100 [00:00<?, ?it/s]"
      ]
     },
     "metadata": {},
     "output_type": "display_data"
    },
    {
     "data": {
      "application/vnd.jupyter.widget-view+json": {
       "model_id": "a1f263d3136447ec9a35653f446adb3b",
       "version_major": 2,
       "version_minor": 0
      },
      "text/plain": [
       "repeats:   0%|          | 0/2 [00:00<?, ?it/s]"
      ]
     },
     "metadata": {},
     "output_type": "display_data"
    },
    {
     "data": {
      "application/vnd.jupyter.widget-view+json": {
       "model_id": "1fe6e06e94bd4ec88c973563a8ee1739",
       "version_major": 2,
       "version_minor": 0
      },
      "text/plain": [
       "reading:   0%|          | 0/100 [00:00<?, ?it/s]"
      ]
     },
     "metadata": {},
     "output_type": "display_data"
    },
    {
     "data": {
      "application/vnd.jupyter.widget-view+json": {
       "model_id": "23b6ca622d62412b8692224d8bce216a",
       "version_major": 2,
       "version_minor": 0
      },
      "text/plain": [
       "reading:   0%|          | 0/100 [00:00<?, ?it/s]"
      ]
     },
     "metadata": {},
     "output_type": "display_data"
    },
    {
     "data": {
      "application/vnd.jupyter.widget-view+json": {
       "model_id": "03b68d08efcb441d80a90613a9fff711",
       "version_major": 2,
       "version_minor": 0
      },
      "text/plain": [
       "n_values_per_row:   0%|          | 0/8 [00:00<?, ?it/s]"
      ]
     },
     "metadata": {},
     "output_type": "display_data"
    },
    {
     "data": {
      "application/vnd.jupyter.widget-view+json": {
       "model_id": "3b4812d3872347b29451fccb821a27a8",
       "version_major": 2,
       "version_minor": 0
      },
      "text/plain": [
       "shuffle:   0%|          | 0/2 [00:00<?, ?it/s]"
      ]
     },
     "metadata": {},
     "output_type": "display_data"
    },
    {
     "data": {
      "application/vnd.jupyter.widget-view+json": {
       "model_id": "da08131a247a4ae984793b66fd5a635a",
       "version_major": 2,
       "version_minor": 0
      },
      "text/plain": [
       "Adding data to hdf5 dataset:   0%|          | 0/500 [00:00<?, ?it/s]"
      ]
     },
     "metadata": {},
     "output_type": "display_data"
    },
    {
     "data": {
      "application/vnd.jupyter.widget-view+json": {
       "model_id": "d93416417a774c41871640d2d6297705",
       "version_major": 2,
       "version_minor": 0
      },
      "text/plain": [
       "repeats:   0%|          | 0/2 [00:00<?, ?it/s]"
      ]
     },
     "metadata": {},
     "output_type": "display_data"
    },
    {
     "data": {
      "application/vnd.jupyter.widget-view+json": {
       "model_id": "56c1900b143c4a75bc13e6a7422b78f2",
       "version_major": 2,
       "version_minor": 0
      },
      "text/plain": [
       "reading:   0%|          | 0/500 [00:00<?, ?it/s]"
      ]
     },
     "metadata": {},
     "output_type": "display_data"
    },
    {
     "data": {
      "application/vnd.jupyter.widget-view+json": {
       "model_id": "50d60cbf92134eb896687abda6b21ee2",
       "version_major": 2,
       "version_minor": 0
      },
      "text/plain": [
       "reading:   0%|          | 0/500 [00:00<?, ?it/s]"
      ]
     },
     "metadata": {},
     "output_type": "display_data"
    },
    {
     "data": {
      "application/vnd.jupyter.widget-view+json": {
       "model_id": "4d792ff47c0c40818a2c7554fa2053d5",
       "version_major": 2,
       "version_minor": 0
      },
      "text/plain": [
       "Adding data to hdf5 dataset:   0%|          | 0/500 [00:00<?, ?it/s]"
      ]
     },
     "metadata": {},
     "output_type": "display_data"
    },
    {
     "data": {
      "application/vnd.jupyter.widget-view+json": {
       "model_id": "799ed1b9bb69478cb7646aa70827785e",
       "version_major": 2,
       "version_minor": 0
      },
      "text/plain": [
       "repeats:   0%|          | 0/2 [00:00<?, ?it/s]"
      ]
     },
     "metadata": {},
     "output_type": "display_data"
    },
    {
     "data": {
      "application/vnd.jupyter.widget-view+json": {
       "model_id": "2b5b387ebada4592b9362c34c27dcc32",
       "version_major": 2,
       "version_minor": 0
      },
      "text/plain": [
       "reading:   0%|          | 0/500 [00:00<?, ?it/s]"
      ]
     },
     "metadata": {},
     "output_type": "display_data"
    },
    {
     "data": {
      "application/vnd.jupyter.widget-view+json": {
       "model_id": "d9a2d4d501554b1db390bdca0a0edf04",
       "version_major": 2,
       "version_minor": 0
      },
      "text/plain": [
       "reading:   0%|          | 0/500 [00:00<?, ?it/s]"
      ]
     },
     "metadata": {},
     "output_type": "display_data"
    },
    {
     "data": {
      "application/vnd.jupyter.widget-view+json": {
       "model_id": "8265e1445cbc45798a27753daf841932",
       "version_major": 2,
       "version_minor": 0
      },
      "text/plain": [
       "shuffle:   0%|          | 0/2 [00:00<?, ?it/s]"
      ]
     },
     "metadata": {},
     "output_type": "display_data"
    },
    {
     "data": {
      "application/vnd.jupyter.widget-view+json": {
       "model_id": "1e05d11cdde446b3b72534cf07f445d8",
       "version_major": 2,
       "version_minor": 0
      },
      "text/plain": [
       "Adding data to hdf5 dataset:   0%|          | 0/500 [00:00<?, ?it/s]"
      ]
     },
     "metadata": {},
     "output_type": "display_data"
    },
    {
     "data": {
      "application/vnd.jupyter.widget-view+json": {
       "model_id": "23d4c1bc22314bcca23bb13fb1a345de",
       "version_major": 2,
       "version_minor": 0
      },
      "text/plain": [
       "repeats:   0%|          | 0/2 [00:00<?, ?it/s]"
      ]
     },
     "metadata": {},
     "output_type": "display_data"
    },
    {
     "data": {
      "application/vnd.jupyter.widget-view+json": {
       "model_id": "9cead720dede4db096f957f12450bc9b",
       "version_major": 2,
       "version_minor": 0
      },
      "text/plain": [
       "reading:   0%|          | 0/500 [00:00<?, ?it/s]"
      ]
     },
     "metadata": {},
     "output_type": "display_data"
    },
    {
     "data": {
      "application/vnd.jupyter.widget-view+json": {
       "model_id": "021af4c12a53451fa13c37b361fe6c50",
       "version_major": 2,
       "version_minor": 0
      },
      "text/plain": [
       "reading:   0%|          | 0/500 [00:00<?, ?it/s]"
      ]
     },
     "metadata": {},
     "output_type": "display_data"
    },
    {
     "data": {
      "application/vnd.jupyter.widget-view+json": {
       "model_id": "d6f3c3e9144e41188382d0a314ec14ab",
       "version_major": 2,
       "version_minor": 0
      },
      "text/plain": [
       "Adding data to hdf5 dataset:   0%|          | 0/500 [00:00<?, ?it/s]"
      ]
     },
     "metadata": {},
     "output_type": "display_data"
    },
    {
     "data": {
      "application/vnd.jupyter.widget-view+json": {
       "model_id": "b33e6939397a49808b08a66868b41adc",
       "version_major": 2,
       "version_minor": 0
      },
      "text/plain": [
       "repeats:   0%|          | 0/2 [00:00<?, ?it/s]"
      ]
     },
     "metadata": {},
     "output_type": "display_data"
    },
    {
     "data": {
      "application/vnd.jupyter.widget-view+json": {
       "model_id": "053a46face514e70bd5fde6dca32c158",
       "version_major": 2,
       "version_minor": 0
      },
      "text/plain": [
       "reading:   0%|          | 0/500 [00:00<?, ?it/s]"
      ]
     },
     "metadata": {},
     "output_type": "display_data"
    },
    {
     "data": {
      "application/vnd.jupyter.widget-view+json": {
       "model_id": "59fb24cc1e0746f1b0ec3175afc28194",
       "version_major": 2,
       "version_minor": 0
      },
      "text/plain": [
       "reading:   0%|          | 0/500 [00:00<?, ?it/s]"
      ]
     },
     "metadata": {},
     "output_type": "display_data"
    },
    {
     "data": {
      "application/vnd.jupyter.widget-view+json": {
       "model_id": "16e727b2e7704943b2b9a625e9e5346e",
       "version_major": 2,
       "version_minor": 0
      },
      "text/plain": [
       "shuffle:   0%|          | 0/2 [00:00<?, ?it/s]"
      ]
     },
     "metadata": {},
     "output_type": "display_data"
    },
    {
     "data": {
      "application/vnd.jupyter.widget-view+json": {
       "model_id": "b908a1f86bd6489693e5f5f225e7d5bc",
       "version_major": 2,
       "version_minor": 0
      },
      "text/plain": [
       "Adding data to hdf5 dataset:   0%|          | 0/500 [00:00<?, ?it/s]"
      ]
     },
     "metadata": {},
     "output_type": "display_data"
    },
    {
     "data": {
      "application/vnd.jupyter.widget-view+json": {
       "model_id": "46bdd36452564f71a6e40a0ea3937a47",
       "version_major": 2,
       "version_minor": 0
      },
      "text/plain": [
       "repeats:   0%|          | 0/2 [00:00<?, ?it/s]"
      ]
     },
     "metadata": {},
     "output_type": "display_data"
    },
    {
     "data": {
      "application/vnd.jupyter.widget-view+json": {
       "model_id": "1b5efda23afa41daaa33d02b9dd60988",
       "version_major": 2,
       "version_minor": 0
      },
      "text/plain": [
       "reading:   0%|          | 0/500 [00:00<?, ?it/s]"
      ]
     },
     "metadata": {},
     "output_type": "display_data"
    },
    {
     "data": {
      "application/vnd.jupyter.widget-view+json": {
       "model_id": "ac3dc1c675f045aa8c4fa00898bd5cb4",
       "version_major": 2,
       "version_minor": 0
      },
      "text/plain": [
       "reading:   0%|          | 0/500 [00:00<?, ?it/s]"
      ]
     },
     "metadata": {},
     "output_type": "display_data"
    },
    {
     "data": {
      "application/vnd.jupyter.widget-view+json": {
       "model_id": "eba9665951a94aeab5377e4b327b6518",
       "version_major": 2,
       "version_minor": 0
      },
      "text/plain": [
       "Adding data to hdf5 dataset:   0%|          | 0/500 [00:00<?, ?it/s]"
      ]
     },
     "metadata": {},
     "output_type": "display_data"
    },
    {
     "data": {
      "application/vnd.jupyter.widget-view+json": {
       "model_id": "4511ecbc0af34295b74a8964874306c0",
       "version_major": 2,
       "version_minor": 0
      },
      "text/plain": [
       "repeats:   0%|          | 0/2 [00:00<?, ?it/s]"
      ]
     },
     "metadata": {},
     "output_type": "display_data"
    },
    {
     "data": {
      "application/vnd.jupyter.widget-view+json": {
       "model_id": "34d05856019b4a40afd684d4e3b8ce2e",
       "version_major": 2,
       "version_minor": 0
      },
      "text/plain": [
       "reading:   0%|          | 0/500 [00:00<?, ?it/s]"
      ]
     },
     "metadata": {},
     "output_type": "display_data"
    },
    {
     "data": {
      "application/vnd.jupyter.widget-view+json": {
       "model_id": "4040693c447f429fb8ff3fb26a1f9917",
       "version_major": 2,
       "version_minor": 0
      },
      "text/plain": [
       "reading:   0%|          | 0/500 [00:00<?, ?it/s]"
      ]
     },
     "metadata": {},
     "output_type": "display_data"
    },
    {
     "data": {
      "application/vnd.jupyter.widget-view+json": {
       "model_id": "fce9024989544b9d80906f0b3837ee44",
       "version_major": 2,
       "version_minor": 0
      },
      "text/plain": [
       "shuffle:   0%|          | 0/2 [00:00<?, ?it/s]"
      ]
     },
     "metadata": {},
     "output_type": "display_data"
    },
    {
     "data": {
      "application/vnd.jupyter.widget-view+json": {
       "model_id": "a97e9cf497ed4be08adb17adde10ab35",
       "version_major": 2,
       "version_minor": 0
      },
      "text/plain": [
       "Adding data to hdf5 dataset:   0%|          | 0/500 [00:00<?, ?it/s]"
      ]
     },
     "metadata": {},
     "output_type": "display_data"
    },
    {
     "data": {
      "application/vnd.jupyter.widget-view+json": {
       "model_id": "0b7e6e8d21704e7785527b640493016a",
       "version_major": 2,
       "version_minor": 0
      },
      "text/plain": [
       "repeats:   0%|          | 0/2 [00:00<?, ?it/s]"
      ]
     },
     "metadata": {},
     "output_type": "display_data"
    },
    {
     "data": {
      "application/vnd.jupyter.widget-view+json": {
       "model_id": "e0d4409b196245aa890a2e554a71cb7a",
       "version_major": 2,
       "version_minor": 0
      },
      "text/plain": [
       "reading:   0%|          | 0/500 [00:00<?, ?it/s]"
      ]
     },
     "metadata": {},
     "output_type": "display_data"
    },
    {
     "data": {
      "application/vnd.jupyter.widget-view+json": {
       "model_id": "af8dc1f178914a5c956c11be0b6f90c4",
       "version_major": 2,
       "version_minor": 0
      },
      "text/plain": [
       "reading:   0%|          | 0/500 [00:00<?, ?it/s]"
      ]
     },
     "metadata": {},
     "output_type": "display_data"
    },
    {
     "data": {
      "application/vnd.jupyter.widget-view+json": {
       "model_id": "bfad4b0913364479a8108f55cd45f749",
       "version_major": 2,
       "version_minor": 0
      },
      "text/plain": [
       "Adding data to hdf5 dataset:   0%|          | 0/500 [00:00<?, ?it/s]"
      ]
     },
     "metadata": {},
     "output_type": "display_data"
    },
    {
     "data": {
      "application/vnd.jupyter.widget-view+json": {
       "model_id": "1a1c2cb215cb427db18a7bddc15a99d2",
       "version_major": 2,
       "version_minor": 0
      },
      "text/plain": [
       "repeats:   0%|          | 0/2 [00:00<?, ?it/s]"
      ]
     },
     "metadata": {},
     "output_type": "display_data"
    },
    {
     "data": {
      "application/vnd.jupyter.widget-view+json": {
       "model_id": "d937b04cb8f1431fb85d566d034d407c",
       "version_major": 2,
       "version_minor": 0
      },
      "text/plain": [
       "reading:   0%|          | 0/500 [00:00<?, ?it/s]"
      ]
     },
     "metadata": {},
     "output_type": "display_data"
    },
    {
     "data": {
      "application/vnd.jupyter.widget-view+json": {
       "model_id": "3d41cc79299e405aaa5637afc824ef5c",
       "version_major": 2,
       "version_minor": 0
      },
      "text/plain": [
       "reading:   0%|          | 0/500 [00:00<?, ?it/s]"
      ]
     },
     "metadata": {},
     "output_type": "display_data"
    },
    {
     "data": {
      "application/vnd.jupyter.widget-view+json": {
       "model_id": "870fe567525048918235c3faa046dd30",
       "version_major": 2,
       "version_minor": 0
      },
      "text/plain": [
       "shuffle:   0%|          | 0/2 [00:00<?, ?it/s]"
      ]
     },
     "metadata": {},
     "output_type": "display_data"
    },
    {
     "data": {
      "application/vnd.jupyter.widget-view+json": {
       "model_id": "91741d50b01a432f800a422e9aada6a5",
       "version_major": 2,
       "version_minor": 0
      },
      "text/plain": [
       "Adding data to hdf5 dataset:   0%|          | 0/500 [00:00<?, ?it/s]"
      ]
     },
     "metadata": {},
     "output_type": "display_data"
    },
    {
     "data": {
      "application/vnd.jupyter.widget-view+json": {
       "model_id": "4fb85efe187442afaa39f44c6a110085",
       "version_major": 2,
       "version_minor": 0
      },
      "text/plain": [
       "repeats:   0%|          | 0/2 [00:00<?, ?it/s]"
      ]
     },
     "metadata": {},
     "output_type": "display_data"
    },
    {
     "data": {
      "application/vnd.jupyter.widget-view+json": {
       "model_id": "54b0cd646c634c90bd08c2f804db4619",
       "version_major": 2,
       "version_minor": 0
      },
      "text/plain": [
       "reading:   0%|          | 0/500 [00:00<?, ?it/s]"
      ]
     },
     "metadata": {},
     "output_type": "display_data"
    },
    {
     "data": {
      "application/vnd.jupyter.widget-view+json": {
       "model_id": "d7d2986d07e64f54826a6bab4ccd1824",
       "version_major": 2,
       "version_minor": 0
      },
      "text/plain": [
       "reading:   0%|          | 0/500 [00:00<?, ?it/s]"
      ]
     },
     "metadata": {},
     "output_type": "display_data"
    },
    {
     "data": {
      "application/vnd.jupyter.widget-view+json": {
       "model_id": "75c190fb6af04930b614686fda60d5b5",
       "version_major": 2,
       "version_minor": 0
      },
      "text/plain": [
       "Adding data to hdf5 dataset:   0%|          | 0/500 [00:00<?, ?it/s]"
      ]
     },
     "metadata": {},
     "output_type": "display_data"
    },
    {
     "data": {
      "application/vnd.jupyter.widget-view+json": {
       "model_id": "cd4a70e3649e4573b65743d4575154b5",
       "version_major": 2,
       "version_minor": 0
      },
      "text/plain": [
       "repeats:   0%|          | 0/2 [00:00<?, ?it/s]"
      ]
     },
     "metadata": {},
     "output_type": "display_data"
    },
    {
     "data": {
      "application/vnd.jupyter.widget-view+json": {
       "model_id": "206b98767afc4fb3b3074d863f505f5b",
       "version_major": 2,
       "version_minor": 0
      },
      "text/plain": [
       "reading:   0%|          | 0/500 [00:00<?, ?it/s]"
      ]
     },
     "metadata": {},
     "output_type": "display_data"
    },
    {
     "data": {
      "application/vnd.jupyter.widget-view+json": {
       "model_id": "ba837af4549a48c8a156a7bc8226d1aa",
       "version_major": 2,
       "version_minor": 0
      },
      "text/plain": [
       "reading:   0%|          | 0/500 [00:00<?, ?it/s]"
      ]
     },
     "metadata": {},
     "output_type": "display_data"
    },
    {
     "data": {
      "application/vnd.jupyter.widget-view+json": {
       "model_id": "0a203cec26174ce1a2975b6448dc8ed6",
       "version_major": 2,
       "version_minor": 0
      },
      "text/plain": [
       "shuffle:   0%|          | 0/2 [00:00<?, ?it/s]"
      ]
     },
     "metadata": {},
     "output_type": "display_data"
    },
    {
     "data": {
      "application/vnd.jupyter.widget-view+json": {
       "model_id": "4e01df1894fa45418200975b373d9a89",
       "version_major": 2,
       "version_minor": 0
      },
      "text/plain": [
       "Adding data to hdf5 dataset:   0%|          | 0/500 [00:00<?, ?it/s]"
      ]
     },
     "metadata": {},
     "output_type": "display_data"
    },
    {
     "data": {
      "application/vnd.jupyter.widget-view+json": {
       "model_id": "bd0d0ed815a24627a050c149f2c7bdae",
       "version_major": 2,
       "version_minor": 0
      },
      "text/plain": [
       "repeats:   0%|          | 0/2 [00:00<?, ?it/s]"
      ]
     },
     "metadata": {},
     "output_type": "display_data"
    },
    {
     "data": {
      "application/vnd.jupyter.widget-view+json": {
       "model_id": "7d1562b2ec6e4bb0b59a5b9ad4eea26e",
       "version_major": 2,
       "version_minor": 0
      },
      "text/plain": [
       "reading:   0%|          | 0/500 [00:00<?, ?it/s]"
      ]
     },
     "metadata": {},
     "output_type": "display_data"
    },
    {
     "data": {
      "application/vnd.jupyter.widget-view+json": {
       "model_id": "cb1d34ab85624c43a1ce00ceb0901423",
       "version_major": 2,
       "version_minor": 0
      },
      "text/plain": [
       "reading:   0%|          | 0/500 [00:00<?, ?it/s]"
      ]
     },
     "metadata": {},
     "output_type": "display_data"
    },
    {
     "data": {
      "application/vnd.jupyter.widget-view+json": {
       "model_id": "167b5b23156e4fb4bdc0cbcd36d45a9c",
       "version_major": 2,
       "version_minor": 0
      },
      "text/plain": [
       "Adding data to hdf5 dataset:   0%|          | 0/500 [00:00<?, ?it/s]"
      ]
     },
     "metadata": {},
     "output_type": "display_data"
    },
    {
     "data": {
      "application/vnd.jupyter.widget-view+json": {
       "model_id": "919aea31125549f8b47c98e363f5a366",
       "version_major": 2,
       "version_minor": 0
      },
      "text/plain": [
       "repeats:   0%|          | 0/2 [00:00<?, ?it/s]"
      ]
     },
     "metadata": {},
     "output_type": "display_data"
    },
    {
     "data": {
      "application/vnd.jupyter.widget-view+json": {
       "model_id": "0420d97a95b9414b8a727f1f3c2381e8",
       "version_major": 2,
       "version_minor": 0
      },
      "text/plain": [
       "reading:   0%|          | 0/500 [00:00<?, ?it/s]"
      ]
     },
     "metadata": {},
     "output_type": "display_data"
    },
    {
     "data": {
      "application/vnd.jupyter.widget-view+json": {
       "model_id": "8697277dfe2349748563cf0b2d73ca3d",
       "version_major": 2,
       "version_minor": 0
      },
      "text/plain": [
       "reading:   0%|          | 0/500 [00:00<?, ?it/s]"
      ]
     },
     "metadata": {},
     "output_type": "display_data"
    },
    {
     "data": {
      "application/vnd.jupyter.widget-view+json": {
       "model_id": "b0cddf66883842ab80d00ced3ebd0105",
       "version_major": 2,
       "version_minor": 0
      },
      "text/plain": [
       "shuffle:   0%|          | 0/2 [00:00<?, ?it/s]"
      ]
     },
     "metadata": {},
     "output_type": "display_data"
    },
    {
     "data": {
      "application/vnd.jupyter.widget-view+json": {
       "model_id": "6abf2e7cb42a4c69a98111b378669c4c",
       "version_major": 2,
       "version_minor": 0
      },
      "text/plain": [
       "Adding data to hdf5 dataset:   0%|          | 0/500 [00:00<?, ?it/s]"
      ]
     },
     "metadata": {},
     "output_type": "display_data"
    },
    {
     "data": {
      "application/vnd.jupyter.widget-view+json": {
       "model_id": "6d84f3feaaf7484cbe9d645d50578afe",
       "version_major": 2,
       "version_minor": 0
      },
      "text/plain": [
       "repeats:   0%|          | 0/2 [00:00<?, ?it/s]"
      ]
     },
     "metadata": {},
     "output_type": "display_data"
    },
    {
     "data": {
      "application/vnd.jupyter.widget-view+json": {
       "model_id": "b94e2fffb8c04105b3a98803b8c9020a",
       "version_major": 2,
       "version_minor": 0
      },
      "text/plain": [
       "reading:   0%|          | 0/500 [00:00<?, ?it/s]"
      ]
     },
     "metadata": {},
     "output_type": "display_data"
    },
    {
     "data": {
      "application/vnd.jupyter.widget-view+json": {
       "model_id": "8a6f2c20c7f14dee828cfa0d8b271589",
       "version_major": 2,
       "version_minor": 0
      },
      "text/plain": [
       "reading:   0%|          | 0/500 [00:00<?, ?it/s]"
      ]
     },
     "metadata": {},
     "output_type": "display_data"
    },
    {
     "data": {
      "application/vnd.jupyter.widget-view+json": {
       "model_id": "abc27b4c6cc243ab959f326c22e24b82",
       "version_major": 2,
       "version_minor": 0
      },
      "text/plain": [
       "Adding data to hdf5 dataset:   0%|          | 0/500 [00:00<?, ?it/s]"
      ]
     },
     "metadata": {},
     "output_type": "display_data"
    },
    {
     "data": {
      "application/vnd.jupyter.widget-view+json": {
       "model_id": "97c3c774d36d45e7be4ed2c96cc07285",
       "version_major": 2,
       "version_minor": 0
      },
      "text/plain": [
       "repeats:   0%|          | 0/2 [00:00<?, ?it/s]"
      ]
     },
     "metadata": {},
     "output_type": "display_data"
    },
    {
     "data": {
      "application/vnd.jupyter.widget-view+json": {
       "model_id": "963f754d8b284cb3a98dc404ae709d0d",
       "version_major": 2,
       "version_minor": 0
      },
      "text/plain": [
       "reading:   0%|          | 0/500 [00:00<?, ?it/s]"
      ]
     },
     "metadata": {},
     "output_type": "display_data"
    },
    {
     "data": {
      "application/vnd.jupyter.widget-view+json": {
       "model_id": "34a26d359c264be79c8c05fc77c8af77",
       "version_major": 2,
       "version_minor": 0
      },
      "text/plain": [
       "reading:   0%|          | 0/500 [00:00<?, ?it/s]"
      ]
     },
     "metadata": {},
     "output_type": "display_data"
    },
    {
     "data": {
      "application/vnd.jupyter.widget-view+json": {
       "model_id": "08c93209120f44778f2a279512d60511",
       "version_major": 2,
       "version_minor": 0
      },
      "text/plain": [
       "shuffle:   0%|          | 0/2 [00:00<?, ?it/s]"
      ]
     },
     "metadata": {},
     "output_type": "display_data"
    },
    {
     "data": {
      "application/vnd.jupyter.widget-view+json": {
       "model_id": "78687988672a415d87372382479a5dac",
       "version_major": 2,
       "version_minor": 0
      },
      "text/plain": [
       "Adding data to hdf5 dataset:   0%|          | 0/500 [00:00<?, ?it/s]"
      ]
     },
     "metadata": {},
     "output_type": "display_data"
    },
    {
     "data": {
      "application/vnd.jupyter.widget-view+json": {
       "model_id": "f16092ecd10349f1a4153ac38a3b3e29",
       "version_major": 2,
       "version_minor": 0
      },
      "text/plain": [
       "repeats:   0%|          | 0/2 [00:00<?, ?it/s]"
      ]
     },
     "metadata": {},
     "output_type": "display_data"
    },
    {
     "data": {
      "application/vnd.jupyter.widget-view+json": {
       "model_id": "0fbfa04985c74519b382d88f806c08ab",
       "version_major": 2,
       "version_minor": 0
      },
      "text/plain": [
       "reading:   0%|          | 0/500 [00:00<?, ?it/s]"
      ]
     },
     "metadata": {},
     "output_type": "display_data"
    },
    {
     "data": {
      "application/vnd.jupyter.widget-view+json": {
       "model_id": "ec999103c1214d0e92470683bc99cd78",
       "version_major": 2,
       "version_minor": 0
      },
      "text/plain": [
       "reading:   0%|          | 0/500 [00:00<?, ?it/s]"
      ]
     },
     "metadata": {},
     "output_type": "display_data"
    },
    {
     "data": {
      "application/vnd.jupyter.widget-view+json": {
       "model_id": "04e8ff8355174a5884d94e1f6300fdbc",
       "version_major": 2,
       "version_minor": 0
      },
      "text/plain": [
       "Adding data to hdf5 dataset:   0%|          | 0/500 [00:00<?, ?it/s]"
      ]
     },
     "metadata": {},
     "output_type": "display_data"
    },
    {
     "data": {
      "application/vnd.jupyter.widget-view+json": {
       "model_id": "bded99a2be164475ab9bb07aecf46e9d",
       "version_major": 2,
       "version_minor": 0
      },
      "text/plain": [
       "repeats:   0%|          | 0/2 [00:00<?, ?it/s]"
      ]
     },
     "metadata": {},
     "output_type": "display_data"
    },
    {
     "data": {
      "application/vnd.jupyter.widget-view+json": {
       "model_id": "222d6d06a6e54f77ac7eb2bd8a203632",
       "version_major": 2,
       "version_minor": 0
      },
      "text/plain": [
       "reading:   0%|          | 0/500 [00:00<?, ?it/s]"
      ]
     },
     "metadata": {},
     "output_type": "display_data"
    },
    {
     "data": {
      "application/vnd.jupyter.widget-view+json": {
       "model_id": "cbcbd290c8514cd1adac4fda7b363295",
       "version_major": 2,
       "version_minor": 0
      },
      "text/plain": [
       "reading:   0%|          | 0/500 [00:00<?, ?it/s]"
      ]
     },
     "metadata": {},
     "output_type": "display_data"
    },
    {
     "data": {
      "application/vnd.jupyter.widget-view+json": {
       "model_id": "4728bfbf9ec342249f83ac8dc94af098",
       "version_major": 2,
       "version_minor": 0
      },
      "text/plain": [
       "n_values_per_row:   0%|          | 0/8 [00:00<?, ?it/s]"
      ]
     },
     "metadata": {},
     "output_type": "display_data"
    },
    {
     "data": {
      "application/vnd.jupyter.widget-view+json": {
       "model_id": "48c129bcbba142a698572c79e9ee2357",
       "version_major": 2,
       "version_minor": 0
      },
      "text/plain": [
       "shuffle:   0%|          | 0/2 [00:00<?, ?it/s]"
      ]
     },
     "metadata": {},
     "output_type": "display_data"
    },
    {
     "data": {
      "application/vnd.jupyter.widget-view+json": {
       "model_id": "b630733dfe43465c96e8a9628a402df4",
       "version_major": 2,
       "version_minor": 0
      },
      "text/plain": [
       "Adding data to hdf5 dataset:   0%|          | 0/1000 [00:00<?, ?it/s]"
      ]
     },
     "metadata": {},
     "output_type": "display_data"
    },
    {
     "data": {
      "application/vnd.jupyter.widget-view+json": {
       "model_id": "b0a37db2c7794312bf1bbc89a7540daa",
       "version_major": 2,
       "version_minor": 0
      },
      "text/plain": [
       "repeats:   0%|          | 0/2 [00:00<?, ?it/s]"
      ]
     },
     "metadata": {},
     "output_type": "display_data"
    },
    {
     "data": {
      "application/vnd.jupyter.widget-view+json": {
       "model_id": "a63d50ca5c614378b5b91e0c0c6db223",
       "version_major": 2,
       "version_minor": 0
      },
      "text/plain": [
       "reading:   0%|          | 0/1000 [00:00<?, ?it/s]"
      ]
     },
     "metadata": {},
     "output_type": "display_data"
    },
    {
     "data": {
      "application/vnd.jupyter.widget-view+json": {
       "model_id": "edc920587d624fd1baeb236dc17b413b",
       "version_major": 2,
       "version_minor": 0
      },
      "text/plain": [
       "reading:   0%|          | 0/1000 [00:00<?, ?it/s]"
      ]
     },
     "metadata": {},
     "output_type": "display_data"
    },
    {
     "data": {
      "application/vnd.jupyter.widget-view+json": {
       "model_id": "c04b251dae604b7ebe9fd4ec28135239",
       "version_major": 2,
       "version_minor": 0
      },
      "text/plain": [
       "Adding data to hdf5 dataset:   0%|          | 0/1000 [00:00<?, ?it/s]"
      ]
     },
     "metadata": {},
     "output_type": "display_data"
    },
    {
     "data": {
      "application/vnd.jupyter.widget-view+json": {
       "model_id": "d43378a1d4ac40c7a588244ba982f523",
       "version_major": 2,
       "version_minor": 0
      },
      "text/plain": [
       "repeats:   0%|          | 0/2 [00:00<?, ?it/s]"
      ]
     },
     "metadata": {},
     "output_type": "display_data"
    },
    {
     "data": {
      "application/vnd.jupyter.widget-view+json": {
       "model_id": "24e53c4596da4060a7ea7c236f6f0deb",
       "version_major": 2,
       "version_minor": 0
      },
      "text/plain": [
       "reading:   0%|          | 0/1000 [00:00<?, ?it/s]"
      ]
     },
     "metadata": {},
     "output_type": "display_data"
    },
    {
     "data": {
      "application/vnd.jupyter.widget-view+json": {
       "model_id": "9a8ada47f73b4e85a1fe355d6d003246",
       "version_major": 2,
       "version_minor": 0
      },
      "text/plain": [
       "reading:   0%|          | 0/1000 [00:00<?, ?it/s]"
      ]
     },
     "metadata": {},
     "output_type": "display_data"
    },
    {
     "data": {
      "application/vnd.jupyter.widget-view+json": {
       "model_id": "329c7b573e514657ae3651da60c7ab7d",
       "version_major": 2,
       "version_minor": 0
      },
      "text/plain": [
       "shuffle:   0%|          | 0/2 [00:00<?, ?it/s]"
      ]
     },
     "metadata": {},
     "output_type": "display_data"
    },
    {
     "data": {
      "application/vnd.jupyter.widget-view+json": {
       "model_id": "e3e14825c5ae486dba7c0ebfcc47f39a",
       "version_major": 2,
       "version_minor": 0
      },
      "text/plain": [
       "Adding data to hdf5 dataset:   0%|          | 0/1000 [00:00<?, ?it/s]"
      ]
     },
     "metadata": {},
     "output_type": "display_data"
    },
    {
     "data": {
      "application/vnd.jupyter.widget-view+json": {
       "model_id": "8da80a49afff4e1e9b439c3abaa5aa28",
       "version_major": 2,
       "version_minor": 0
      },
      "text/plain": [
       "repeats:   0%|          | 0/2 [00:00<?, ?it/s]"
      ]
     },
     "metadata": {},
     "output_type": "display_data"
    },
    {
     "data": {
      "application/vnd.jupyter.widget-view+json": {
       "model_id": "ba17f23f57a242f882885dd60c3ad179",
       "version_major": 2,
       "version_minor": 0
      },
      "text/plain": [
       "reading:   0%|          | 0/1000 [00:00<?, ?it/s]"
      ]
     },
     "metadata": {},
     "output_type": "display_data"
    },
    {
     "data": {
      "application/vnd.jupyter.widget-view+json": {
       "model_id": "be4a4d56c0c44fed91b2c32cb1add412",
       "version_major": 2,
       "version_minor": 0
      },
      "text/plain": [
       "reading:   0%|          | 0/1000 [00:00<?, ?it/s]"
      ]
     },
     "metadata": {},
     "output_type": "display_data"
    },
    {
     "data": {
      "application/vnd.jupyter.widget-view+json": {
       "model_id": "6407375a53b2409aa71cbd0f80d5cdb8",
       "version_major": 2,
       "version_minor": 0
      },
      "text/plain": [
       "Adding data to hdf5 dataset:   0%|          | 0/1000 [00:00<?, ?it/s]"
      ]
     },
     "metadata": {},
     "output_type": "display_data"
    },
    {
     "data": {
      "application/vnd.jupyter.widget-view+json": {
       "model_id": "09417c2c93d84c5a9ad4ea04c8a5a320",
       "version_major": 2,
       "version_minor": 0
      },
      "text/plain": [
       "repeats:   0%|          | 0/2 [00:00<?, ?it/s]"
      ]
     },
     "metadata": {},
     "output_type": "display_data"
    },
    {
     "data": {
      "application/vnd.jupyter.widget-view+json": {
       "model_id": "d3631f9fb82948eb84d3f2ea7d4fa7a7",
       "version_major": 2,
       "version_minor": 0
      },
      "text/plain": [
       "reading:   0%|          | 0/1000 [00:00<?, ?it/s]"
      ]
     },
     "metadata": {},
     "output_type": "display_data"
    },
    {
     "data": {
      "application/vnd.jupyter.widget-view+json": {
       "model_id": "1f760ab2976248b1896063b44d999ded",
       "version_major": 2,
       "version_minor": 0
      },
      "text/plain": [
       "reading:   0%|          | 0/1000 [00:00<?, ?it/s]"
      ]
     },
     "metadata": {},
     "output_type": "display_data"
    },
    {
     "data": {
      "application/vnd.jupyter.widget-view+json": {
       "model_id": "9a80fb4d47344daf9d02bba0982d2d7e",
       "version_major": 2,
       "version_minor": 0
      },
      "text/plain": [
       "shuffle:   0%|          | 0/2 [00:00<?, ?it/s]"
      ]
     },
     "metadata": {},
     "output_type": "display_data"
    },
    {
     "data": {
      "application/vnd.jupyter.widget-view+json": {
       "model_id": "c96e3e61cddc4a55975b8d4b61f73bbf",
       "version_major": 2,
       "version_minor": 0
      },
      "text/plain": [
       "Adding data to hdf5 dataset:   0%|          | 0/1000 [00:00<?, ?it/s]"
      ]
     },
     "metadata": {},
     "output_type": "display_data"
    },
    {
     "data": {
      "application/vnd.jupyter.widget-view+json": {
       "model_id": "07ac70a65bcf41ac833f7a2334aefb55",
       "version_major": 2,
       "version_minor": 0
      },
      "text/plain": [
       "repeats:   0%|          | 0/2 [00:00<?, ?it/s]"
      ]
     },
     "metadata": {},
     "output_type": "display_data"
    },
    {
     "data": {
      "application/vnd.jupyter.widget-view+json": {
       "model_id": "784761c1b6d1411abb80d28a5ef1e8e1",
       "version_major": 2,
       "version_minor": 0
      },
      "text/plain": [
       "reading:   0%|          | 0/1000 [00:00<?, ?it/s]"
      ]
     },
     "metadata": {},
     "output_type": "display_data"
    },
    {
     "data": {
      "application/vnd.jupyter.widget-view+json": {
       "model_id": "2086ec4a3d4f4b45ab73635fb18fa2b2",
       "version_major": 2,
       "version_minor": 0
      },
      "text/plain": [
       "reading:   0%|          | 0/1000 [00:00<?, ?it/s]"
      ]
     },
     "metadata": {},
     "output_type": "display_data"
    },
    {
     "data": {
      "application/vnd.jupyter.widget-view+json": {
       "model_id": "4904ea35cf324555afd281ddda756cc7",
       "version_major": 2,
       "version_minor": 0
      },
      "text/plain": [
       "Adding data to hdf5 dataset:   0%|          | 0/1000 [00:00<?, ?it/s]"
      ]
     },
     "metadata": {},
     "output_type": "display_data"
    },
    {
     "data": {
      "application/vnd.jupyter.widget-view+json": {
       "model_id": "63cfc7234d9b4eb39ac13775b76d1e1b",
       "version_major": 2,
       "version_minor": 0
      },
      "text/plain": [
       "repeats:   0%|          | 0/2 [00:00<?, ?it/s]"
      ]
     },
     "metadata": {},
     "output_type": "display_data"
    },
    {
     "data": {
      "application/vnd.jupyter.widget-view+json": {
       "model_id": "1f675a77b73042db867d56748c970046",
       "version_major": 2,
       "version_minor": 0
      },
      "text/plain": [
       "reading:   0%|          | 0/1000 [00:00<?, ?it/s]"
      ]
     },
     "metadata": {},
     "output_type": "display_data"
    },
    {
     "data": {
      "application/vnd.jupyter.widget-view+json": {
       "model_id": "f6f93a30049d412185dd9ad2cb6eb314",
       "version_major": 2,
       "version_minor": 0
      },
      "text/plain": [
       "reading:   0%|          | 0/1000 [00:00<?, ?it/s]"
      ]
     },
     "metadata": {},
     "output_type": "display_data"
    },
    {
     "data": {
      "application/vnd.jupyter.widget-view+json": {
       "model_id": "9fcfed8f8d1148e5b342b9419c8649fe",
       "version_major": 2,
       "version_minor": 0
      },
      "text/plain": [
       "shuffle:   0%|          | 0/2 [00:00<?, ?it/s]"
      ]
     },
     "metadata": {},
     "output_type": "display_data"
    },
    {
     "data": {
      "application/vnd.jupyter.widget-view+json": {
       "model_id": "76423c4e631545129bb3426946e19ffb",
       "version_major": 2,
       "version_minor": 0
      },
      "text/plain": [
       "Adding data to hdf5 dataset:   0%|          | 0/1000 [00:00<?, ?it/s]"
      ]
     },
     "metadata": {},
     "output_type": "display_data"
    },
    {
     "data": {
      "application/vnd.jupyter.widget-view+json": {
       "model_id": "72263bc5b47b4e568ea195bc7db6a28d",
       "version_major": 2,
       "version_minor": 0
      },
      "text/plain": [
       "repeats:   0%|          | 0/2 [00:00<?, ?it/s]"
      ]
     },
     "metadata": {},
     "output_type": "display_data"
    },
    {
     "data": {
      "application/vnd.jupyter.widget-view+json": {
       "model_id": "3205768be3674617aa97f7115774fa33",
       "version_major": 2,
       "version_minor": 0
      },
      "text/plain": [
       "reading:   0%|          | 0/1000 [00:00<?, ?it/s]"
      ]
     },
     "metadata": {},
     "output_type": "display_data"
    },
    {
     "data": {
      "application/vnd.jupyter.widget-view+json": {
       "model_id": "73f6b44c9c854a98a72508d17d96c9b4",
       "version_major": 2,
       "version_minor": 0
      },
      "text/plain": [
       "reading:   0%|          | 0/1000 [00:00<?, ?it/s]"
      ]
     },
     "metadata": {},
     "output_type": "display_data"
    },
    {
     "data": {
      "application/vnd.jupyter.widget-view+json": {
       "model_id": "c37e4fb1fea6482da53f2cd0f86b2bd0",
       "version_major": 2,
       "version_minor": 0
      },
      "text/plain": [
       "Adding data to hdf5 dataset:   0%|          | 0/1000 [00:00<?, ?it/s]"
      ]
     },
     "metadata": {},
     "output_type": "display_data"
    },
    {
     "data": {
      "application/vnd.jupyter.widget-view+json": {
       "model_id": "55dec2784c654d2c955da1d14fb4d030",
       "version_major": 2,
       "version_minor": 0
      },
      "text/plain": [
       "repeats:   0%|          | 0/2 [00:00<?, ?it/s]"
      ]
     },
     "metadata": {},
     "output_type": "display_data"
    },
    {
     "data": {
      "application/vnd.jupyter.widget-view+json": {
       "model_id": "c4ecfac9441f45a4bd66b47ef57ef652",
       "version_major": 2,
       "version_minor": 0
      },
      "text/plain": [
       "reading:   0%|          | 0/1000 [00:00<?, ?it/s]"
      ]
     },
     "metadata": {},
     "output_type": "display_data"
    },
    {
     "data": {
      "application/vnd.jupyter.widget-view+json": {
       "model_id": "bb2ca1946c8d4306b6e4c9eb78578588",
       "version_major": 2,
       "version_minor": 0
      },
      "text/plain": [
       "reading:   0%|          | 0/1000 [00:00<?, ?it/s]"
      ]
     },
     "metadata": {},
     "output_type": "display_data"
    },
    {
     "data": {
      "application/vnd.jupyter.widget-view+json": {
       "model_id": "d106f592e3f94b879ee68ca17bcbdd2e",
       "version_major": 2,
       "version_minor": 0
      },
      "text/plain": [
       "shuffle:   0%|          | 0/2 [00:00<?, ?it/s]"
      ]
     },
     "metadata": {},
     "output_type": "display_data"
    },
    {
     "data": {
      "application/vnd.jupyter.widget-view+json": {
       "model_id": "6de120fc31f34e1f875c55f99e8cb0f2",
       "version_major": 2,
       "version_minor": 0
      },
      "text/plain": [
       "Adding data to hdf5 dataset:   0%|          | 0/1000 [00:00<?, ?it/s]"
      ]
     },
     "metadata": {},
     "output_type": "display_data"
    },
    {
     "data": {
      "application/vnd.jupyter.widget-view+json": {
       "model_id": "abc3fde72c95415188dc380eb268a9e5",
       "version_major": 2,
       "version_minor": 0
      },
      "text/plain": [
       "repeats:   0%|          | 0/2 [00:00<?, ?it/s]"
      ]
     },
     "metadata": {},
     "output_type": "display_data"
    },
    {
     "data": {
      "application/vnd.jupyter.widget-view+json": {
       "model_id": "4f9a409a7ee24692a738add06c88a0e3",
       "version_major": 2,
       "version_minor": 0
      },
      "text/plain": [
       "reading:   0%|          | 0/1000 [00:00<?, ?it/s]"
      ]
     },
     "metadata": {},
     "output_type": "display_data"
    },
    {
     "data": {
      "application/vnd.jupyter.widget-view+json": {
       "model_id": "eac8543f2b354902a1c48e648201a1ea",
       "version_major": 2,
       "version_minor": 0
      },
      "text/plain": [
       "reading:   0%|          | 0/1000 [00:00<?, ?it/s]"
      ]
     },
     "metadata": {},
     "output_type": "display_data"
    },
    {
     "data": {
      "application/vnd.jupyter.widget-view+json": {
       "model_id": "ab7dedde8f474aee9bd13311d5b82033",
       "version_major": 2,
       "version_minor": 0
      },
      "text/plain": [
       "Adding data to hdf5 dataset:   0%|          | 0/1000 [00:00<?, ?it/s]"
      ]
     },
     "metadata": {},
     "output_type": "display_data"
    },
    {
     "data": {
      "application/vnd.jupyter.widget-view+json": {
       "model_id": "c4725461b9564f0885b0e810c752c541",
       "version_major": 2,
       "version_minor": 0
      },
      "text/plain": [
       "repeats:   0%|          | 0/2 [00:00<?, ?it/s]"
      ]
     },
     "metadata": {},
     "output_type": "display_data"
    },
    {
     "data": {
      "application/vnd.jupyter.widget-view+json": {
       "model_id": "724a7d6da3aa4b248af39b6c02627bf0",
       "version_major": 2,
       "version_minor": 0
      },
      "text/plain": [
       "reading:   0%|          | 0/1000 [00:00<?, ?it/s]"
      ]
     },
     "metadata": {},
     "output_type": "display_data"
    },
    {
     "data": {
      "application/vnd.jupyter.widget-view+json": {
       "model_id": "f8b19288d10b4d5ba6400b43d699144f",
       "version_major": 2,
       "version_minor": 0
      },
      "text/plain": [
       "reading:   0%|          | 0/1000 [00:00<?, ?it/s]"
      ]
     },
     "metadata": {},
     "output_type": "display_data"
    },
    {
     "data": {
      "application/vnd.jupyter.widget-view+json": {
       "model_id": "83f72cec98524a18a64000ef6ed8bd66",
       "version_major": 2,
       "version_minor": 0
      },
      "text/plain": [
       "shuffle:   0%|          | 0/2 [00:00<?, ?it/s]"
      ]
     },
     "metadata": {},
     "output_type": "display_data"
    },
    {
     "data": {
      "application/vnd.jupyter.widget-view+json": {
       "model_id": "01377fb3ecab4b50b88a580032cfebf4",
       "version_major": 2,
       "version_minor": 0
      },
      "text/plain": [
       "Adding data to hdf5 dataset:   0%|          | 0/1000 [00:00<?, ?it/s]"
      ]
     },
     "metadata": {},
     "output_type": "display_data"
    },
    {
     "data": {
      "application/vnd.jupyter.widget-view+json": {
       "model_id": "d7ba6e74235c4760a41eb001564c8e5e",
       "version_major": 2,
       "version_minor": 0
      },
      "text/plain": [
       "repeats:   0%|          | 0/2 [00:00<?, ?it/s]"
      ]
     },
     "metadata": {},
     "output_type": "display_data"
    },
    {
     "data": {
      "application/vnd.jupyter.widget-view+json": {
       "model_id": "13ff3867ec2044a7be26e0530cc73df3",
       "version_major": 2,
       "version_minor": 0
      },
      "text/plain": [
       "reading:   0%|          | 0/1000 [00:00<?, ?it/s]"
      ]
     },
     "metadata": {},
     "output_type": "display_data"
    },
    {
     "data": {
      "application/vnd.jupyter.widget-view+json": {
       "model_id": "2a6bc9e91eaf449283f320b164b3c14f",
       "version_major": 2,
       "version_minor": 0
      },
      "text/plain": [
       "reading:   0%|          | 0/1000 [00:00<?, ?it/s]"
      ]
     },
     "metadata": {},
     "output_type": "display_data"
    },
    {
     "data": {
      "application/vnd.jupyter.widget-view+json": {
       "model_id": "0cb93396a9014ab79534c27fa88a3a0c",
       "version_major": 2,
       "version_minor": 0
      },
      "text/plain": [
       "Adding data to hdf5 dataset:   0%|          | 0/1000 [00:00<?, ?it/s]"
      ]
     },
     "metadata": {},
     "output_type": "display_data"
    },
    {
     "data": {
      "application/vnd.jupyter.widget-view+json": {
       "model_id": "981a347090a44341b4e481bf0245d6ee",
       "version_major": 2,
       "version_minor": 0
      },
      "text/plain": [
       "repeats:   0%|          | 0/2 [00:00<?, ?it/s]"
      ]
     },
     "metadata": {},
     "output_type": "display_data"
    },
    {
     "data": {
      "application/vnd.jupyter.widget-view+json": {
       "model_id": "b17c9e47b15d4b0083ccb98ca9c09e44",
       "version_major": 2,
       "version_minor": 0
      },
      "text/plain": [
       "reading:   0%|          | 0/1000 [00:00<?, ?it/s]"
      ]
     },
     "metadata": {},
     "output_type": "display_data"
    },
    {
     "data": {
      "application/vnd.jupyter.widget-view+json": {
       "model_id": "20aaf99043834c8fadf9b83010413275",
       "version_major": 2,
       "version_minor": 0
      },
      "text/plain": [
       "reading:   0%|          | 0/1000 [00:00<?, ?it/s]"
      ]
     },
     "metadata": {},
     "output_type": "display_data"
    },
    {
     "data": {
      "application/vnd.jupyter.widget-view+json": {
       "model_id": "efe34381889c4eb7aa5f080c31a53edd",
       "version_major": 2,
       "version_minor": 0
      },
      "text/plain": [
       "shuffle:   0%|          | 0/2 [00:00<?, ?it/s]"
      ]
     },
     "metadata": {},
     "output_type": "display_data"
    },
    {
     "data": {
      "application/vnd.jupyter.widget-view+json": {
       "model_id": "20ddf35fa3104dbfa4d46fbdc89f6e4b",
       "version_major": 2,
       "version_minor": 0
      },
      "text/plain": [
       "Adding data to hdf5 dataset:   0%|          | 0/1000 [00:00<?, ?it/s]"
      ]
     },
     "metadata": {},
     "output_type": "display_data"
    },
    {
     "data": {
      "application/vnd.jupyter.widget-view+json": {
       "model_id": "3c617a7879a848818dbb1d38acbb92f8",
       "version_major": 2,
       "version_minor": 0
      },
      "text/plain": [
       "repeats:   0%|          | 0/2 [00:00<?, ?it/s]"
      ]
     },
     "metadata": {},
     "output_type": "display_data"
    },
    {
     "data": {
      "application/vnd.jupyter.widget-view+json": {
       "model_id": "1f77c3950a5a457a80962efa5ac91c3e",
       "version_major": 2,
       "version_minor": 0
      },
      "text/plain": [
       "reading:   0%|          | 0/1000 [00:00<?, ?it/s]"
      ]
     },
     "metadata": {},
     "output_type": "display_data"
    },
    {
     "data": {
      "application/vnd.jupyter.widget-view+json": {
       "model_id": "da60a1b2ff3d43328dfe9bf073f22dd9",
       "version_major": 2,
       "version_minor": 0
      },
      "text/plain": [
       "reading:   0%|          | 0/1000 [00:00<?, ?it/s]"
      ]
     },
     "metadata": {},
     "output_type": "display_data"
    },
    {
     "data": {
      "application/vnd.jupyter.widget-view+json": {
       "model_id": "7efa1c56063a40e0b611d40f2d99b068",
       "version_major": 2,
       "version_minor": 0
      },
      "text/plain": [
       "Adding data to hdf5 dataset:   0%|          | 0/1000 [00:00<?, ?it/s]"
      ]
     },
     "metadata": {},
     "output_type": "display_data"
    },
    {
     "data": {
      "application/vnd.jupyter.widget-view+json": {
       "model_id": "3a22c426d89c41b2b70b0af0a673b83d",
       "version_major": 2,
       "version_minor": 0
      },
      "text/plain": [
       "repeats:   0%|          | 0/2 [00:00<?, ?it/s]"
      ]
     },
     "metadata": {},
     "output_type": "display_data"
    },
    {
     "data": {
      "application/vnd.jupyter.widget-view+json": {
       "model_id": "a0ee5cf3ee1a4a2889f44e51218c3bc5",
       "version_major": 2,
       "version_minor": 0
      },
      "text/plain": [
       "reading:   0%|          | 0/1000 [00:00<?, ?it/s]"
      ]
     },
     "metadata": {},
     "output_type": "display_data"
    },
    {
     "data": {
      "application/vnd.jupyter.widget-view+json": {
       "model_id": "8d8b2b809f8f44fa8dc76fbbb6b5af86",
       "version_major": 2,
       "version_minor": 0
      },
      "text/plain": [
       "reading:   0%|          | 0/1000 [00:00<?, ?it/s]"
      ]
     },
     "metadata": {},
     "output_type": "display_data"
    },
    {
     "data": {
      "application/vnd.jupyter.widget-view+json": {
       "model_id": "b2196177ee734b3ca6abed3979aa0377",
       "version_major": 2,
       "version_minor": 0
      },
      "text/plain": [
       "shuffle:   0%|          | 0/2 [00:00<?, ?it/s]"
      ]
     },
     "metadata": {},
     "output_type": "display_data"
    },
    {
     "data": {
      "application/vnd.jupyter.widget-view+json": {
       "model_id": "a406fd90f8b74bedb185126684f83bf6",
       "version_major": 2,
       "version_minor": 0
      },
      "text/plain": [
       "Adding data to hdf5 dataset:   0%|          | 0/1000 [00:00<?, ?it/s]"
      ]
     },
     "metadata": {},
     "output_type": "display_data"
    },
    {
     "data": {
      "application/vnd.jupyter.widget-view+json": {
       "model_id": "33d37ae3b5a9429f80ef5e50ae2cb78a",
       "version_major": 2,
       "version_minor": 0
      },
      "text/plain": [
       "repeats:   0%|          | 0/2 [00:00<?, ?it/s]"
      ]
     },
     "metadata": {},
     "output_type": "display_data"
    },
    {
     "data": {
      "application/vnd.jupyter.widget-view+json": {
       "model_id": "8490cdd97d204723af978806fbaac9ac",
       "version_major": 2,
       "version_minor": 0
      },
      "text/plain": [
       "reading:   0%|          | 0/1000 [00:00<?, ?it/s]"
      ]
     },
     "metadata": {},
     "output_type": "display_data"
    },
    {
     "data": {
      "application/vnd.jupyter.widget-view+json": {
       "model_id": "2c27009d92af462db5d5467e70efe4ff",
       "version_major": 2,
       "version_minor": 0
      },
      "text/plain": [
       "reading:   0%|          | 0/1000 [00:00<?, ?it/s]"
      ]
     },
     "metadata": {},
     "output_type": "display_data"
    },
    {
     "data": {
      "application/vnd.jupyter.widget-view+json": {
       "model_id": "06faff54845d44ed84c36d012643adc3",
       "version_major": 2,
       "version_minor": 0
      },
      "text/plain": [
       "Adding data to hdf5 dataset:   0%|          | 0/1000 [00:00<?, ?it/s]"
      ]
     },
     "metadata": {},
     "output_type": "display_data"
    },
    {
     "data": {
      "application/vnd.jupyter.widget-view+json": {
       "model_id": "76678230a6e648b393e158a45462e8b5",
       "version_major": 2,
       "version_minor": 0
      },
      "text/plain": [
       "repeats:   0%|          | 0/2 [00:00<?, ?it/s]"
      ]
     },
     "metadata": {},
     "output_type": "display_data"
    },
    {
     "data": {
      "application/vnd.jupyter.widget-view+json": {
       "model_id": "5b4c1a527f264305a23721658343be16",
       "version_major": 2,
       "version_minor": 0
      },
      "text/plain": [
       "reading:   0%|          | 0/1000 [00:00<?, ?it/s]"
      ]
     },
     "metadata": {},
     "output_type": "display_data"
    },
    {
     "data": {
      "application/vnd.jupyter.widget-view+json": {
       "model_id": "9c1234ff34f24040b7d2fbee5bdf7339",
       "version_major": 2,
       "version_minor": 0
      },
      "text/plain": [
       "reading:   0%|          | 0/1000 [00:00<?, ?it/s]"
      ]
     },
     "metadata": {},
     "output_type": "display_data"
    }
   ],
   "source": [
    "# run benchmark for dataloading without data loader\n",
    "results_plain_loading = evaluate_plain_loading(\n",
    "    # dataset_classes=[NpzBenchmarkDataset, HfArrowBenchmarkDataset, Hdf5BenchmarkDatset],\n",
    "    dataset_classes=[NpzBenchmarkDataset, Hdf5BenchmarkDatset],\n",
    "    n_rows=[10, 100, 500, 1000],\n",
    "    n_values_per_row=[10, 100, 1000, 10_000, 100_000, 1_000_000, 5_000_000, 10_000_000],\n",
    "    shuffle=[False, True],\n",
    "    max_dataset_size=100_000_000_000,\n",
    "    n_repeats=2,\n",
    "    dataset_init_kwargs=None,\n",
    ")\n",
    "\n",
    "df_plain = pd.DataFrame(results_plain_loading)\n",
    "df_plain[\"total_bytes\"] = df_plain[\"n_rows\"] * df_plain[\"n_values_per_row\"] * 8\n",
    "df_plain[\"mb_per_second\"] = df_plain[\"total_bytes\"] / df_plain[\"time\"] / 1_000_000\n",
    "df_plain[\"rows_per_second\"] = df_plain[\"n_rows\"] / df_plain[\"time\"]"
   ]
  },
  {
   "cell_type": "code",
   "execution_count": 3,
   "metadata": {},
   "outputs": [
    {
     "data": {
      "image/png": "[encoded data removed]",
      "text/plain": [
       "<Figure size 1098.25x500 with 2 Axes>"
      ]
     },
     "metadata": {},
     "output_type": "display_data"
    },
    {
     "data": {
      "image/png": "[encoded data removed]",
      "text/plain": [
       "<Figure size 1098.25x500 with 2 Axes>"
      ]
     },
     "metadata": {},
     "output_type": "display_data"
    }
   ],
   "source": [
    "# visualize the results for the plain loading\n",
    "\n",
    "sns.relplot(\n",
    "    data=df_plain,\n",
    "    x=\"n_values_per_row\",\n",
    "    y=\"mb_per_second\",\n",
    "    hue=df_plain[\"n_rows\"].astype(str),\n",
    "    style=df_plain[\"shuffle\"],\n",
    "    errorbar=(\"pi\", 100),\n",
    "    markers=True,\n",
    "    kind=\"line\",\n",
    "    col=\"dataset_type\",\n",
    ")\n",
    "plt.xscale(\"log\")\n",
    "plt.yscale(\"log\")\n",
    "plt.show()\n",
    "\n",
    "sns.relplot(\n",
    "    data=df_plain,\n",
    "    x=\"n_values_per_row\",\n",
    "    y=\"rows_per_second\",\n",
    "    hue=df_plain[\"n_rows\"].astype(str),\n",
    "    style=df_plain[\"shuffle\"],\n",
    "    errorbar=(\"pi\", 100),\n",
    "    markers=True,\n",
    "    kind=\"line\",\n",
    "    col=\"dataset_type\",\n",
    ")\n",
    "plt.xscale(\"log\")\n",
    "plt.yscale(\"log\")\n",
    "plt.show()\n",
    "\n",
    "# sns.relplot(\n",
    "#     data=df_plain,\n",
    "#     x=\"n_rows\",\n",
    "#     y=\"mb_per_second\",\n",
    "#     hue=df_plain[\"n_values_per_row\"].astype(str),\n",
    "#     style=df_plain[\"shuffle\"],\n",
    "#     errorbar=(\"pi\", 100),\n",
    "#     markers=True,\n",
    "#     kind=\"line\",\n",
    "#     col=\"dataset_type\",\n",
    "# )\n",
    "# plt.xscale(\"log\")\n",
    "# plt.yscale(\"log\")\n",
    "# plt.show()\n",
    "\n",
    "# sns.relplot(\n",
    "#     data=df_plain,\n",
    "#     x=\"n_rows\",\n",
    "#     y=\"rows_per_second\",\n",
    "#     hue=df_plain[\"n_values_per_row\"].astype(str),\n",
    "#     style=df_plain[\"shuffle\"],\n",
    "#     errorbar=(\"pi\", 100),\n",
    "#     markers=True,\n",
    "#     kind=\"line\",\n",
    "#     col=\"dataset_type\",\n",
    "# )\n",
    "# plt.xscale(\"log\")\n",
    "# plt.yscale(\"log\")\n",
    "plt.show()"
   ]
  }
 ],
 "metadata": {
  "kernelspec": {
   "display_name": "assemblyai",
   "language": "python",
   "name": "python3"
  },
  "language_info": {
   "codemirror_mode": {
    "name": "ipython",
    "version": 3
   },
   "file_extension": ".py",
   "mimetype": "text/x-python",
   "name": "python",
   "nbconvert_exporter": "python",
   "pygments_lexer": "ipython3",
   "version": "3.10.15"
  }
 },
 "nbformat": 4,
 "nbformat_minor": 2
}
