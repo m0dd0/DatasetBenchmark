{
 "cells": [
  {
   "cell_type": "code",
   "execution_count": null,
   "metadata": {},
   "outputs": [],
   "source": [
    "%load_ext autoreload\n",
    "%autoreload 2\n",
    "\n",
    "import pandas as pd\n",
    "import seaborn as sns\n",
    "from matplotlib import pyplot as plt\n",
    "\n",
    "from dataset_benchmark.datasets import NpzBenchmarkDataset, HfArrowBenchmarkDataset\n",
    "from dataset_benchmark.evaluation import evaluate_batched_loading"
   ]
  },
  {
   "cell_type": "code",
   "execution_count": null,
   "metadata": {},
   "outputs": [],
   "source": [
    "results_batched_dataloading = evaluate_batched_loading(\n",
    "    dataset_classes=[NpzBenchmarkDataset],\n",
    "    n_rows=500,\n",
    "    n_values_per_row=4_000_000,\n",
    "    batch_sizes=[4, 8], #, 16, 32],\n",
    "    shuffle=[True, False],\n",
    "    n_dataloader_workers=[0],\n",
    "    dataloder_pin_memory=[True, False],\n",
    "    max_dataset_size=100_000_000_000,\n",
    "    max_batch_size=4_000_000_000,\n",
    "    n_repeats=2,\n",
    "    dataset_init_kwargs=None,\n",
    ")\n",
    "\n",
    "df_batched = pd.DataFrame(results_batched_dataloading)\n",
    "df_batched[\"total_bytes\"] = df_batched[\"n_rows\"] * df_batched[\"n_values_per_row\"] * 8\n",
    "df_batched[\"mb_per_second\"] = df_batched[\"total_bytes\"] / df_batched[\"time\"] / 1_000_000\n",
    "df_batched[\"rows_per_second\"] = df_batched[\"n_rows\"] / df_batched[\"time\"]"
   ]
  },
  {
   "cell_type": "code",
   "execution_count": null,
   "metadata": {},
   "outputs": [],
   "source": [
    "# visualize the results for the batched loading\n",
    "\n",
    "sns.relplot(\n",
    "    data=df_batched,\n",
    "    x=\"batch_size\",\n",
    "    y=\"mb_per_second\",\n",
    "    hue=df_batched[\"n_dataloader_workers\"].astype(str),\n",
    "    style=df_batched[\"shuffle\"],\n",
    "    size=df_batched[\"dataloder_pin_memory\"],\n",
    "    errorbar=(\"pi\", 100),\n",
    "    markers=True,\n",
    "    col=\"datset_type\",\n",
    "    kind=\"line\",\n",
    "\n",
    ")\n",
    "plt.show()\n",
    "\n",
    "sns.relplot(\n",
    "    data=df_batched,\n",
    "    x=\"batch_size\",\n",
    "    y=\"rows_per_second\",\n",
    "    hue=df_batched[\"n_dataloader_workers\"].astype(str),\n",
    "    style=df_batched[\"shuffle\"],\n",
    "    size=df_batched[\"dataloder_pin_memory\"],\n",
    "    errorbar=(\"pi\", 100),\n",
    "    markers=True,\n",
    "    col=\"datset_type\",\n",
    "    kind=\"line\",\n",
    ")\n",
    "plt.show()"
   ]
  }
 ],
 "metadata": {
  "kernelspec": {
   "display_name": "assemblyai",
   "language": "python",
   "name": "python3"
  },
  "language_info": {
   "codemirror_mode": {
    "name": "ipython",
    "version": 3
   },
   "file_extension": ".py",
   "mimetype": "text/x-python",
   "name": "python",
   "nbconvert_exporter": "python",
   "pygments_lexer": "ipython3",
   "version": "3.10.15"
  }
 },
 "nbformat": 4,
 "nbformat_minor": 2
}
